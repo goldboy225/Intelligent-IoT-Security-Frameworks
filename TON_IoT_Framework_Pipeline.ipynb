{
  "nbformat": 4,
  "nbformat_minor": 0,
  "metadata": {
    "colab": {
      "provenance": [],
      "collapsed_sections": [
        "bQ-8zkgLymYp",
        "9OQP-49rzAHg",
        "KAB1cxKGY4NN",
        "qwt3_312Y_ub",
        "rd_87t0aCitv",
        "niVr9Gd0DV9h",
        "31J1r24EE09R",
        "9sBh3vNZ_xDr"
      ],
      "toc_visible": true,
      "mount_file_id": "1kKDalxY2fLIt4ud0HAshTJCrzkufhxhh",
      "authorship_tag": "ABX9TyNiYBvGj0YgxrVrSAHPnNKH",
      "include_colab_link": true
    },
    "kernelspec": {
      "name": "python3",
      "display_name": "Python 3"
    },
    "language_info": {
      "name": "python"
    }
  },
  "cells": [
    {
      "cell_type": "markdown",
      "metadata": {
        "id": "view-in-github",
        "colab_type": "text"
      },
      "source": [
        "<a href=\"https://colab.research.google.com/github/goldboy225/Intelligent-IoT-Security-Frameworks/blob/main/TON_IoT_Framework_Pipeline.ipynb\" target=\"_parent\"><img src=\"https://colab.research.google.com/assets/colab-badge.svg\" alt=\"Open In Colab\"/></a>"
      ]
    },
    {
      "cell_type": "markdown",
      "source": [
        "Mount the google drive"
      ],
      "metadata": {
        "id": "ryZ6Lizrvrot"
      }
    },
    {
      "cell_type": "code",
      "source": [
        "from google.colab import drive\n",
        "drive.mount('/content/drive')"
      ],
      "metadata": {
        "colab": {
          "base_uri": "https://localhost:8080/",
          "height": 350
        },
        "id": "bLAwqE-FvstK",
        "outputId": "bde8725e-fbaa-4af9-e2e1-382a5918c3bf"
      },
      "execution_count": 2,
      "outputs": [
        {
          "output_type": "error",
          "ename": "MessageError",
          "evalue": "ignored",
          "traceback": [
            "\u001b[0;31m---------------------------------------------------------------------------\u001b[0m",
            "\u001b[0;31mMessageError\u001b[0m                              Traceback (most recent call last)",
            "\u001b[0;32m<ipython-input-2-d5df0069828e>\u001b[0m in \u001b[0;36m<module>\u001b[0;34m\u001b[0m\n\u001b[1;32m      1\u001b[0m \u001b[0;32mfrom\u001b[0m \u001b[0mgoogle\u001b[0m\u001b[0;34m.\u001b[0m\u001b[0mcolab\u001b[0m \u001b[0;32mimport\u001b[0m \u001b[0mdrive\u001b[0m\u001b[0;34m\u001b[0m\u001b[0;34m\u001b[0m\u001b[0m\n\u001b[0;32m----> 2\u001b[0;31m \u001b[0mdrive\u001b[0m\u001b[0;34m.\u001b[0m\u001b[0mmount\u001b[0m\u001b[0;34m(\u001b[0m\u001b[0;34m'/content/drive'\u001b[0m\u001b[0;34m)\u001b[0m\u001b[0;34m\u001b[0m\u001b[0;34m\u001b[0m\u001b[0m\n\u001b[0m",
            "\u001b[0;32m/usr/local/lib/python3.8/dist-packages/google/colab/drive.py\u001b[0m in \u001b[0;36mmount\u001b[0;34m(mountpoint, force_remount, timeout_ms, readonly)\u001b[0m\n\u001b[1;32m     98\u001b[0m \u001b[0;32mdef\u001b[0m \u001b[0mmount\u001b[0m\u001b[0;34m(\u001b[0m\u001b[0mmountpoint\u001b[0m\u001b[0;34m,\u001b[0m \u001b[0mforce_remount\u001b[0m\u001b[0;34m=\u001b[0m\u001b[0;32mFalse\u001b[0m\u001b[0;34m,\u001b[0m \u001b[0mtimeout_ms\u001b[0m\u001b[0;34m=\u001b[0m\u001b[0;36m120000\u001b[0m\u001b[0;34m,\u001b[0m \u001b[0mreadonly\u001b[0m\u001b[0;34m=\u001b[0m\u001b[0;32mFalse\u001b[0m\u001b[0;34m)\u001b[0m\u001b[0;34m:\u001b[0m\u001b[0;34m\u001b[0m\u001b[0;34m\u001b[0m\u001b[0m\n\u001b[1;32m     99\u001b[0m   \u001b[0;34m\"\"\"Mount your Google Drive at the specified mountpoint path.\"\"\"\u001b[0m\u001b[0;34m\u001b[0m\u001b[0;34m\u001b[0m\u001b[0m\n\u001b[0;32m--> 100\u001b[0;31m   return _mount(\n\u001b[0m\u001b[1;32m    101\u001b[0m       \u001b[0mmountpoint\u001b[0m\u001b[0;34m,\u001b[0m\u001b[0;34m\u001b[0m\u001b[0;34m\u001b[0m\u001b[0m\n\u001b[1;32m    102\u001b[0m       \u001b[0mforce_remount\u001b[0m\u001b[0;34m=\u001b[0m\u001b[0mforce_remount\u001b[0m\u001b[0;34m,\u001b[0m\u001b[0;34m\u001b[0m\u001b[0;34m\u001b[0m\u001b[0m\n",
            "\u001b[0;32m/usr/local/lib/python3.8/dist-packages/google/colab/drive.py\u001b[0m in \u001b[0;36m_mount\u001b[0;34m(mountpoint, force_remount, timeout_ms, ephemeral, readonly)\u001b[0m\n\u001b[1;32m    121\u001b[0m       'TBE_EPHEM_CREDS_ADDR'] if ephemeral else _os.environ['TBE_CREDS_ADDR']\n\u001b[1;32m    122\u001b[0m   \u001b[0;32mif\u001b[0m \u001b[0mephemeral\u001b[0m\u001b[0;34m:\u001b[0m\u001b[0;34m\u001b[0m\u001b[0;34m\u001b[0m\u001b[0m\n\u001b[0;32m--> 123\u001b[0;31m     _message.blocking_request(\n\u001b[0m\u001b[1;32m    124\u001b[0m         'request_auth', request={'authType': 'dfs_ephemeral'}, timeout_sec=None)\n\u001b[1;32m    125\u001b[0m \u001b[0;34m\u001b[0m\u001b[0m\n",
            "\u001b[0;32m/usr/local/lib/python3.8/dist-packages/google/colab/_message.py\u001b[0m in \u001b[0;36mblocking_request\u001b[0;34m(request_type, request, timeout_sec, parent)\u001b[0m\n\u001b[1;32m    169\u001b[0m   request_id = send_request(\n\u001b[1;32m    170\u001b[0m       request_type, request, parent=parent, expect_reply=True)\n\u001b[0;32m--> 171\u001b[0;31m   \u001b[0;32mreturn\u001b[0m \u001b[0mread_reply_from_input\u001b[0m\u001b[0;34m(\u001b[0m\u001b[0mrequest_id\u001b[0m\u001b[0;34m,\u001b[0m \u001b[0mtimeout_sec\u001b[0m\u001b[0;34m)\u001b[0m\u001b[0;34m\u001b[0m\u001b[0;34m\u001b[0m\u001b[0m\n\u001b[0m",
            "\u001b[0;32m/usr/local/lib/python3.8/dist-packages/google/colab/_message.py\u001b[0m in \u001b[0;36mread_reply_from_input\u001b[0;34m(message_id, timeout_sec)\u001b[0m\n\u001b[1;32m    100\u001b[0m         reply.get('colab_msg_id') == message_id):\n\u001b[1;32m    101\u001b[0m       \u001b[0;32mif\u001b[0m \u001b[0;34m'error'\u001b[0m \u001b[0;32min\u001b[0m \u001b[0mreply\u001b[0m\u001b[0;34m:\u001b[0m\u001b[0;34m\u001b[0m\u001b[0;34m\u001b[0m\u001b[0m\n\u001b[0;32m--> 102\u001b[0;31m         \u001b[0;32mraise\u001b[0m \u001b[0mMessageError\u001b[0m\u001b[0;34m(\u001b[0m\u001b[0mreply\u001b[0m\u001b[0;34m[\u001b[0m\u001b[0;34m'error'\u001b[0m\u001b[0;34m]\u001b[0m\u001b[0;34m)\u001b[0m\u001b[0;34m\u001b[0m\u001b[0;34m\u001b[0m\u001b[0m\n\u001b[0m\u001b[1;32m    103\u001b[0m       \u001b[0;32mreturn\u001b[0m \u001b[0mreply\u001b[0m\u001b[0;34m.\u001b[0m\u001b[0mget\u001b[0m\u001b[0;34m(\u001b[0m\u001b[0;34m'data'\u001b[0m\u001b[0;34m,\u001b[0m \u001b[0;32mNone\u001b[0m\u001b[0;34m)\u001b[0m\u001b[0;34m\u001b[0m\u001b[0;34m\u001b[0m\u001b[0m\n\u001b[1;32m    104\u001b[0m \u001b[0;34m\u001b[0m\u001b[0m\n",
            "\u001b[0;31mMessageError\u001b[0m: Error: credential propagation was unsuccessful"
          ]
        }
      ]
    },
    {
      "cell_type": "markdown",
      "source": [
        "# 1. Data Collection"
      ],
      "metadata": {
        "id": "BCR4hzI9qCw1"
      }
    },
    {
      "cell_type": "markdown",
      "source": [
        "## 1.1 Import libraries"
      ],
      "metadata": {
        "id": "d9Hl17Oxjhri"
      }
    },
    {
      "cell_type": "code",
      "source": [
        "# install 3rd party lib for lightweight pandas\n",
        "# https://modin.readthedocs.io/en/stable/ https://github.com/modin-project/modin\n",
        "\n",
        "pip install modin"
      ],
      "metadata": {
        "colab": {
          "base_uri": "https://localhost:8080/",
          "height": 135
        },
        "id": "HUF0Nc4SEyH9",
        "outputId": "c480edf1-b420-4987-8c5b-eae81e07b7d8"
      },
      "execution_count": 3,
      "outputs": [
        {
          "output_type": "error",
          "ename": "SyntaxError",
          "evalue": "ignored",
          "traceback": [
            "\u001b[0;36m  File \u001b[0;32m\"<ipython-input-3-4681af189b19>\"\u001b[0;36m, line \u001b[0;32m4\u001b[0m\n\u001b[0;31m    pip install modin\u001b[0m\n\u001b[0m        ^\u001b[0m\n\u001b[0;31mSyntaxError\u001b[0m\u001b[0;31m:\u001b[0m invalid syntax\n"
          ]
        }
      ]
    },
    {
      "cell_type": "code",
      "source": [
        "# data cleaning and plots\n",
        "import pandas as pd\n",
        "#import modin.pandas as pd\n",
        "import numpy as np\n",
        "import seaborn as sns\n",
        "import matplotlib.pyplot as plt\n",
        "plt.style.use('ggplot')\n",
        "%matplotlib inline\n",
        "\n",
        "# sklearn: data preprocessing\n",
        "from sklearn.preprocessing import MinMaxScaler\n",
        "from sklearn.compose import ColumnTransformer\n",
        "from sklearn.preprocessing import StandardScaler, LabelEncoder, OneHotEncoder\n",
        "import missingno\n",
        "\n",
        "# sklearn: train model\n",
        "from sklearn.model_selection import train_test_split\n",
        "from sklearn.model_selection import cross_val_score, cross_validate, StratifiedKFold\n",
        "from sklearn.metrics import precision_recall_curve, precision_score, recall_score, f1_score, accuracy_score\n",
        "from sklearn.metrics import roc_curve, auc, roc_auc_score, confusion_matrix, classification_report, plot_roc_curve\n",
        "\n",
        "# sklearn classifiers\n",
        "from sklearn.linear_model import LogisticRegression\n",
        "from sklearn.tree import DecisionTreeClassifier\n",
        "from sklearn.ensemble import RandomForestClassifier\n",
        "from sklearn.neural_network import MLPClassifier\n",
        "\n",
        "# optimization algorithms\n",
        "from sklearn.model_selection import GridSearchCV\n",
        "import itertools\n",
        "import matplotlib.gridspec as gridspec \n",
        "\n",
        "# timestamp for noting time resource operation\n",
        "from pandas import Timestamp\n",
        "\n",
        "# os lib\n",
        "import os  # print (\"current directory : %s\" % os.getcwd())\n",
        "\n",
        "# Ignore warnings\n",
        "import warnings\n",
        "warnings.filterwarnings(\"ignore\")"
      ],
      "metadata": {
        "id": "5e1ZA9r9jTX5"
      },
      "execution_count": 9,
      "outputs": []
    },
    {
      "cell_type": "markdown",
      "source": [
        "## 1.2 Load the dataset"
      ],
      "metadata": {
        "id": "aomav1RkUU4-"
      }
    },
    {
      "cell_type": "code",
      "execution_count": 10,
      "metadata": {
        "id": "W9UnRdy9SWba"
      },
      "outputs": [],
      "source": [
        "# load the original dataset, which have not been processed by the authors\n",
        "df = pd.read_csv('/content/drive/MyDrive/Datasets/TON-IoT/Train_Test_Network.csv')"
      ]
    },
    {
      "cell_type": "markdown",
      "source": [
        "## 1.3 Data Sanity Check"
      ],
      "metadata": {
        "id": "waZSHoAyUcw8"
      }
    },
    {
      "cell_type": "code",
      "source": [
        "# Check the dataframe\n",
        "\n",
        "df.head(10)"
      ],
      "metadata": {
        "id": "InuVVx7Fj47n"
      },
      "execution_count": null,
      "outputs": []
    },
    {
      "cell_type": "code",
      "source": [
        "df.info()"
      ],
      "metadata": {
        "id": "oqJUDUwmoi8I"
      },
      "execution_count": null,
      "outputs": []
    },
    {
      "cell_type": "code",
      "source": [
        "# check the size of the data\n",
        "\n",
        "print(df.shape)"
      ],
      "metadata": {
        "id": "3xQSqLvUW2O_"
      },
      "execution_count": null,
      "outputs": []
    },
    {
      "cell_type": "code",
      "source": [
        "# Check the columns of the data\n",
        "\n",
        "print(df.columns)"
      ],
      "metadata": {
        "id": "QHVkA3etW44S"
      },
      "execution_count": null,
      "outputs": []
    },
    {
      "cell_type": "code",
      "source": [
        "df.describe(include = 'all').T"
      ],
      "metadata": {
        "id": "Ra6vJ3jBozTP"
      },
      "execution_count": null,
      "outputs": []
    },
    {
      "cell_type": "markdown",
      "source": [
        "# 2. Exploration Data Analysis (EDA)"
      ],
      "metadata": {
        "id": "1BwTJOAiRcyZ"
      }
    },
    {
      "cell_type": "markdown",
      "source": [
        "## 2.1 Check the count and distribution of target classes"
      ],
      "metadata": {
        "id": "_jb5DP852ada"
      }
    },
    {
      "cell_type": "code",
      "source": [
        "# to install matplotlib in order to show the figure in the following steps\n",
        "\n",
        "#! python -m pip uninstall matplotlib\n",
        "#! pip install matplotlib==3.1.3\n",
        "\n",
        "\n",
        "# Check the count of normal and attack class\n",
        "\n",
        "counts = df.value_counts('label')\n",
        "print(counts)"
      ],
      "metadata": {
        "colab": {
          "base_uri": "https://localhost:8080/"
        },
        "id": "QB28lJ5aYCdB",
        "outputId": "5d48e6ff-cfae-4143-b21d-d542ecf5df7a"
      },
      "execution_count": null,
      "outputs": [
        {
          "output_type": "stream",
          "name": "stdout",
          "text": [
            "label\n",
            "0    300000\n",
            "1    161043\n",
            "dtype: int64\n"
          ]
        }
      ]
    },
    {
      "cell_type": "code",
      "source": [
        "# let's see the distribution of our target normal/attack by bar chart\n",
        "\n",
        "plt.figure(figsize=(8,5))\n",
        "ax = sns.countplot(x = 'label', data = df, palette = 'Set2')\n",
        "for container in ax.containers:\n",
        "    ax.bar_label(container)"
      ],
      "metadata": {
        "colab": {
          "base_uri": "https://localhost:8080/",
          "height": 528
        },
        "id": "RTVoFsEKzbtB",
        "outputId": "dfed43d2-59ed-470c-d447-b60534353c9b"
      },
      "execution_count": null,
      "outputs": [
        {
          "output_type": "error",
          "ename": "AttributeError",
          "evalue": "ignored",
          "traceback": [
            "\u001b[0;31m---------------------------------------------------------------------------\u001b[0m",
            "\u001b[0;31mAttributeError\u001b[0m                            Traceback (most recent call last)",
            "\u001b[0;32m<ipython-input-10-aa0a1fe09dd5>\u001b[0m in \u001b[0;36m<module>\u001b[0;34m\u001b[0m\n\u001b[1;32m      4\u001b[0m \u001b[0max\u001b[0m \u001b[0;34m=\u001b[0m \u001b[0msns\u001b[0m\u001b[0;34m.\u001b[0m\u001b[0mcountplot\u001b[0m\u001b[0;34m(\u001b[0m\u001b[0mx\u001b[0m \u001b[0;34m=\u001b[0m \u001b[0;34m'label'\u001b[0m\u001b[0;34m,\u001b[0m \u001b[0mdata\u001b[0m \u001b[0;34m=\u001b[0m \u001b[0mdf\u001b[0m\u001b[0;34m,\u001b[0m \u001b[0mpalette\u001b[0m \u001b[0;34m=\u001b[0m \u001b[0;34m'Set2'\u001b[0m\u001b[0;34m)\u001b[0m\u001b[0;34m\u001b[0m\u001b[0;34m\u001b[0m\u001b[0m\n\u001b[1;32m      5\u001b[0m \u001b[0;32mfor\u001b[0m \u001b[0mcontainer\u001b[0m \u001b[0;32min\u001b[0m \u001b[0max\u001b[0m\u001b[0;34m.\u001b[0m\u001b[0mcontainers\u001b[0m\u001b[0;34m:\u001b[0m\u001b[0;34m\u001b[0m\u001b[0;34m\u001b[0m\u001b[0m\n\u001b[0;32m----> 6\u001b[0;31m     \u001b[0max\u001b[0m\u001b[0;34m.\u001b[0m\u001b[0mbar_label\u001b[0m\u001b[0;34m(\u001b[0m\u001b[0mcontainer\u001b[0m\u001b[0;34m)\u001b[0m\u001b[0;34m\u001b[0m\u001b[0;34m\u001b[0m\u001b[0m\n\u001b[0m",
            "\u001b[0;31mAttributeError\u001b[0m: 'AxesSubplot' object has no attribute 'bar_label'"
          ]
        },
        {
          "output_type": "display_data",
          "data": {
            "text/plain": [
              "<Figure size 576x360 with 1 Axes>"
            ],
            "image/png": "[encoded data removed]"
          },
          "metadata": {
            "needs_background": "light"
          }
        }
      ]
    },
    {
      "cell_type": "code",
      "source": [
        "# Check the count of category class\n",
        "\n",
        "counts = df.value_counts('type')\n",
        "print(counts)"
      ],
      "metadata": {
        "colab": {
          "base_uri": "https://localhost:8080/"
        },
        "id": "wryL5Ihg05CM",
        "outputId": "ce2d264a-1a0b-431c-e119-74a4140bfcbb"
      },
      "execution_count": null,
      "outputs": [
        {
          "output_type": "stream",
          "name": "stdout",
          "text": [
            "type\n",
            "normal        300000\n",
            "backdoor       20000\n",
            "ddos           20000\n",
            "dos            20000\n",
            "injection      20000\n",
            "password       20000\n",
            "ransomware     20000\n",
            "scanning       20000\n",
            "xss            20000\n",
            "mitm            1043\n",
            "dtype: int64\n"
          ]
        }
      ]
    },
    {
      "cell_type": "code",
      "source": [
        "# let's see the distribution of our target category by bar chart\n",
        "\n",
        "plt.figure(figsize=(8,5))\n",
        "ax = sns.countplot(x = 'type', data = df, palette = 'Set2')\n",
        "for container in ax.containers:\n",
        "    ax.bar_label(container)"
      ],
      "metadata": {
        "colab": {
          "base_uri": "https://localhost:8080/",
          "height": 528
        },
        "id": "qkf7yrQu1Igf",
        "outputId": "e8045712-adc2-4488-8630-66f969a83422"
      },
      "execution_count": null,
      "outputs": [
        {
          "output_type": "error",
          "ename": "AttributeError",
          "evalue": "ignored",
          "traceback": [
            "\u001b[0;31m---------------------------------------------------------------------------\u001b[0m",
            "\u001b[0;31mAttributeError\u001b[0m                            Traceback (most recent call last)",
            "\u001b[0;32m<ipython-input-12-1f5eb2dac20e>\u001b[0m in \u001b[0;36m<module>\u001b[0;34m\u001b[0m\n\u001b[1;32m      4\u001b[0m \u001b[0max\u001b[0m \u001b[0;34m=\u001b[0m \u001b[0msns\u001b[0m\u001b[0;34m.\u001b[0m\u001b[0mcountplot\u001b[0m\u001b[0;34m(\u001b[0m\u001b[0mx\u001b[0m \u001b[0;34m=\u001b[0m \u001b[0;34m'type'\u001b[0m\u001b[0;34m,\u001b[0m \u001b[0mdata\u001b[0m \u001b[0;34m=\u001b[0m \u001b[0mdf\u001b[0m\u001b[0;34m,\u001b[0m \u001b[0mpalette\u001b[0m \u001b[0;34m=\u001b[0m \u001b[0;34m'Set2'\u001b[0m\u001b[0;34m)\u001b[0m\u001b[0;34m\u001b[0m\u001b[0;34m\u001b[0m\u001b[0m\n\u001b[1;32m      5\u001b[0m \u001b[0;32mfor\u001b[0m \u001b[0mcontainer\u001b[0m \u001b[0;32min\u001b[0m \u001b[0max\u001b[0m\u001b[0;34m.\u001b[0m\u001b[0mcontainers\u001b[0m\u001b[0;34m:\u001b[0m\u001b[0;34m\u001b[0m\u001b[0;34m\u001b[0m\u001b[0m\n\u001b[0;32m----> 6\u001b[0;31m     \u001b[0max\u001b[0m\u001b[0;34m.\u001b[0m\u001b[0mbar_label\u001b[0m\u001b[0;34m(\u001b[0m\u001b[0mcontainer\u001b[0m\u001b[0;34m)\u001b[0m\u001b[0;34m\u001b[0m\u001b[0;34m\u001b[0m\u001b[0m\n\u001b[0m",
            "\u001b[0;31mAttributeError\u001b[0m: 'AxesSubplot' object has no attribute 'bar_label'"
          ]
        },
        {
          "output_type": "display_data",
          "data": {
            "text/plain": [
              "<Figure size 576x360 with 1 Axes>"
            ],
            "image/png": "[encoded data removed]"
          },
          "metadata": {
            "needs_background": "light"
          }
        }
      ]
    },
    {
      "cell_type": "code",
      "source": [
        "# helper function for drawing mulitple charts.\n",
        "\n",
        "def bake_pies(data_list,labels):\n",
        "    list_length = len(data_list)\n",
        "    \n",
        "    # setup for mapping colors\n",
        "    color_list = sns.color_palette()\n",
        "    color_cycle = itertools.cycle(color_list)\n",
        "    cdict = {}\n",
        "    \n",
        "    # build the subplots\n",
        "    fig, axs = plt.subplots(1, list_length,figsize=(18,10), tight_layout=False)\n",
        "    plt.subplots_adjust(wspace=1/list_length)\n",
        "    \n",
        "    # loop through the data sets and build the charts\n",
        "    for count, data_set in enumerate(data_list): \n",
        "        # update our color mapt with new values\n",
        "        for num, value in enumerate(np.unique(data_set.index)):\n",
        "            if value not in cdict:\n",
        "                cdict[value] = next(color_cycle)\n",
        "       \n",
        "        # build the wedges\n",
        "        wedges,texts = axs[count].pie(data_set,\n",
        "                           colors=[cdict[v] for v in data_set.index])\n",
        "\n",
        "        # build the legend\n",
        "        axs[count].legend(wedges, data_set.index,\n",
        "                           title=\"Flags\",\n",
        "                           loc=\"center left\",\n",
        "                           bbox_to_anchor=(1, 0, 0.5, 1))\n",
        "        # set the title\n",
        "        axs[count].set_title(labels[count])\n",
        "        \n",
        "    return axs"
      ],
      "metadata": {
        "id": "Cs-G_cvvzezf"
      },
      "execution_count": null,
      "outputs": []
    },
    {
      "cell_type": "code",
      "source": [
        "# Use pie chart to show the distribution of the target classes based on the protocols\n",
        "\n",
        "normal_protocol = df.loc[df.label == 0].proto.value_counts()\n",
        "attack_protocol = df.loc[df.label == 1].proto.value_counts()\n",
        "\n",
        "protocol_axs = bake_pies([normal_protocol, attack_protocol], ['Normal','Attack'])\n",
        "plt.show()"
      ],
      "metadata": {
        "colab": {
          "base_uri": "https://localhost:8080/",
          "height": 423
        },
        "id": "eRuEECECzgsz",
        "outputId": "18e353a8-669f-4240-cb49-3b3aa64da5f9"
      },
      "execution_count": null,
      "outputs": [
        {
          "output_type": "display_data",
          "data": {
            "text/plain": [
              "<Figure size 1296x720 with 2 Axes>"
            ],
            "image/png": "[encoded data removed]"
          },
          "metadata": {}
        }
      ]
    },
    {
      "cell_type": "code",
      "source": [
        "# let's see the target classses using another bar chart\n",
        "\n",
        "plt.figure(figsize=(10,7))\n",
        "sns.countplot(y='label' , data=df, order = df['label'].value_counts().index)"
      ],
      "metadata": {
        "colab": {
          "base_uri": "https://localhost:8080/",
          "height": 463
        },
        "id": "cf79PipYzsZH",
        "outputId": "ad811e0a-d4d0-48b2-f80c-690c7a2785a5"
      },
      "execution_count": null,
      "outputs": [
        {
          "output_type": "execute_result",
          "data": {
            "text/plain": [
              "<matplotlib.axes._subplots.AxesSubplot at 0x7fb4a9404670>"
            ]
          },
          "metadata": {},
          "execution_count": 17
        },
        {
          "output_type": "display_data",
          "data": {
            "text/plain": [
              "<Figure size 720x504 with 1 Axes>"
            ],
            "image/png": "[encoded data removed]"
          },
          "metadata": {
            "needs_background": "light"
          }
        }
      ]
    },
    {
      "cell_type": "markdown",
      "source": [
        "## 2.2 Check the corrlelation between variables"
      ],
      "metadata": {
        "id": "bQ-8zkgLymYp"
      }
    },
    {
      "cell_type": "code",
      "source": [
        "# Check the correlation matrix between among the attributes\n",
        "\n",
        "corr = df.corr()\n",
        "#sns.heatmap(corr, annot=True, cmap='coolwarm')\n",
        "\n",
        "fig, ax = plt.subplots(figsize=(16,16))         # Sample figsize in inches\n",
        "sns.heatmap(corr, annot = True, cmap='coolwarm', linewidths=.5, ax=ax)"
      ],
      "metadata": {
        "colab": {
          "base_uri": "https://localhost:8080/",
          "height": 1000
        },
        "id": "D2Px8iyh4vaf",
        "outputId": "70d73e0a-2d88-4ba9-8bd8-4bd75a394fbb"
      },
      "execution_count": null,
      "outputs": [
        {
          "output_type": "execute_result",
          "data": {
            "text/plain": [
              "<matplotlib.axes._subplots.AxesSubplot at 0x7fb4a57fe2e0>"
            ]
          },
          "metadata": {},
          "execution_count": 21
        },
        {
          "output_type": "display_data",
          "data": {
            "text/plain": [
              "<Figure size 1152x1152 with 2 Axes>"
            ],
            "image/png": "[encoded data removed]"
          },
          "metadata": {
            "needs_background": "light"
          }
        }
      ]
    },
    {
      "cell_type": "code",
      "source": [
        "# let's see protocol type vs. our target(attack) by bar chart\n",
        "\n",
        "plt.figure(figsize=(8,5))\n",
        "ax = sns.countplot(x='proto', hue='label', data = df, palette ='Set2')\n",
        "for container in ax.containers:\n",
        "    ax.bar_label(container)"
      ],
      "metadata": {
        "colab": {
          "base_uri": "https://localhost:8080/",
          "height": 528
        },
        "id": "Y9meAXpF54Dm",
        "outputId": "cae902d9-eb06-4efe-9ec7-b317bf12b284"
      },
      "execution_count": null,
      "outputs": [
        {
          "output_type": "error",
          "ename": "AttributeError",
          "evalue": "ignored",
          "traceback": [
            "\u001b[0;31m---------------------------------------------------------------------------\u001b[0m",
            "\u001b[0;31mAttributeError\u001b[0m                            Traceback (most recent call last)",
            "\u001b[0;32m<ipython-input-22-811ebdf7c985>\u001b[0m in \u001b[0;36m<module>\u001b[0;34m\u001b[0m\n\u001b[1;32m      4\u001b[0m \u001b[0max\u001b[0m \u001b[0;34m=\u001b[0m \u001b[0msns\u001b[0m\u001b[0;34m.\u001b[0m\u001b[0mcountplot\u001b[0m\u001b[0;34m(\u001b[0m\u001b[0mx\u001b[0m\u001b[0;34m=\u001b[0m\u001b[0;34m'proto'\u001b[0m\u001b[0;34m,\u001b[0m \u001b[0mhue\u001b[0m\u001b[0;34m=\u001b[0m\u001b[0;34m'label'\u001b[0m\u001b[0;34m,\u001b[0m \u001b[0mdata\u001b[0m \u001b[0;34m=\u001b[0m \u001b[0mdf\u001b[0m\u001b[0;34m,\u001b[0m \u001b[0mpalette\u001b[0m \u001b[0;34m=\u001b[0m\u001b[0;34m'Set2'\u001b[0m\u001b[0;34m)\u001b[0m\u001b[0;34m\u001b[0m\u001b[0;34m\u001b[0m\u001b[0m\n\u001b[1;32m      5\u001b[0m \u001b[0;32mfor\u001b[0m \u001b[0mcontainer\u001b[0m \u001b[0;32min\u001b[0m \u001b[0max\u001b[0m\u001b[0;34m.\u001b[0m\u001b[0mcontainers\u001b[0m\u001b[0;34m:\u001b[0m\u001b[0;34m\u001b[0m\u001b[0;34m\u001b[0m\u001b[0m\n\u001b[0;32m----> 6\u001b[0;31m     \u001b[0max\u001b[0m\u001b[0;34m.\u001b[0m\u001b[0mbar_label\u001b[0m\u001b[0;34m(\u001b[0m\u001b[0mcontainer\u001b[0m\u001b[0;34m)\u001b[0m\u001b[0;34m\u001b[0m\u001b[0;34m\u001b[0m\u001b[0m\n\u001b[0m",
            "\u001b[0;31mAttributeError\u001b[0m: 'AxesSubplot' object has no attribute 'bar_label'"
          ]
        },
        {
          "output_type": "display_data",
          "data": {
            "text/plain": [
              "<Figure size 576x360 with 1 Axes>"
            ],
            "image/png": "[encoded data removed]"
          },
          "metadata": {
            "needs_background": "light"
          }
        }
      ]
    },
    {
      "cell_type": "markdown",
      "source": [
        "## 2.3 Check the distribution for the features"
      ],
      "metadata": {
        "id": "9OQP-49rzAHg"
      }
    },
    {
      "cell_type": "code",
      "source": [
        "# Define history plot function for statistic features\n",
        "\n",
        "def plot_hist(df, cols, title):\n",
        "    grid = gridspec.GridSpec(10, 2, wspace=0.5, hspace=0.5) \n",
        "    fig = plt.figure(figsize=(20,30)) \n",
        "    \n",
        "    for n, col in enumerate(df[cols]):         \n",
        "        ax = plt.subplot(grid[n]) \n",
        "\n",
        "        ax.hist(df[col], bins=20) \n",
        "        #ax.set_ylabel('Count', fontsize=12)\n",
        "        ax.set_title(f'{col} distribution', fontsize=15) \n",
        "    fig.suptitle(title, fontsize=20)\n",
        "    grid.tight_layout(fig, rect=[0, 0, 1, 0.97])\n",
        "    plt.show()"
      ],
      "metadata": {
        "id": "I1DF4wGCt6rN"
      },
      "execution_count": null,
      "outputs": []
    },
    {
      "cell_type": "code",
      "source": [
        "# using plot_hist function to present plot history of selected statistic features\n",
        "\n",
        "hist_cols = [ 'duration', 'src_bytes', 'dst_bytes', 'conn_state', 'missed_bytes', \\\n",
        "              'src_pkts', 'src_ip_bytes', 'dst_pkts', 'dst_ip_bytes', 'dns_query', \\\n",
        "              'dns_qclass', 'dns_qtype', 'dns_rcode', 'dns_AA', 'dns_RD', 'dns_RA', \\\n",
        "              'dns_rejected', 'ssl_version', 'ssl_cipher', 'ssl_resumed', \\\n",
        "#              'ssl_established', 'ssl_subject', 'ssl_issuer', 'http_trans_depth', \\\n",
        "#              'http_method', 'http_uri', 'http_version', 'http_request_body_len', \\\n",
        "#              'http_response_body_len', 'http_status_code', 'http_user_agent', \\\n",
        "#              'http_orig_mime_types', 'http_resp_mime_types', 'weird_name', \\\n",
        "#              'weird_addl', 'weird_notice'\n",
        "            ]\n",
        "    \n",
        "plot_hist(df, hist_cols, 'Distributions of Statistic Features in Data Set')"
      ],
      "metadata": {
        "colab": {
          "base_uri": "https://localhost:8080/",
          "height": 1000
        },
        "id": "hq9P4CGavTij",
        "outputId": "b6a197dc-6073-41bb-cf7f-4425099dfb94"
      },
      "execution_count": null,
      "outputs": [
        {
          "output_type": "display_data",
          "data": {
            "text/plain": [
              "<Figure size 1440x2160 with 20 Axes>"
            ],
            "image/png": "[encoded data removed]"
          },
          "metadata": {
            "needs_background": "light"
          }
        }
      ]
    },
    {
      "cell_type": "code",
      "source": [
        "# Check distribution of each feature towards attack\n",
        "\n",
        "numeric_features = [i for i in df.columns if df[i].dtype!='O']\n",
        "categorical_features = [i for i in df.columns if df[i].dtype =='O']\n",
        "\n",
        "plt.figure(figsize=(18,18))\n",
        "plt.suptitle('Univariate Analysis of Numerical Features With Attack', fontsize=20, fontweight='bold', alpha=0.8, y=1.)\n",
        "\n",
        "for i in range(0, len(numeric_features)):\n",
        "    plt.subplot(7, 2, i+1)\n",
        "    sns.kdeplot(x= df[numeric_features[i]], shade=True, hue='label' ,data=df)\n",
        "    plt.xlabel(numeric_features[i])\n",
        "    plt.tight_layout()"
      ],
      "metadata": {
        "colab": {
          "base_uri": "https://localhost:8080/",
          "height": 1000
        },
        "id": "6u_zQCdax4x2",
        "outputId": "211946e9-5497-4b13-d572-3cca94a45dab"
      },
      "execution_count": null,
      "outputs": [
        {
          "output_type": "error",
          "ename": "ValueError",
          "evalue": "ignored",
          "traceback": [
            "\u001b[0;31m---------------------------------------------------------------------------\u001b[0m",
            "\u001b[0;31mValueError\u001b[0m                                Traceback (most recent call last)",
            "\u001b[0;32m<ipython-input-6-aae1814b5c9a>\u001b[0m in \u001b[0;36m<module>\u001b[0;34m\u001b[0m\n\u001b[1;32m      8\u001b[0m \u001b[0;34m\u001b[0m\u001b[0m\n\u001b[1;32m      9\u001b[0m \u001b[0;32mfor\u001b[0m \u001b[0mi\u001b[0m \u001b[0;32min\u001b[0m \u001b[0mrange\u001b[0m\u001b[0;34m(\u001b[0m\u001b[0;36m0\u001b[0m\u001b[0;34m,\u001b[0m \u001b[0mlen\u001b[0m\u001b[0;34m(\u001b[0m\u001b[0mnumeric_features\u001b[0m\u001b[0;34m)\u001b[0m\u001b[0;34m)\u001b[0m\u001b[0;34m:\u001b[0m\u001b[0;34m\u001b[0m\u001b[0;34m\u001b[0m\u001b[0m\n\u001b[0;32m---> 10\u001b[0;31m     \u001b[0mplt\u001b[0m\u001b[0;34m.\u001b[0m\u001b[0msubplot\u001b[0m\u001b[0;34m(\u001b[0m\u001b[0;36m7\u001b[0m\u001b[0;34m,\u001b[0m \u001b[0;36m2\u001b[0m\u001b[0;34m,\u001b[0m \u001b[0mi\u001b[0m\u001b[0;34m+\u001b[0m\u001b[0;36m1\u001b[0m\u001b[0;34m)\u001b[0m\u001b[0;34m\u001b[0m\u001b[0;34m\u001b[0m\u001b[0m\n\u001b[0m\u001b[1;32m     11\u001b[0m     \u001b[0msns\u001b[0m\u001b[0;34m.\u001b[0m\u001b[0mkdeplot\u001b[0m\u001b[0;34m(\u001b[0m\u001b[0mx\u001b[0m\u001b[0;34m=\u001b[0m \u001b[0mdf\u001b[0m\u001b[0;34m[\u001b[0m\u001b[0mnumeric_features\u001b[0m\u001b[0;34m[\u001b[0m\u001b[0mi\u001b[0m\u001b[0;34m]\u001b[0m\u001b[0;34m]\u001b[0m\u001b[0;34m,\u001b[0m \u001b[0mshade\u001b[0m\u001b[0;34m=\u001b[0m\u001b[0;32mTrue\u001b[0m\u001b[0;34m,\u001b[0m \u001b[0mhue\u001b[0m\u001b[0;34m=\u001b[0m\u001b[0;34m'label'\u001b[0m \u001b[0;34m,\u001b[0m\u001b[0mdata\u001b[0m\u001b[0;34m=\u001b[0m\u001b[0mdf\u001b[0m\u001b[0;34m)\u001b[0m\u001b[0;34m\u001b[0m\u001b[0;34m\u001b[0m\u001b[0m\n\u001b[1;32m     12\u001b[0m     \u001b[0mplt\u001b[0m\u001b[0;34m.\u001b[0m\u001b[0mxlabel\u001b[0m\u001b[0;34m(\u001b[0m\u001b[0mnumeric_features\u001b[0m\u001b[0;34m[\u001b[0m\u001b[0mi\u001b[0m\u001b[0;34m]\u001b[0m\u001b[0;34m)\u001b[0m\u001b[0;34m\u001b[0m\u001b[0;34m\u001b[0m\u001b[0m\n",
            "\u001b[0;32m/usr/local/lib/python3.8/dist-packages/matplotlib/pyplot.py\u001b[0m in \u001b[0;36msubplot\u001b[0;34m(*args, **kwargs)\u001b[0m\n\u001b[1;32m   1028\u001b[0m \u001b[0;34m\u001b[0m\u001b[0m\n\u001b[1;32m   1029\u001b[0m     \u001b[0mfig\u001b[0m \u001b[0;34m=\u001b[0m \u001b[0mgcf\u001b[0m\u001b[0;34m(\u001b[0m\u001b[0;34m)\u001b[0m\u001b[0;34m\u001b[0m\u001b[0;34m\u001b[0m\u001b[0m\n\u001b[0;32m-> 1030\u001b[0;31m     \u001b[0ma\u001b[0m \u001b[0;34m=\u001b[0m \u001b[0mfig\u001b[0m\u001b[0;34m.\u001b[0m\u001b[0madd_subplot\u001b[0m\u001b[0;34m(\u001b[0m\u001b[0;34m*\u001b[0m\u001b[0margs\u001b[0m\u001b[0;34m,\u001b[0m \u001b[0;34m**\u001b[0m\u001b[0mkwargs\u001b[0m\u001b[0;34m)\u001b[0m\u001b[0;34m\u001b[0m\u001b[0;34m\u001b[0m\u001b[0m\n\u001b[0m\u001b[1;32m   1031\u001b[0m     \u001b[0mbbox\u001b[0m \u001b[0;34m=\u001b[0m \u001b[0ma\u001b[0m\u001b[0;34m.\u001b[0m\u001b[0mbbox\u001b[0m\u001b[0;34m\u001b[0m\u001b[0;34m\u001b[0m\u001b[0m\n\u001b[1;32m   1032\u001b[0m     \u001b[0mbyebye\u001b[0m \u001b[0;34m=\u001b[0m \u001b[0;34m[\u001b[0m\u001b[0;34m]\u001b[0m\u001b[0;34m\u001b[0m\u001b[0;34m\u001b[0m\u001b[0m\n",
            "\u001b[0;32m/usr/local/lib/python3.8/dist-packages/matplotlib/figure.py\u001b[0m in \u001b[0;36madd_subplot\u001b[0;34m(self, *args, **kwargs)\u001b[0m\n\u001b[1;32m   1417\u001b[0m                     \u001b[0mself\u001b[0m\u001b[0;34m.\u001b[0m\u001b[0m_axstack\u001b[0m\u001b[0;34m.\u001b[0m\u001b[0mremove\u001b[0m\u001b[0;34m(\u001b[0m\u001b[0max\u001b[0m\u001b[0;34m)\u001b[0m\u001b[0;34m\u001b[0m\u001b[0;34m\u001b[0m\u001b[0m\n\u001b[1;32m   1418\u001b[0m \u001b[0;34m\u001b[0m\u001b[0m\n\u001b[0;32m-> 1419\u001b[0;31m             \u001b[0ma\u001b[0m \u001b[0;34m=\u001b[0m \u001b[0msubplot_class_factory\u001b[0m\u001b[0;34m(\u001b[0m\u001b[0mprojection_class\u001b[0m\u001b[0;34m)\u001b[0m\u001b[0;34m(\u001b[0m\u001b[0mself\u001b[0m\u001b[0;34m,\u001b[0m \u001b[0;34m*\u001b[0m\u001b[0margs\u001b[0m\u001b[0;34m,\u001b[0m \u001b[0;34m**\u001b[0m\u001b[0mkwargs\u001b[0m\u001b[0;34m)\u001b[0m\u001b[0;34m\u001b[0m\u001b[0;34m\u001b[0m\u001b[0m\n\u001b[0m\u001b[1;32m   1420\u001b[0m \u001b[0;34m\u001b[0m\u001b[0m\n\u001b[1;32m   1421\u001b[0m         \u001b[0;32mreturn\u001b[0m \u001b[0mself\u001b[0m\u001b[0;34m.\u001b[0m\u001b[0m_add_axes_internal\u001b[0m\u001b[0;34m(\u001b[0m\u001b[0mkey\u001b[0m\u001b[0;34m,\u001b[0m \u001b[0ma\u001b[0m\u001b[0;34m)\u001b[0m\u001b[0;34m\u001b[0m\u001b[0;34m\u001b[0m\u001b[0m\n",
            "\u001b[0;32m/usr/local/lib/python3.8/dist-packages/matplotlib/axes/_subplots.py\u001b[0m in \u001b[0;36m__init__\u001b[0;34m(self, fig, *args, **kwargs)\u001b[0m\n\u001b[1;32m     63\u001b[0m             \u001b[0;32melse\u001b[0m\u001b[0;34m:\u001b[0m\u001b[0;34m\u001b[0m\u001b[0;34m\u001b[0m\u001b[0m\n\u001b[1;32m     64\u001b[0m                 \u001b[0;32mif\u001b[0m \u001b[0mnum\u001b[0m \u001b[0;34m<\u001b[0m \u001b[0;36m1\u001b[0m \u001b[0;32mor\u001b[0m \u001b[0mnum\u001b[0m \u001b[0;34m>\u001b[0m \u001b[0mrows\u001b[0m\u001b[0;34m*\u001b[0m\u001b[0mcols\u001b[0m\u001b[0;34m:\u001b[0m\u001b[0;34m\u001b[0m\u001b[0;34m\u001b[0m\u001b[0m\n\u001b[0;32m---> 65\u001b[0;31m                     raise ValueError(\n\u001b[0m\u001b[1;32m     66\u001b[0m                         f\"num must be 1 <= num <= {rows*cols}, not {num}\")\n\u001b[1;32m     67\u001b[0m                 self._subplotspec = GridSpec(\n",
            "\u001b[0;31mValueError\u001b[0m: num must be 1 <= num <= 14, not 15"
          ]
        },
        {
          "output_type": "display_data",
          "data": {
            "text/plain": [
              "<Figure size 1296x1296 with 14 Axes>"
            ],
            "image/png": "[encoded data removed]"
          },
          "metadata": {
            "needs_background": "light"
          }
        }
      ]
    },
    {
      "cell_type": "code",
      "source": [
        "for i in df.columns:\n",
        "    plt.figure(figsize=(18,18))\n",
        "    sns.displot(data= df,x=i,hue='label',kind='hist')"
      ],
      "metadata": {
        "id": "-615A63F0c7h"
      },
      "execution_count": null,
      "outputs": []
    },
    {
      "cell_type": "markdown",
      "source": [
        "## 2.4 Check the outlier of each feature"
      ],
      "metadata": {
        "id": "pJ3clayQ-kru"
      }
    },
    {
      "cell_type": "code",
      "source": [
        "#plot the outlier of the feature\n",
        "\n",
        "plt.boxplot(df['src_bytes'])\n",
        "plt.title('Outlier of src_bytes')\n",
        "plt.show()"
      ],
      "metadata": {
        "colab": {
          "base_uri": "https://localhost:8080/",
          "height": 282
        },
        "id": "4fibiU7F-uR2",
        "outputId": "b9562fae-300c-462f-fdcf-db3253476d07"
      },
      "execution_count": null,
      "outputs": [
        {
          "output_type": "display_data",
          "data": {
            "text/plain": [
              "<Figure size 432x288 with 1 Axes>"
            ],
            "image/png": "[encoded data removed]"
          },
          "metadata": {
            "needs_background": "light"
          }
        }
      ]
    },
    {
      "cell_type": "markdown",
      "source": [
        "# 3. Data Pre-processing"
      ],
      "metadata": {
        "id": "CnZzCGrtCTS2"
      }
    },
    {
      "cell_type": "markdown",
      "source": [
        "## 3.1 Handle missing value#"
      ],
      "metadata": {
        "id": "c6740kuoYqzX"
      }
    },
    {
      "cell_type": "code",
      "source": [
        "# check the count of missing value\n",
        "\n",
        "df.isnull().sum()"
      ],
      "metadata": {
        "colab": {
          "base_uri": "https://localhost:8080/"
        },
        "id": "3rdv3M-KZO3U",
        "outputId": "a921cc6e-a7c1-40e5-ee59-f2eb33c34b40"
      },
      "execution_count": null,
      "outputs": [
        {
          "output_type": "execute_result",
          "data": {
            "text/plain": [
              "ts                        0\n",
              "src_ip                    0\n",
              "src_port                  0\n",
              "dst_ip                    0\n",
              "dst_port                  0\n",
              "proto                     0\n",
              "service                   0\n",
              "duration                  0\n",
              "src_bytes                 0\n",
              "dst_bytes                 0\n",
              "conn_state                0\n",
              "missed_bytes              0\n",
              "src_pkts                  0\n",
              "src_ip_bytes              0\n",
              "dst_pkts                  0\n",
              "dst_ip_bytes              0\n",
              "dns_query                 0\n",
              "dns_qclass                0\n",
              "dns_qtype                 0\n",
              "dns_rcode                 0\n",
              "dns_AA                    0\n",
              "dns_RD                    0\n",
              "dns_RA                    0\n",
              "dns_rejected              0\n",
              "ssl_version               0\n",
              "ssl_cipher                0\n",
              "ssl_resumed               0\n",
              "ssl_established           0\n",
              "ssl_subject               0\n",
              "ssl_issuer                0\n",
              "http_trans_depth          0\n",
              "http_method               0\n",
              "http_uri                  0\n",
              "http_version              0\n",
              "http_request_body_len     0\n",
              "http_response_body_len    0\n",
              "http_status_code          0\n",
              "http_user_agent           0\n",
              "http_orig_mime_types      0\n",
              "http_resp_mime_types      0\n",
              "weird_name                0\n",
              "weird_addl                0\n",
              "weird_notice              0\n",
              "label                     0\n",
              "type                      0\n",
              "dtype: int64"
            ]
          },
          "metadata": {},
          "execution_count": 7
        }
      ]
    },
    {
      "cell_type": "code",
      "source": [
        "# check the count of missing value\n",
        "\n",
        "df.isna().sum()"
      ],
      "metadata": {
        "colab": {
          "base_uri": "https://localhost:8080/"
        },
        "id": "Ok0Pj-nKdGId",
        "outputId": "3e8baeb1-f915-4b7c-da56-7aecec070310"
      },
      "execution_count": null,
      "outputs": [
        {
          "output_type": "execute_result",
          "data": {
            "text/plain": [
              "ts                        0\n",
              "src_ip                    0\n",
              "src_port                  0\n",
              "dst_ip                    0\n",
              "dst_port                  0\n",
              "proto                     0\n",
              "service                   0\n",
              "duration                  0\n",
              "src_bytes                 0\n",
              "dst_bytes                 0\n",
              "conn_state                0\n",
              "missed_bytes              0\n",
              "src_pkts                  0\n",
              "src_ip_bytes              0\n",
              "dst_pkts                  0\n",
              "dst_ip_bytes              0\n",
              "dns_query                 0\n",
              "dns_qclass                0\n",
              "dns_qtype                 0\n",
              "dns_rcode                 0\n",
              "dns_AA                    0\n",
              "dns_RD                    0\n",
              "dns_RA                    0\n",
              "dns_rejected              0\n",
              "ssl_version               0\n",
              "ssl_cipher                0\n",
              "ssl_resumed               0\n",
              "ssl_established           0\n",
              "ssl_subject               0\n",
              "ssl_issuer                0\n",
              "http_trans_depth          0\n",
              "http_method               0\n",
              "http_uri                  0\n",
              "http_version              0\n",
              "http_request_body_len     0\n",
              "http_response_body_len    0\n",
              "http_status_code          0\n",
              "http_user_agent           0\n",
              "http_orig_mime_types      0\n",
              "http_resp_mime_types      0\n",
              "weird_name                0\n",
              "weird_addl                0\n",
              "weird_notice              0\n",
              "label                     0\n",
              "type                      0\n",
              "dtype: int64"
            ]
          },
          "metadata": {},
          "execution_count": 17
        }
      ]
    },
    {
      "cell_type": "code",
      "source": [
        "# show the features that contain '-' value, which can be regarded as missing value\n",
        "\n",
        "features_with_missing_value = df.columns[df.isin(['-']).any()]\n",
        "features_with_missing_value"
      ],
      "metadata": {
        "id": "QHuCP6uEmACC",
        "colab": {
          "base_uri": "https://localhost:8080/"
        },
        "outputId": "5ffb0055-0ac1-4ac2-ea63-379780da407d"
      },
      "execution_count": null,
      "outputs": [
        {
          "output_type": "execute_result",
          "data": {
            "text/plain": [
              "Index(['service', 'dns_query', 'dns_AA', 'dns_RD', 'dns_RA', 'dns_rejected',\n",
              "       'ssl_version', 'ssl_cipher', 'ssl_resumed', 'ssl_established',\n",
              "       'ssl_subject', 'ssl_issuer', 'http_trans_depth', 'http_method',\n",
              "       'http_uri', 'http_version', 'http_user_agent', 'http_orig_mime_types',\n",
              "       'http_resp_mime_types', 'weird_name', 'weird_addl', 'weird_notice'],\n",
              "      dtype='object')"
            ]
          },
          "metadata": {},
          "execution_count": 34
        }
      ]
    },
    {
      "cell_type": "markdown",
      "source": [
        "**=> 'service', \"dns_xxx\", \"ssl_xxx\", \"http_xxx\" and \n",
        "\"weird_xxx\" features have \"-\" value, so the next step is to figure out the meaning of the features and why \"-\" exists in the data.**\n",
        "\n"
      ],
      "metadata": {
        "id": "9nXzkl2G4vz0"
      }
    },
    {
      "cell_type": "code",
      "source": [
        "# show the instances that contain '-' value, which can be regarded as missing value\n",
        "mask = (df == '-').any(axis=1)\n",
        "indices = df.loc[mask].index\n",
        "indices"
      ],
      "metadata": {
        "id": "3RNR7RVyjXlN",
        "colab": {
          "base_uri": "https://localhost:8080/"
        },
        "outputId": "1efc417a-b693-47d6-ef69-d4dd19981048"
      },
      "execution_count": 18,
      "outputs": [
        {
          "output_type": "execute_result",
          "data": {
            "text/plain": [
              "Int64Index([     0,      1,      2,      3,      4,      5,      6,      7,\n",
              "                 8,      9,\n",
              "            ...\n",
              "            461033, 461034, 461035, 461036, 461037, 461038, 461039, 461040,\n",
              "            461041, 461042],\n",
              "           dtype='int64', length=461043)"
            ]
          },
          "metadata": {},
          "execution_count": 18
        }
      ]
    },
    {
      "cell_type": "markdown",
      "source": [
        "=> The output shows that each instance has at least one \"-\" value in any feature"
      ],
      "metadata": {
        "id": "ro_GXaGx4int"
      }
    },
    {
      "cell_type": "code",
      "source": [
        "# Check the value counts for the features\n",
        "\n",
        "df[\"service\"].value_counts()"
      ],
      "metadata": {
        "colab": {
          "base_uri": "https://localhost:8080/"
        },
        "id": "goPnAxmXsCOK",
        "outputId": "27cbd302-cbc7-4b0b-e828-291a5871a061"
      },
      "execution_count": null,
      "outputs": [
        {
          "output_type": "execute_result",
          "data": {
            "text/plain": [
              "-             280216\n",
              "dns           116480\n",
              "http           60720\n",
              "ssl             2070\n",
              "ftp             1065\n",
              "gssapi           184\n",
              "dce_rpc          136\n",
              "smb              108\n",
              "dhcp              46\n",
              "smb;gssapi        18\n",
              "Name: service, dtype: int64"
            ]
          },
          "metadata": {},
          "execution_count": 40
        }
      ]
    },
    {
      "cell_type": "code",
      "source": [
        "# Check the value counts for the features\n",
        "\n",
        "df[\"dns_query\"].value_counts()"
      ],
      "metadata": {
        "colab": {
          "base_uri": "https://localhost:8080/"
        },
        "id": "b-BhuFXBsQ5R",
        "outputId": "f3c090fb-f585-450b-b060-d28a21a5acae"
      },
      "execution_count": null,
      "outputs": [
        {
          "output_type": "execute_result",
          "data": {
            "text/plain": [
              "-                                                  366019\n",
              "a2z3kk2ebqzso7.iot.ap-southeast-2.amazonaws.com     13700\n",
              "arpa.whois-servers.net                               2198\n",
              "_sleep-proxy._udp.local                              2187\n",
              "testphp.vulnweb.com                                  1848\n",
              "                                                    ...  \n",
              "94.157.81.140.in-addr.arpa                              1\n",
              "125.48.34.73.in-addr.arpa                               1\n",
              "101.192.178.247.in-addr.arpa                            1\n",
              "254.68.212.in-addr.arpa                                 1\n",
              "loadm.exelator.com                                      1\n",
              "Name: dns_query, Length: 14149, dtype: int64"
            ]
          },
          "metadata": {},
          "execution_count": 41
        }
      ]
    },
    {
      "cell_type": "code",
      "source": [
        "# Check the value counts for the features\n",
        "\n",
        "df[\"dns_AA\"].value_counts()"
      ],
      "metadata": {
        "colab": {
          "base_uri": "https://localhost:8080/"
        },
        "id": "j4vgczsCset1",
        "outputId": "36d20612-df0c-4bd7-bba9-3f566ebafc5c"
      },
      "execution_count": null,
      "outputs": [
        {
          "output_type": "execute_result",
          "data": {
            "text/plain": [
              "-    365158\n",
              "F     81279\n",
              "T     14606\n",
              "Name: dns_AA, dtype: int64"
            ]
          },
          "metadata": {},
          "execution_count": 42
        }
      ]
    },
    {
      "cell_type": "code",
      "source": [
        "# Check the value counts for the features\n",
        "\n",
        "df[\"dns_RD\"].value_counts()"
      ],
      "metadata": {
        "colab": {
          "base_uri": "https://localhost:8080/"
        },
        "id": "YWL2nuKkslYs",
        "outputId": "6a2dd203-af75-43cb-bba1-440c749d721f"
      },
      "execution_count": null,
      "outputs": [
        {
          "output_type": "execute_result",
          "data": {
            "text/plain": [
              "-    365158\n",
              "F     63106\n",
              "T     32779\n",
              "Name: dns_RD, dtype: int64"
            ]
          },
          "metadata": {},
          "execution_count": 43
        }
      ]
    },
    {
      "cell_type": "code",
      "source": [
        "# Check the value counts for the features\n",
        "\n",
        "df[\"dns_rejected\"].value_counts()"
      ],
      "metadata": {
        "colab": {
          "base_uri": "https://localhost:8080/"
        },
        "id": "jGsYhWY6srLT",
        "outputId": "71d1fc72-0e3f-40f7-e746-949df0eb6528"
      },
      "execution_count": null,
      "outputs": [
        {
          "output_type": "execute_result",
          "data": {
            "text/plain": [
              "-    365158\n",
              "F     89392\n",
              "T      6493\n",
              "Name: dns_rejected, dtype: int64"
            ]
          },
          "metadata": {},
          "execution_count": 44
        }
      ]
    },
    {
      "cell_type": "code",
      "source": [
        "# Check the value counts for the features\n",
        "\n",
        "df[\"ssl_version\"].value_counts()"
      ],
      "metadata": {
        "colab": {
          "base_uri": "https://localhost:8080/"
        },
        "id": "ttWthOpws0SF",
        "outputId": "58a3a4e1-a165-41a2-d1cb-994326cbaf27"
      },
      "execution_count": null,
      "outputs": [
        {
          "output_type": "execute_result",
          "data": {
            "text/plain": [
              "-         460737\n",
              "TLSv12       188\n",
              "TLSv13       116\n",
              "TLSv10         2\n",
              "Name: ssl_version, dtype: int64"
            ]
          },
          "metadata": {},
          "execution_count": 45
        }
      ]
    },
    {
      "cell_type": "code",
      "source": [
        "# Check the value counts for the features\n",
        "\n",
        "df[\"ssl_cipher\"].value_counts()"
      ],
      "metadata": {
        "colab": {
          "base_uri": "https://localhost:8080/"
        },
        "id": "rTv6VK37s5sJ",
        "outputId": "c7790777-29b1-4cc7-b43b-d897bda5d651"
      },
      "execution_count": null,
      "outputs": [
        {
          "output_type": "execute_result",
          "data": {
            "text/plain": [
              "-                                          460737\n",
              "TLS_ECDHE_RSA_WITH_AES_128_GCM_SHA256         176\n",
              "TLS_AES_128_GCM_SHA256                        116\n",
              "TLS_ECDHE_RSA_WITH_AES_256_GCM_SHA384          11\n",
              "TLS_ECDHE_RSA_WITH_AES_256_CBC_SHA              2\n",
              "TLS_ECDHE_ECDSA_WITH_AES_128_GCM_SHA256         1\n",
              "Name: ssl_cipher, dtype: int64"
            ]
          },
          "metadata": {},
          "execution_count": 46
        }
      ]
    },
    {
      "cell_type": "code",
      "source": [
        "# Check the value counts for the features\n",
        "\n",
        "df[\"ssl_resumed\"].value_counts()"
      ],
      "metadata": {
        "colab": {
          "base_uri": "https://localhost:8080/"
        },
        "id": "li0xCqnVtDNV",
        "outputId": "ed791532-649d-4534-fc4a-ea48a187b567"
      },
      "execution_count": null,
      "outputs": [
        {
          "output_type": "execute_result",
          "data": {
            "text/plain": [
              "-    460352\n",
              "F       605\n",
              "T        86\n",
              "Name: ssl_resumed, dtype: int64"
            ]
          },
          "metadata": {},
          "execution_count": 47
        }
      ]
    },
    {
      "cell_type": "code",
      "source": [
        "# Check the value counts for the features\n",
        "\n",
        "df[\"ssl_established\"].value_counts()"
      ],
      "metadata": {
        "colab": {
          "base_uri": "https://localhost:8080/"
        },
        "id": "aLUz3d1DtI8I",
        "outputId": "9a7c9b0f-c335-4df8-80c2-9e5cea155ca7"
      },
      "execution_count": null,
      "outputs": [
        {
          "output_type": "execute_result",
          "data": {
            "text/plain": [
              "-    460352\n",
              "F       596\n",
              "T        95\n",
              "Name: ssl_established, dtype: int64"
            ]
          },
          "metadata": {},
          "execution_count": 48
        }
      ]
    },
    {
      "cell_type": "code",
      "source": [
        "# Check the value counts for the features\n",
        "\n",
        "df[\"ssl_subject\"].value_counts()\n"
      ],
      "metadata": {
        "colab": {
          "base_uri": "https://localhost:8080/"
        },
        "id": "6HSQTajdtOa2",
        "outputId": "307d9130-c35d-4833-fbba-f4f08dc38da9"
      },
      "execution_count": null,
      "outputs": [
        {
          "output_type": "execute_result",
          "data": {
            "text/plain": [
              "-                                                                                           461034\n",
              "CN=*.wns.windows.com                                                                             4\n",
              "CN=Mr Shepherd;OU=Security Shepherd Project;O=OWASP;L=Dublin;ST=Ireland;C=IE                     2\n",
              "CN=settings-win.data.microsoft.com;OU=WSE;O=Microsoft;L=Redmond;ST=WA;C=US                       1\n",
              "CN=sls.update.microsoft.com;OU=DSP;O=Microsoft;L=Redmond;ST=WA;C=US                              1\n",
              "CN=*.events.data.microsoft.com;OU=Microsoft;O=Microsoft Corporation;L=Redmond;ST=WA;C=US         1\n",
              "Name: ssl_subject, dtype: int64"
            ]
          },
          "metadata": {},
          "execution_count": 49
        }
      ]
    },
    {
      "cell_type": "code",
      "source": [
        "# Check the value counts for the features\n",
        "\n",
        "df[\"ssl_issuer\"].value_counts()\n"
      ],
      "metadata": {
        "colab": {
          "base_uri": "https://localhost:8080/"
        },
        "id": "Adrv6s_itY62",
        "outputId": "d58617ab-b4bf-4f33-b5dd-63f0c8a8715b"
      },
      "execution_count": null,
      "outputs": [
        {
          "output_type": "execute_result",
          "data": {
            "text/plain": [
              "-                                                                                                461034\n",
              "CN=Microsoft IT TLS CA 5;OU=Microsoft IT;O=Microsoft Corporation;L=Redmond;ST=Washington;C=US         4\n",
              "CN=Microsoft Secure Server CA 2011;O=Microsoft Corporation;L=Redmond;ST=Washington;C=US               2\n",
              "CN=Mr Shepherd;OU=Security Shepherd Project;O=OWASP;L=Dublin;ST=Ireland;C=IE                          2\n",
              "CN=Microsoft Update Secure Server CA 2.1;O=Microsoft Corporation;L=Redmond;ST=Washington;C=US         1\n",
              "Name: ssl_issuer, dtype: int64"
            ]
          },
          "metadata": {},
          "execution_count": 50
        }
      ]
    },
    {
      "cell_type": "code",
      "source": [
        "# Check the value counts for the features\n",
        "\n",
        "df[\"http_trans_depth\"].value_counts()"
      ],
      "metadata": {
        "colab": {
          "base_uri": "https://localhost:8080/"
        },
        "id": "Eh7qNwAXtdkN",
        "outputId": "b2b74bd0-96fa-446e-832d-8ce979c7c7c6"
      },
      "execution_count": null,
      "outputs": [
        {
          "output_type": "execute_result",
          "data": {
            "text/plain": [
              "-     460796\n",
              "1        214\n",
              "2         25\n",
              "10         1\n",
              "3          1\n",
              "4          1\n",
              "5          1\n",
              "6          1\n",
              "7          1\n",
              "8          1\n",
              "9          1\n",
              "Name: http_trans_depth, dtype: int64"
            ]
          },
          "metadata": {},
          "execution_count": 51
        }
      ]
    },
    {
      "cell_type": "code",
      "source": [
        "# Check the value counts for the features\n",
        "\n",
        "df[\"http_method\"].value_counts()"
      ],
      "metadata": {
        "colab": {
          "base_uri": "https://localhost:8080/"
        },
        "id": "JUnltY7htixX",
        "outputId": "79b52574-650b-4509-e0cf-e06b2cd40f02"
      },
      "execution_count": null,
      "outputs": [
        {
          "output_type": "execute_result",
          "data": {
            "text/plain": [
              "-       460809\n",
              "GET        215\n",
              "POST        15\n",
              "HEAD         4\n",
              "Name: http_method, dtype: int64"
            ]
          },
          "metadata": {},
          "execution_count": 52
        }
      ]
    },
    {
      "cell_type": "code",
      "source": [
        "# Check the value counts for the features\n",
        "\n",
        "df[\"http_uri\"].value_counts()\n"
      ],
      "metadata": {
        "colab": {
          "base_uri": "https://localhost:8080/"
        },
        "id": "ElbaWPVStna-",
        "outputId": "9c97369c-5ac1-458f-f7ff-a87412be0e1d"
      },
      "execution_count": null,
      "outputs": [
        {
          "output_type": "execute_result",
          "data": {
            "text/plain": [
              "-                                                                                                                                                                                         460809\n",
              "/no_nonce_string/                                                                                                                                                                             15\n",
              "/dvwa/login.php-r                                                                                                                                                                             13\n",
              "/no_nonce_string/ContentDirectory/scpd.xml                                                                                                                                                    12\n",
              "/filestreamingservice/files/1f41d40e-6e49-42f0-a4dc-3d35029e2a5d?P1=1554315773&P2=402&P3=2&P4=D2MtshBIyXICLz+f8ls5Sa4mWcxA1B670oj1WRainhnd91v77n9XO6/xoc4QeEYZdwdKSG+6cFNvkBVYbJdXpw==         9\n",
              "                                                                                                                                                                                           ...  \n",
              "/icon_LRG.jpg                                                                                                                                                                                  1\n",
              "/msdownload/update/v3/static/trustedr/en/disallowedcertstl.cab?e793f3590addb8f9                                                                                                                1\n",
              "/filestreamingservice/files/846ab63f-c24f-4c71-bc98-6d8fa3f5e5d7/pieceshash                                                                                                                    1\n",
              "/filestreamingservice/files/1f41d40e-6e49-42f0-a4dc-3d35029e2a5d/pieceshash                                                                                                                    1\n",
              "/webupd8team/java/ubuntu/dists/bionic/InRelease                                                                                                                                                1\n",
              "Name: http_uri, Length: 74, dtype: int64"
            ]
          },
          "metadata": {},
          "execution_count": 53
        }
      ]
    },
    {
      "cell_type": "code",
      "source": [
        "# Check the value counts for the features\n",
        "\n",
        "df[\"http_version\"].value_counts()\n"
      ],
      "metadata": {
        "colab": {
          "base_uri": "https://localhost:8080/"
        },
        "id": "6Z4DTTrOtvOS",
        "outputId": "989b6006-88ec-40a8-a726-3d5bca45d99f"
      },
      "execution_count": null,
      "outputs": [
        {
          "output_type": "execute_result",
          "data": {
            "text/plain": [
              "-      460801\n",
              "1.1       242\n",
              "Name: http_version, dtype: int64"
            ]
          },
          "metadata": {},
          "execution_count": 54
        }
      ]
    },
    {
      "cell_type": "code",
      "source": [
        "# Check the value counts for the features\n",
        "\n",
        "df[\"http_user_agent\"].value_counts()"
      ],
      "metadata": {
        "colab": {
          "base_uri": "https://localhost:8080/"
        },
        "id": "MJfHz1Eqt0QL",
        "outputId": "dd3d70c5-3a26-437f-8243-4ffe22286772"
      },
      "execution_count": null,
      "outputs": [
        {
          "output_type": "execute_result",
          "data": {
            "text/plain": [
              "-                                                                                                                                    460809\n",
              "Microsoft-Delivery-Optimization/10.0                                                                                                     57\n",
              "Microsoft-Windows/10.0 UPnP/1.0                                                                                                          32\n",
              "Ruby                                                                                                                                     31\n",
              "DAFUPnP                                                                                                                                  19\n",
              "User-Agent: Microsoft-DLNA DLNADOC/1.50                                                                                                  19\n",
              "Windows-Update-Agent/10.0.10011.16384 Client-Protocol/1.91                                                                               11\n",
              "MICROSOFT_DEVICE_METADATA_RETRIEVAL_CLIENT                                                                                                9\n",
              "Microsoft NCSI                                                                                                                            8\n",
              "Microsoft-Windows/10.0 UPnP/1.0 Microsoft-DLNA DLNADOC/1.50                                                                               8\n",
              "Mozilla/5.0 (X11; Ubuntu; Linux x86_64; rv:66.0) Gecko/20100101 Firefox/66.0                                                              4\n",
              "Debian APT-HTTP/1.3 (1.7.4)                                                                                                               4\n",
              "Microsoft-CryptoAPI/10.0                                                                                                                  4\n",
              "Microsoft-WNS/10.0                                                                                                                        3\n",
              "sqlmap/1.2#stable (http://sqlmap.org)                                                                                                     2\n",
              "Microsoft BITS/7.8                                                                                                                        2\n",
              "hacking                                                                                                                                   2\n",
              "Mozilla/5.0 (X11; U; Linux i686; de-DE; rv:1.6) Gecko/20040207 Firefox/0.8                                                                1\n",
              "Mozilla/4.08 [en] (WinNT; I ;Nav)                                                                                                         1\n",
              "Mozilla/5.0 (Windows NT 6.1; rv:21.0) Gecko/20130401 Firefox/21.0                                                                         1\n",
              "Mozilla/1.22 (compatible; MSIE 10.0; Windows 3.1)                                                                                         1\n",
              "Mozilla/5.0 (Windows NT 6.3; rv:36.0) Gecko/20100101 Firefox/36.0                                                                         1\n",
              "Mozilla/5.0 (Macintosh; Intel Mac OS X 10_12_0) AppleWebKit/537.36 (KHTML; like Gecko) Chrome/53.0.2785.143 Safari/537.36                 1\n",
              "DataCha0s/2.0                                                                                                                             1\n",
              "Mozilla/5.0 (Windows NT 6.3; WOW64) AppleWebKit/537.36 (KHTML; like Gecko) Chrome/53.0.2785.143 Safari/537.36                             1\n",
              "Comos/0.9_(robot@xyleme.com)                                                                                                              1\n",
              "DonutP; Windows98SE                                                                                                                       1\n",
              "Mozilla/5.0 (compatible; MSIE 10.0; Windows NT 6.1; Trident/4.0; InfoPath.2; SV1; .NET CLR 2.0.50727; WOW64)                              1\n",
              "Mozilla/5.0 (X11; Linux x86_64) AppleWebKit/534.30 (KHTML; like Gecko) Version/4.0 Oupeng/10.2.1.86910 Safari/534.30                      1\n",
              "Mozilla/5.0 (SMART-TV; Linux; Tizen 2.3) AppleWebkit/538.1 (KHTML; like Gecko) SamsungBrowser/1.0 Safari/538.1                            1\n",
              "Mozilla/5.0 (Windows NT 6.1; WOW64; rv:49.0) Gecko/20100101 Firefox/49.0                                                                  1\n",
              "Mozilla/5.0 (Windows NT 6.1; Win64; x64; rv:5.0) Whistler/20110021 myibrow/5.0.0.0                                                        1\n",
              "Mozilla/5.0 (iPhone; U; CPU iOS 2_0 like Mac OS X; en-us)                                                                                 1\n",
              "Mozilla/5.0 (Macintosh; Intel Mac OS X 10.11; rv:49.0) Gecko/20100101 Firefox/49.0                                                        1\n",
              "Mozilla/5.0 (Windows NT 10.0; Win64; x64) AppleWebKit/537.36 (KHTML; like Gecko) Chrome/64.0.3282.140 Safari/537.36 Edge/18.17763         1\n",
              "Debian APT-HTTP/1.3 (1.6.6)                                                                                                               1\n",
              "Name: http_user_agent, dtype: int64"
            ]
          },
          "metadata": {},
          "execution_count": 55
        }
      ]
    },
    {
      "cell_type": "code",
      "source": [
        "# Check the value counts for the features\n",
        "\n",
        "df[\"http_orig_mime_types\"].value_counts()"
      ],
      "metadata": {
        "colab": {
          "base_uri": "https://localhost:8080/"
        },
        "id": "sY5DgClut9c3",
        "outputId": "becca0d2-07ef-409f-e775-b40b4c872292"
      },
      "execution_count": null,
      "outputs": [
        {
          "output_type": "execute_result",
          "data": {
            "text/plain": [
              "-                       461029\n",
              "application/xml              8\n",
              "application/soap+xml         6\n",
              "Name: http_orig_mime_types, dtype: int64"
            ]
          },
          "metadata": {},
          "execution_count": 56
        }
      ]
    },
    {
      "cell_type": "code",
      "source": [
        "# Check the value counts for the features\n",
        "\n",
        "df[\"http_resp_mime_types\"].value_counts()"
      ],
      "metadata": {
        "colab": {
          "base_uri": "https://localhost:8080/"
        },
        "id": "MEHpGFEzuEZG",
        "outputId": "bb4e1f5d-aeec-4ca8-a503-aa09087921c3"
      },
      "execution_count": null,
      "outputs": [
        {
          "output_type": "execute_result",
          "data": {
            "text/plain": [
              "-                                    460883\n",
              "application/xml                          63\n",
              "text/html                                41\n",
              "image/png                                15\n",
              "application/vnd.ms-cab-compressed        13\n",
              "text/plain                               11\n",
              "application/ocsp-response                 8\n",
              "text/json                                 4\n",
              "image/jpeg                                4\n",
              "application/x-debian-package              1\n",
              "Name: http_resp_mime_types, dtype: int64"
            ]
          },
          "metadata": {},
          "execution_count": 57
        }
      ]
    },
    {
      "cell_type": "code",
      "source": [
        "# Check the value counts for the features\n",
        "\n",
        "df[\"weird_name\"].value_counts()"
      ],
      "metadata": {
        "colab": {
          "base_uri": "https://localhost:8080/"
        },
        "id": "MVWHumj4uJwl",
        "outputId": "400c2ba6-8b1a-4097-bcf7-e4f762c74004"
      },
      "execution_count": null,
      "outputs": [
        {
          "output_type": "execute_result",
          "data": {
            "text/plain": [
              "-                                   459749\n",
              "DNS_RR_unknown_type                    753\n",
              "active_connection_reuse                275\n",
              "data_before_established                109\n",
              "bad_UDP_checksum                        68\n",
              "bad_TCP_checksum                        52\n",
              "connection_originator_SYN_ack           20\n",
              "above_hole_data_without_any_acks         6\n",
              "inappropriate_FIN                        3\n",
              "dnp3_corrupt_header_checksum             3\n",
              "possible_split_routing                   3\n",
              "TCP_ack_underflow_or_misorder            2\n",
              "Name: weird_name, dtype: int64"
            ]
          },
          "metadata": {},
          "execution_count": 58
        }
      ]
    },
    {
      "cell_type": "code",
      "source": [
        "# Check the value counts for the features\n",
        "\n",
        "df[\"weird_addl\"].value_counts()\n"
      ],
      "metadata": {
        "colab": {
          "base_uri": "https://localhost:8080/"
        },
        "id": "E--9LZwLuOke",
        "outputId": "86fb456d-ce3e-4561-df30-378bb5528b7f"
      },
      "execution_count": null,
      "outputs": [
        {
          "output_type": "execute_result",
          "data": {
            "text/plain": [
              "-     460290\n",
              "46       707\n",
              "48        38\n",
              "43         8\n",
              "Name: weird_addl, dtype: int64"
            ]
          },
          "metadata": {},
          "execution_count": 59
        }
      ]
    },
    {
      "cell_type": "code",
      "source": [
        "# Check the value counts for the features\n",
        "\n",
        "df[\"weird_notice\"].value_counts()\n"
      ],
      "metadata": {
        "colab": {
          "base_uri": "https://localhost:8080/"
        },
        "id": "_cW9HJEuuUQK",
        "outputId": "566590f0-3649-40a4-f4ef-94b950c1fc8a"
      },
      "execution_count": null,
      "outputs": [
        {
          "output_type": "execute_result",
          "data": {
            "text/plain": [
              "-    459749\n",
              "F      1294\n",
              "Name: weird_notice, dtype: int64"
            ]
          },
          "metadata": {},
          "execution_count": 60
        }
      ]
    },
    {
      "cell_type": "markdown",
      "source": [
        "After checking for the features that contain \"-\" value (missing value), nearly all the instance have missing value for these features, so we need do imputation for the missing values.\n",
        "Then what's the imputation mechanism to be used for that? Need to understand the features and why the value is missing? (type of missing value)"
      ],
      "metadata": {
        "id": "qqmM5Ljlua-G"
      }
    },
    {
      "cell_type": "markdown",
      "source": [
        "## 3.2 Handle duplicate instance"
      ],
      "metadata": {
        "id": "KAB1cxKGY4NN"
      }
    },
    {
      "cell_type": "code",
      "source": [
        "# Check the duplicated instance\n",
        "\n",
        "df.duplicated().sum()\n",
        "\n",
        "#Reference\n",
        "#https://pandas.pydata.org/pandas-docs/stable/reference/api/pandas.DataFrame.duplicated.html"
      ],
      "metadata": {
        "colab": {
          "base_uri": "https://localhost:8080/"
        },
        "id": "Q2wmTaznmvwy",
        "outputId": "2c5a0fa7-451c-4dd7-ae1e-d436c860a26b"
      },
      "execution_count": null,
      "outputs": [
        {
          "output_type": "execute_result",
          "data": {
            "text/plain": [
              "11071"
            ]
          },
          "metadata": {},
          "execution_count": 3
        }
      ]
    },
    {
      "cell_type": "code",
      "source": [
        "# List instances duplicated\n",
        "\n",
        "duplicates = df[df.duplicated()]\n",
        "duplicates\n",
        "\n",
        "#duplicates = df[df.duplicated(keep = False)]\n",
        "#keep : {‘first’, ‘last’, False}, default ‘first’\n",
        "\n",
        "#'first' : Mark duplicates as True except for the first occurrence.\n",
        "#'last' : Mark duplicates as True except for the last occurrence.\n",
        "#False : Mark all duplicates as True."
      ],
      "metadata": {
        "colab": {
          "base_uri": "https://localhost:8080/",
          "height": 488
        },
        "id": "PGj_uW9s_cFt",
        "outputId": "7bd14129-b9ad-4be8-8811-8eb20431e1b5"
      },
      "execution_count": null,
      "outputs": [
        {
          "output_type": "execute_result",
          "data": {
            "text/plain": [
              "                ts         src_ip  src_port         dst_ip  dst_port proto  \\\n",
              "12679   1554220499  192.168.1.250      5353    224.0.0.251      5353   udp   \n",
              "12699   1554220514  192.168.1.133      5353    224.0.0.251      5353   udp   \n",
              "12813   1554220595  192.168.1.133      5353    224.0.0.251      5353   udp   \n",
              "12996   1554220744   192.168.1.79     43029  192.168.1.255     15600   udp   \n",
              "13124   1554220864  192.168.1.195       138  192.168.1.255       138   udp   \n",
              "...            ...            ...       ...            ...       ...   ...   \n",
              "420021  1556423639  192.168.1.195     49884    13.107.4.50        80   tcp   \n",
              "420022  1556423639  192.168.1.195     49885    13.107.4.50        80   tcp   \n",
              "420023  1556423639  192.168.1.195     49884    13.107.4.50        80   tcp   \n",
              "420024  1556423639  192.168.1.195     49885    13.107.4.50        80   tcp   \n",
              "420025  1556423639  192.168.1.195     49884    13.107.4.50        80   tcp   \n",
              "\n",
              "       service  duration  src_bytes  dst_bytes  ... http_response_body_len  \\\n",
              "12679      dns       0.0          0          0  ...                      0   \n",
              "12699      dns       0.0          0          0  ...                      0   \n",
              "12813      dns       0.0          0          0  ...                      0   \n",
              "12996        -       0.0          0          0  ...                      0   \n",
              "13124        -       0.0          0          0  ...                      0   \n",
              "...        ...       ...        ...        ...  ...                    ...   \n",
              "420021       -       0.0          0          0  ...                      0   \n",
              "420022       -       0.0          0          0  ...                      0   \n",
              "420023       -       0.0          0          0  ...                      0   \n",
              "420024       -       0.0          0          0  ...                      0   \n",
              "420025       -       0.0          0          0  ...                      0   \n",
              "\n",
              "        http_status_code  http_user_agent  http_orig_mime_types  \\\n",
              "12679                  0                -                     -   \n",
              "12699                  0                -                     -   \n",
              "12813                  0                -                     -   \n",
              "12996                  0                -                     -   \n",
              "13124                  0                -                     -   \n",
              "...                  ...              ...                   ...   \n",
              "420021                 0                -                     -   \n",
              "420022                 0                -                     -   \n",
              "420023                 0                -                     -   \n",
              "420024                 0                -                     -   \n",
              "420025                 0                -                     -   \n",
              "\n",
              "        http_resp_mime_types  weird_name weird_addl  weird_notice  label  \\\n",
              "12679                      -           -          -             -      0   \n",
              "12699                      -           -          -             -      0   \n",
              "12813                      -           -          -             -      0   \n",
              "12996                      -           -          -             -      0   \n",
              "13124                      -           -          -             -      0   \n",
              "...                      ...         ...        ...           ...    ...   \n",
              "420021                     -           -          -             -      0   \n",
              "420022                     -           -          -             -      0   \n",
              "420023                     -           -          -             -      0   \n",
              "420024                     -           -          -             -      0   \n",
              "420025                     -           -          -             -      0   \n",
              "\n",
              "          type  \n",
              "12679   normal  \n",
              "12699   normal  \n",
              "12813   normal  \n",
              "12996   normal  \n",
              "13124   normal  \n",
              "...        ...  \n",
              "420021  normal  \n",
              "420022  normal  \n",
              "420023  normal  \n",
              "420024  normal  \n",
              "420025  normal  \n",
              "\n",
              "[11071 rows x 45 columns]"
            ],
            "text/html": [
              "\n",
              "  <div id=\"df-d5266a7c-b573-483e-9b36-7af69953e63c\">\n",
              "    <div class=\"colab-df-container\">\n",
              "      <div>\n",
              "<style scoped>\n",
              "    .dataframe tbody tr th:only-of-type {\n",
              "        vertical-align: middle;\n",
              "    }\n",
              "\n",
              "    .dataframe tbody tr th {\n",
              "        vertical-align: top;\n",
              "    }\n",
              "\n",
              "    .dataframe thead th {\n",
              "        text-align: right;\n",
              "    }\n",
              "</style>\n",
              "<table border=\"1\" class=\"dataframe\">\n",
              "  <thead>\n",
              "    <tr style=\"text-align: right;\">\n",
              "      <th></th>\n",
              "      <th>ts</th>\n",
              "      <th>src_ip</th>\n",
              "      <th>src_port</th>\n",
              "      <th>dst_ip</th>\n",
              "      <th>dst_port</th>\n",
              "      <th>proto</th>\n",
              "      <th>service</th>\n",
              "      <th>duration</th>\n",
              "      <th>src_bytes</th>\n",
              "      <th>dst_bytes</th>\n",
              "      <th>...</th>\n",
              "      <th>http_response_body_len</th>\n",
              "      <th>http_status_code</th>\n",
              "      <th>http_user_agent</th>\n",
              "      <th>http_orig_mime_types</th>\n",
              "      <th>http_resp_mime_types</th>\n",
              "      <th>weird_name</th>\n",
              "      <th>weird_addl</th>\n",
              "      <th>weird_notice</th>\n",
              "      <th>label</th>\n",
              "      <th>type</th>\n",
              "    </tr>\n",
              "  </thead>\n",
              "  <tbody>\n",
              "    <tr>\n",
              "      <th>12679</th>\n",
              "      <td>1554220499</td>\n",
              "      <td>192.168.1.250</td>\n",
              "      <td>5353</td>\n",
              "      <td>224.0.0.251</td>\n",
              "      <td>5353</td>\n",
              "      <td>udp</td>\n",
              "      <td>dns</td>\n",
              "      <td>0.0</td>\n",
              "      <td>0</td>\n",
              "      <td>0</td>\n",
              "      <td>...</td>\n",
              "      <td>0</td>\n",
              "      <td>0</td>\n",
              "      <td>-</td>\n",
              "      <td>-</td>\n",
              "      <td>-</td>\n",
              "      <td>-</td>\n",
              "      <td>-</td>\n",
              "      <td>-</td>\n",
              "      <td>0</td>\n",
              "      <td>normal</td>\n",
              "    </tr>\n",
              "    <tr>\n",
              "      <th>12699</th>\n",
              "      <td>1554220514</td>\n",
              "      <td>192.168.1.133</td>\n",
              "      <td>5353</td>\n",
              "      <td>224.0.0.251</td>\n",
              "      <td>5353</td>\n",
              "      <td>udp</td>\n",
              "      <td>dns</td>\n",
              "      <td>0.0</td>\n",
              "      <td>0</td>\n",
              "      <td>0</td>\n",
              "      <td>...</td>\n",
              "      <td>0</td>\n",
              "      <td>0</td>\n",
              "      <td>-</td>\n",
              "      <td>-</td>\n",
              "      <td>-</td>\n",
              "      <td>-</td>\n",
              "      <td>-</td>\n",
              "      <td>-</td>\n",
              "      <td>0</td>\n",
              "      <td>normal</td>\n",
              "    </tr>\n",
              "    <tr>\n",
              "      <th>12813</th>\n",
              "      <td>1554220595</td>\n",
              "      <td>192.168.1.133</td>\n",
              "      <td>5353</td>\n",
              "      <td>224.0.0.251</td>\n",
              "      <td>5353</td>\n",
              "      <td>udp</td>\n",
              "      <td>dns</td>\n",
              "      <td>0.0</td>\n",
              "      <td>0</td>\n",
              "      <td>0</td>\n",
              "      <td>...</td>\n",
              "      <td>0</td>\n",
              "      <td>0</td>\n",
              "      <td>-</td>\n",
              "      <td>-</td>\n",
              "      <td>-</td>\n",
              "      <td>-</td>\n",
              "      <td>-</td>\n",
              "      <td>-</td>\n",
              "      <td>0</td>\n",
              "      <td>normal</td>\n",
              "    </tr>\n",
              "    <tr>\n",
              "      <th>12996</th>\n",
              "      <td>1554220744</td>\n",
              "      <td>192.168.1.79</td>\n",
              "      <td>43029</td>\n",
              "      <td>192.168.1.255</td>\n",
              "      <td>15600</td>\n",
              "      <td>udp</td>\n",
              "      <td>-</td>\n",
              "      <td>0.0</td>\n",
              "      <td>0</td>\n",
              "      <td>0</td>\n",
              "      <td>...</td>\n",
              "      <td>0</td>\n",
              "      <td>0</td>\n",
              "      <td>-</td>\n",
              "      <td>-</td>\n",
              "      <td>-</td>\n",
              "      <td>-</td>\n",
              "      <td>-</td>\n",
              "      <td>-</td>\n",
              "      <td>0</td>\n",
              "      <td>normal</td>\n",
              "    </tr>\n",
              "    <tr>\n",
              "      <th>13124</th>\n",
              "      <td>1554220864</td>\n",
              "      <td>192.168.1.195</td>\n",
              "      <td>138</td>\n",
              "      <td>192.168.1.255</td>\n",
              "      <td>138</td>\n",
              "      <td>udp</td>\n",
              "      <td>-</td>\n",
              "      <td>0.0</td>\n",
              "      <td>0</td>\n",
              "      <td>0</td>\n",
              "      <td>...</td>\n",
              "      <td>0</td>\n",
              "      <td>0</td>\n",
              "      <td>-</td>\n",
              "      <td>-</td>\n",
              "      <td>-</td>\n",
              "      <td>-</td>\n",
              "      <td>-</td>\n",
              "      <td>-</td>\n",
              "      <td>0</td>\n",
              "      <td>normal</td>\n",
              "    </tr>\n",
              "    <tr>\n",
              "      <th>...</th>\n",
              "      <td>...</td>\n",
              "      <td>...</td>\n",
              "      <td>...</td>\n",
              "      <td>...</td>\n",
              "      <td>...</td>\n",
              "      <td>...</td>\n",
              "      <td>...</td>\n",
              "      <td>...</td>\n",
              "      <td>...</td>\n",
              "      <td>...</td>\n",
              "      <td>...</td>\n",
              "      <td>...</td>\n",
              "      <td>...</td>\n",
              "      <td>...</td>\n",
              "      <td>...</td>\n",
              "      <td>...</td>\n",
              "      <td>...</td>\n",
              "      <td>...</td>\n",
              "      <td>...</td>\n",
              "      <td>...</td>\n",
              "      <td>...</td>\n",
              "    </tr>\n",
              "    <tr>\n",
              "      <th>420021</th>\n",
              "      <td>1556423639</td>\n",
              "      <td>192.168.1.195</td>\n",
              "      <td>49884</td>\n",
              "      <td>13.107.4.50</td>\n",
              "      <td>80</td>\n",
              "      <td>tcp</td>\n",
              "      <td>-</td>\n",
              "      <td>0.0</td>\n",
              "      <td>0</td>\n",
              "      <td>0</td>\n",
              "      <td>...</td>\n",
              "      <td>0</td>\n",
              "      <td>0</td>\n",
              "      <td>-</td>\n",
              "      <td>-</td>\n",
              "      <td>-</td>\n",
              "      <td>-</td>\n",
              "      <td>-</td>\n",
              "      <td>-</td>\n",
              "      <td>0</td>\n",
              "      <td>normal</td>\n",
              "    </tr>\n",
              "    <tr>\n",
              "      <th>420022</th>\n",
              "      <td>1556423639</td>\n",
              "      <td>192.168.1.195</td>\n",
              "      <td>49885</td>\n",
              "      <td>13.107.4.50</td>\n",
              "      <td>80</td>\n",
              "      <td>tcp</td>\n",
              "      <td>-</td>\n",
              "      <td>0.0</td>\n",
              "      <td>0</td>\n",
              "      <td>0</td>\n",
              "      <td>...</td>\n",
              "      <td>0</td>\n",
              "      <td>0</td>\n",
              "      <td>-</td>\n",
              "      <td>-</td>\n",
              "      <td>-</td>\n",
              "      <td>-</td>\n",
              "      <td>-</td>\n",
              "      <td>-</td>\n",
              "      <td>0</td>\n",
              "      <td>normal</td>\n",
              "    </tr>\n",
              "    <tr>\n",
              "      <th>420023</th>\n",
              "      <td>1556423639</td>\n",
              "      <td>192.168.1.195</td>\n",
              "      <td>49884</td>\n",
              "      <td>13.107.4.50</td>\n",
              "      <td>80</td>\n",
              "      <td>tcp</td>\n",
              "      <td>-</td>\n",
              "      <td>0.0</td>\n",
              "      <td>0</td>\n",
              "      <td>0</td>\n",
              "      <td>...</td>\n",
              "      <td>0</td>\n",
              "      <td>0</td>\n",
              "      <td>-</td>\n",
              "      <td>-</td>\n",
              "      <td>-</td>\n",
              "      <td>-</td>\n",
              "      <td>-</td>\n",
              "      <td>-</td>\n",
              "      <td>0</td>\n",
              "      <td>normal</td>\n",
              "    </tr>\n",
              "    <tr>\n",
              "      <th>420024</th>\n",
              "      <td>1556423639</td>\n",
              "      <td>192.168.1.195</td>\n",
              "      <td>49885</td>\n",
              "      <td>13.107.4.50</td>\n",
              "      <td>80</td>\n",
              "      <td>tcp</td>\n",
              "      <td>-</td>\n",
              "      <td>0.0</td>\n",
              "      <td>0</td>\n",
              "      <td>0</td>\n",
              "      <td>...</td>\n",
              "      <td>0</td>\n",
              "      <td>0</td>\n",
              "      <td>-</td>\n",
              "      <td>-</td>\n",
              "      <td>-</td>\n",
              "      <td>-</td>\n",
              "      <td>-</td>\n",
              "      <td>-</td>\n",
              "      <td>0</td>\n",
              "      <td>normal</td>\n",
              "    </tr>\n",
              "    <tr>\n",
              "      <th>420025</th>\n",
              "      <td>1556423639</td>\n",
              "      <td>192.168.1.195</td>\n",
              "      <td>49884</td>\n",
              "      <td>13.107.4.50</td>\n",
              "      <td>80</td>\n",
              "      <td>tcp</td>\n",
              "      <td>-</td>\n",
              "      <td>0.0</td>\n",
              "      <td>0</td>\n",
              "      <td>0</td>\n",
              "      <td>...</td>\n",
              "      <td>0</td>\n",
              "      <td>0</td>\n",
              "      <td>-</td>\n",
              "      <td>-</td>\n",
              "      <td>-</td>\n",
              "      <td>-</td>\n",
              "      <td>-</td>\n",
              "      <td>-</td>\n",
              "      <td>0</td>\n",
              "      <td>normal</td>\n",
              "    </tr>\n",
              "  </tbody>\n",
              "</table>\n",
              "<p>11071 rows × 45 columns</p>\n",
              "</div>\n",
              "      <button class=\"colab-df-convert\" onclick=\"convertToInteractive('df-d5266a7c-b573-483e-9b36-7af69953e63c')\"\n",
              "              title=\"Convert this dataframe to an interactive table.\"\n",
              "              style=\"display:none;\">\n",
              "        \n",
              "  <svg xmlns=\"http://www.w3.org/2000/svg\" height=\"24px\"viewBox=\"0 0 24 24\"\n",
              "       width=\"24px\">\n",
              "    <path d=\"M0 0h24v24H0V0z\" fill=\"none\"/>\n",
              "    <path d=\"M18.56 5.44l.94 2.06.94-2.06 2.06-.94-2.06-.94-.94-2.06-.94 2.06-2.06.94zm-11 1L8.5 8.5l.94-2.06 2.06-.94-2.06-.94L8.5 2.5l-.94 2.06-2.06.94zm10 10l.94 2.06.94-2.06 2.06-.94-2.06-.94-.94-2.06-.94 2.06-2.06.94z\"/><path d=\"M17.41 7.96l-1.37-1.37c-.4-.4-.92-.59-1.43-.59-.52 0-1.04.2-1.43.59L10.3 9.45l-7.72 7.72c-.78.78-.78 2.05 0 2.83L4 21.41c.39.39.9.59 1.41.59.51 0 1.02-.2 1.41-.59l7.78-7.78 2.81-2.81c.8-.78.8-2.07 0-2.86zM5.41 20L4 18.59l7.72-7.72 1.47 1.35L5.41 20z\"/>\n",
              "  </svg>\n",
              "      </button>\n",
              "      \n",
              "  <style>\n",
              "    .colab-df-container {\n",
              "      display:flex;\n",
              "      flex-wrap:wrap;\n",
              "      gap: 12px;\n",
              "    }\n",
              "\n",
              "    .colab-df-convert {\n",
              "      background-color: #E8F0FE;\n",
              "      border: none;\n",
              "      border-radius: 50%;\n",
              "      cursor: pointer;\n",
              "      display: none;\n",
              "      fill: #1967D2;\n",
              "      height: 32px;\n",
              "      padding: 0 0 0 0;\n",
              "      width: 32px;\n",
              "    }\n",
              "\n",
              "    .colab-df-convert:hover {\n",
              "      background-color: #E2EBFA;\n",
              "      box-shadow: 0px 1px 2px rgba(60, 64, 67, 0.3), 0px 1px 3px 1px rgba(60, 64, 67, 0.15);\n",
              "      fill: #174EA6;\n",
              "    }\n",
              "\n",
              "    [theme=dark] .colab-df-convert {\n",
              "      background-color: #3B4455;\n",
              "      fill: #D2E3FC;\n",
              "    }\n",
              "\n",
              "    [theme=dark] .colab-df-convert:hover {\n",
              "      background-color: #434B5C;\n",
              "      box-shadow: 0px 1px 3px 1px rgba(0, 0, 0, 0.15);\n",
              "      filter: drop-shadow(0px 1px 2px rgba(0, 0, 0, 0.3));\n",
              "      fill: #FFFFFF;\n",
              "    }\n",
              "  </style>\n",
              "\n",
              "      <script>\n",
              "        const buttonEl =\n",
              "          document.querySelector('#df-d5266a7c-b573-483e-9b36-7af69953e63c button.colab-df-convert');\n",
              "        buttonEl.style.display =\n",
              "          google.colab.kernel.accessAllowed ? 'block' : 'none';\n",
              "\n",
              "        async function convertToInteractive(key) {\n",
              "          const element = document.querySelector('#df-d5266a7c-b573-483e-9b36-7af69953e63c');\n",
              "          const dataTable =\n",
              "            await google.colab.kernel.invokeFunction('convertToInteractive',\n",
              "                                                     [key], {});\n",
              "          if (!dataTable) return;\n",
              "\n",
              "          const docLinkHtml = 'Like what you see? Visit the ' +\n",
              "            '<a target=\"_blank\" href=https://colab.research.google.com/notebooks/data_table.ipynb>data table notebook</a>'\n",
              "            + ' to learn more about interactive tables.';\n",
              "          element.innerHTML = '';\n",
              "          dataTable['output_type'] = 'display_data';\n",
              "          await google.colab.output.renderOutput(dataTable, element);\n",
              "          const docLink = document.createElement('div');\n",
              "          docLink.innerHTML = docLinkHtml;\n",
              "          element.appendChild(docLink);\n",
              "        }\n",
              "      </script>\n",
              "    </div>\n",
              "  </div>\n",
              "  "
            ]
          },
          "metadata": {},
          "execution_count": 12
        }
      ]
    },
    {
      "cell_type": "markdown",
      "source": [
        "As we can see, there are 11071 rows are duplicated in the data set. we need consider the mechanism to handle. If there is no any important information, we may directly drop the duplicate instances."
      ],
      "metadata": {
        "id": "ScSG1SxGwEj3"
      }
    },
    {
      "cell_type": "markdown",
      "source": [
        "## 3.3 Check non-numerical value"
      ],
      "metadata": {
        "id": "qwt3_312Y_ub"
      }
    },
    {
      "cell_type": "code",
      "source": [
        "# Check the type of each feature\n",
        "\n",
        "df.info()"
      ],
      "metadata": {
        "colab": {
          "base_uri": "https://localhost:8080/"
        },
        "id": "8MyfltuZnDQw",
        "outputId": "a1ba2b91-9ada-4c59-b59d-4016789f06cc"
      },
      "execution_count": null,
      "outputs": [
        {
          "output_type": "stream",
          "name": "stdout",
          "text": [
            "<class 'pandas.core.frame.DataFrame'>\n",
            "RangeIndex: 461043 entries, 0 to 461042\n",
            "Data columns (total 45 columns):\n",
            " #   Column                  Non-Null Count   Dtype  \n",
            "---  ------                  --------------   -----  \n",
            " 0   ts                      461043 non-null  int64  \n",
            " 1   src_ip                  461043 non-null  object \n",
            " 2   src_port                461043 non-null  int64  \n",
            " 3   dst_ip                  461043 non-null  object \n",
            " 4   dst_port                461043 non-null  int64  \n",
            " 5   proto                   461043 non-null  object \n",
            " 6   service                 461043 non-null  object \n",
            " 7   duration                461043 non-null  float64\n",
            " 8   src_bytes               461043 non-null  int64  \n",
            " 9   dst_bytes               461043 non-null  int64  \n",
            " 10  conn_state              461043 non-null  object \n",
            " 11  missed_bytes            461043 non-null  int64  \n",
            " 12  src_pkts                461043 non-null  int64  \n",
            " 13  src_ip_bytes            461043 non-null  int64  \n",
            " 14  dst_pkts                461043 non-null  int64  \n",
            " 15  dst_ip_bytes            461043 non-null  int64  \n",
            " 16  dns_query               461043 non-null  object \n",
            " 17  dns_qclass              461043 non-null  int64  \n",
            " 18  dns_qtype               461043 non-null  int64  \n",
            " 19  dns_rcode               461043 non-null  int64  \n",
            " 20  dns_AA                  461043 non-null  object \n",
            " 21  dns_RD                  461043 non-null  object \n",
            " 22  dns_RA                  461043 non-null  object \n",
            " 23  dns_rejected            461043 non-null  object \n",
            " 24  ssl_version             461043 non-null  object \n",
            " 25  ssl_cipher              461043 non-null  object \n",
            " 26  ssl_resumed             461043 non-null  object \n",
            " 27  ssl_established         461043 non-null  object \n",
            " 28  ssl_subject             461043 non-null  object \n",
            " 29  ssl_issuer              461043 non-null  object \n",
            " 30  http_trans_depth        461043 non-null  object \n",
            " 31  http_method             461043 non-null  object \n",
            " 32  http_uri                461043 non-null  object \n",
            " 33  http_version            461043 non-null  object \n",
            " 34  http_request_body_len   461043 non-null  int64  \n",
            " 35  http_response_body_len  461043 non-null  int64  \n",
            " 36  http_status_code        461043 non-null  int64  \n",
            " 37  http_user_agent         461043 non-null  object \n",
            " 38  http_orig_mime_types    461043 non-null  object \n",
            " 39  http_resp_mime_types    461043 non-null  object \n",
            " 40  weird_name              461043 non-null  object \n",
            " 41  weird_addl              461043 non-null  object \n",
            " 42  weird_notice            461043 non-null  object \n",
            " 43  label                   461043 non-null  int64  \n",
            " 44  type                    461043 non-null  object \n",
            "dtypes: float64(1), int64(17), object(27)\n",
            "memory usage: 158.3+ MB\n"
          ]
        }
      ]
    },
    {
      "cell_type": "markdown",
      "source": [
        "From the output, there are many non-numerical features, or object type for the features."
      ],
      "metadata": {
        "id": "yXkmNFMvxR3w"
      }
    },
    {
      "cell_type": "code",
      "source": [
        "df.head().T"
      ],
      "metadata": {
        "colab": {
          "base_uri": "https://localhost:8080/",
          "height": 1000
        },
        "id": "3Zw2EzQonUHr",
        "outputId": "f7ad6db1-d9fd-45ee-90cc-7aed955b222a"
      },
      "execution_count": null,
      "outputs": [
        {
          "output_type": "execute_result",
          "data": {
            "text/plain": [
              "                                       0              1                 2  \\\n",
              "ts                            1554198358     1554198358        1554198359   \n",
              "src_ip                       3.122.49.24   192.168.1.79     192.168.1.152   \n",
              "src_port                            1883          47260              1880   \n",
              "dst_ip                     192.168.1.152  192.168.1.255     192.168.1.152   \n",
              "dst_port                           52976          15600             51782   \n",
              "proto                                tcp            udp               tcp   \n",
              "service                                -              -                 -   \n",
              "duration                     80549.53026            0.0               0.0   \n",
              "src_bytes                        1762852              0                 0   \n",
              "dst_bytes                       41933215              0                 0   \n",
              "conn_state                           OTH             S0               OTH   \n",
              "missed_bytes                           0              0                 0   \n",
              "src_pkts                          252181              1                 0   \n",
              "src_ip_bytes                    14911156             63                 0   \n",
              "dst_pkts                               2              0                 0   \n",
              "dst_ip_bytes                         236              0                 0   \n",
              "dns_query                              -              -                 -   \n",
              "dns_qclass                             0              0                 0   \n",
              "dns_qtype                              0              0                 0   \n",
              "dns_rcode                              0              0                 0   \n",
              "dns_AA                                 -              -                 -   \n",
              "dns_RD                                 -              -                 -   \n",
              "dns_RA                                 -              -                 -   \n",
              "dns_rejected                           -              -                 -   \n",
              "ssl_version                            -              -                 -   \n",
              "ssl_cipher                             -              -                 -   \n",
              "ssl_resumed                            -              -                 -   \n",
              "ssl_established                        -              -                 -   \n",
              "ssl_subject                            -              -                 -   \n",
              "ssl_issuer                             -              -                 -   \n",
              "http_trans_depth                       -              -                 -   \n",
              "http_method                            -              -                 -   \n",
              "http_uri                               -              -                 -   \n",
              "http_version                           -              -                 -   \n",
              "http_request_body_len                  0              0                 0   \n",
              "http_response_body_len                 0              0                 0   \n",
              "http_status_code                       0              0                 0   \n",
              "http_user_agent                        -              -                 -   \n",
              "http_orig_mime_types                   -              -                 -   \n",
              "http_resp_mime_types                   -              -                 -   \n",
              "weird_name              bad_TCP_checksum              -  bad_TCP_checksum   \n",
              "weird_addl                             -              -                 -   \n",
              "weird_notice                           F              -                 F   \n",
              "label                                  0              0                 0   \n",
              "type                              normal         normal            normal   \n",
              "\n",
              "                                    3                 4  \n",
              "ts                         1554198359        1554198362  \n",
              "src_ip                  192.168.1.152     192.168.1.152  \n",
              "src_port                        34296             46608  \n",
              "dst_ip                  192.168.1.152     192.168.1.190  \n",
              "dst_port                        10502                53  \n",
              "proto                             tcp               udp  \n",
              "service                             -               dns  \n",
              "duration                          0.0          0.000549  \n",
              "src_bytes                           0                 0  \n",
              "dst_bytes                           0               298  \n",
              "conn_state                        OTH               SHR  \n",
              "missed_bytes                        0                 0  \n",
              "src_pkts                            0                 0  \n",
              "src_ip_bytes                        0                 0  \n",
              "dst_pkts                            0                 2  \n",
              "dst_ip_bytes                        0               354  \n",
              "dns_query                           -                 -  \n",
              "dns_qclass                          0                 0  \n",
              "dns_qtype                           0                 0  \n",
              "dns_rcode                           0                 0  \n",
              "dns_AA                              -                 -  \n",
              "dns_RD                              -                 -  \n",
              "dns_RA                              -                 -  \n",
              "dns_rejected                        -                 -  \n",
              "ssl_version                         -                 -  \n",
              "ssl_cipher                          -                 -  \n",
              "ssl_resumed                         -                 -  \n",
              "ssl_established                     -                 -  \n",
              "ssl_subject                         -                 -  \n",
              "ssl_issuer                          -                 -  \n",
              "http_trans_depth                    -                 -  \n",
              "http_method                         -                 -  \n",
              "http_uri                            -                 -  \n",
              "http_version                        -                 -  \n",
              "http_request_body_len               0                 0  \n",
              "http_response_body_len              0                 0  \n",
              "http_status_code                    0                 0  \n",
              "http_user_agent                     -                 -  \n",
              "http_orig_mime_types                -                 -  \n",
              "http_resp_mime_types                -                 -  \n",
              "weird_name                          -  bad_UDP_checksum  \n",
              "weird_addl                          -                 -  \n",
              "weird_notice                        -                 F  \n",
              "label                               0                 0  \n",
              "type                           normal            normal  "
            ],
            "text/html": [
              "\n",
              "  <div id=\"df-3bf30617-ec77-4a19-93de-9dc688c45af8\">\n",
              "    <div class=\"colab-df-container\">\n",
              "      <div>\n",
              "<style scoped>\n",
              "    .dataframe tbody tr th:only-of-type {\n",
              "        vertical-align: middle;\n",
              "    }\n",
              "\n",
              "    .dataframe tbody tr th {\n",
              "        vertical-align: top;\n",
              "    }\n",
              "\n",
              "    .dataframe thead th {\n",
              "        text-align: right;\n",
              "    }\n",
              "</style>\n",
              "<table border=\"1\" class=\"dataframe\">\n",
              "  <thead>\n",
              "    <tr style=\"text-align: right;\">\n",
              "      <th></th>\n",
              "      <th>0</th>\n",
              "      <th>1</th>\n",
              "      <th>2</th>\n",
              "      <th>3</th>\n",
              "      <th>4</th>\n",
              "    </tr>\n",
              "  </thead>\n",
              "  <tbody>\n",
              "    <tr>\n",
              "      <th>ts</th>\n",
              "      <td>1554198358</td>\n",
              "      <td>1554198358</td>\n",
              "      <td>1554198359</td>\n",
              "      <td>1554198359</td>\n",
              "      <td>1554198362</td>\n",
              "    </tr>\n",
              "    <tr>\n",
              "      <th>src_ip</th>\n",
              "      <td>3.122.49.24</td>\n",
              "      <td>192.168.1.79</td>\n",
              "      <td>192.168.1.152</td>\n",
              "      <td>192.168.1.152</td>\n",
              "      <td>192.168.1.152</td>\n",
              "    </tr>\n",
              "    <tr>\n",
              "      <th>src_port</th>\n",
              "      <td>1883</td>\n",
              "      <td>47260</td>\n",
              "      <td>1880</td>\n",
              "      <td>34296</td>\n",
              "      <td>46608</td>\n",
              "    </tr>\n",
              "    <tr>\n",
              "      <th>dst_ip</th>\n",
              "      <td>192.168.1.152</td>\n",
              "      <td>192.168.1.255</td>\n",
              "      <td>192.168.1.152</td>\n",
              "      <td>192.168.1.152</td>\n",
              "      <td>192.168.1.190</td>\n",
              "    </tr>\n",
              "    <tr>\n",
              "      <th>dst_port</th>\n",
              "      <td>52976</td>\n",
              "      <td>15600</td>\n",
              "      <td>51782</td>\n",
              "      <td>10502</td>\n",
              "      <td>53</td>\n",
              "    </tr>\n",
              "    <tr>\n",
              "      <th>proto</th>\n",
              "      <td>tcp</td>\n",
              "      <td>udp</td>\n",
              "      <td>tcp</td>\n",
              "      <td>tcp</td>\n",
              "      <td>udp</td>\n",
              "    </tr>\n",
              "    <tr>\n",
              "      <th>service</th>\n",
              "      <td>-</td>\n",
              "      <td>-</td>\n",
              "      <td>-</td>\n",
              "      <td>-</td>\n",
              "      <td>dns</td>\n",
              "    </tr>\n",
              "    <tr>\n",
              "      <th>duration</th>\n",
              "      <td>80549.53026</td>\n",
              "      <td>0.0</td>\n",
              "      <td>0.0</td>\n",
              "      <td>0.0</td>\n",
              "      <td>0.000549</td>\n",
              "    </tr>\n",
              "    <tr>\n",
              "      <th>src_bytes</th>\n",
              "      <td>1762852</td>\n",
              "      <td>0</td>\n",
              "      <td>0</td>\n",
              "      <td>0</td>\n",
              "      <td>0</td>\n",
              "    </tr>\n",
              "    <tr>\n",
              "      <th>dst_bytes</th>\n",
              "      <td>41933215</td>\n",
              "      <td>0</td>\n",
              "      <td>0</td>\n",
              "      <td>0</td>\n",
              "      <td>298</td>\n",
              "    </tr>\n",
              "    <tr>\n",
              "      <th>conn_state</th>\n",
              "      <td>OTH</td>\n",
              "      <td>S0</td>\n",
              "      <td>OTH</td>\n",
              "      <td>OTH</td>\n",
              "      <td>SHR</td>\n",
              "    </tr>\n",
              "    <tr>\n",
              "      <th>missed_bytes</th>\n",
              "      <td>0</td>\n",
              "      <td>0</td>\n",
              "      <td>0</td>\n",
              "      <td>0</td>\n",
              "      <td>0</td>\n",
              "    </tr>\n",
              "    <tr>\n",
              "      <th>src_pkts</th>\n",
              "      <td>252181</td>\n",
              "      <td>1</td>\n",
              "      <td>0</td>\n",
              "      <td>0</td>\n",
              "      <td>0</td>\n",
              "    </tr>\n",
              "    <tr>\n",
              "      <th>src_ip_bytes</th>\n",
              "      <td>14911156</td>\n",
              "      <td>63</td>\n",
              "      <td>0</td>\n",
              "      <td>0</td>\n",
              "      <td>0</td>\n",
              "    </tr>\n",
              "    <tr>\n",
              "      <th>dst_pkts</th>\n",
              "      <td>2</td>\n",
              "      <td>0</td>\n",
              "      <td>0</td>\n",
              "      <td>0</td>\n",
              "      <td>2</td>\n",
              "    </tr>\n",
              "    <tr>\n",
              "      <th>dst_ip_bytes</th>\n",
              "      <td>236</td>\n",
              "      <td>0</td>\n",
              "      <td>0</td>\n",
              "      <td>0</td>\n",
              "      <td>354</td>\n",
              "    </tr>\n",
              "    <tr>\n",
              "      <th>dns_query</th>\n",
              "      <td>-</td>\n",
              "      <td>-</td>\n",
              "      <td>-</td>\n",
              "      <td>-</td>\n",
              "      <td>-</td>\n",
              "    </tr>\n",
              "    <tr>\n",
              "      <th>dns_qclass</th>\n",
              "      <td>0</td>\n",
              "      <td>0</td>\n",
              "      <td>0</td>\n",
              "      <td>0</td>\n",
              "      <td>0</td>\n",
              "    </tr>\n",
              "    <tr>\n",
              "      <th>dns_qtype</th>\n",
              "      <td>0</td>\n",
              "      <td>0</td>\n",
              "      <td>0</td>\n",
              "      <td>0</td>\n",
              "      <td>0</td>\n",
              "    </tr>\n",
              "    <tr>\n",
              "      <th>dns_rcode</th>\n",
              "      <td>0</td>\n",
              "      <td>0</td>\n",
              "      <td>0</td>\n",
              "      <td>0</td>\n",
              "      <td>0</td>\n",
              "    </tr>\n",
              "    <tr>\n",
              "      <th>dns_AA</th>\n",
              "      <td>-</td>\n",
              "      <td>-</td>\n",
              "      <td>-</td>\n",
              "      <td>-</td>\n",
              "      <td>-</td>\n",
              "    </tr>\n",
              "    <tr>\n",
              "      <th>dns_RD</th>\n",
              "      <td>-</td>\n",
              "      <td>-</td>\n",
              "      <td>-</td>\n",
              "      <td>-</td>\n",
              "      <td>-</td>\n",
              "    </tr>\n",
              "    <tr>\n",
              "      <th>dns_RA</th>\n",
              "      <td>-</td>\n",
              "      <td>-</td>\n",
              "      <td>-</td>\n",
              "      <td>-</td>\n",
              "      <td>-</td>\n",
              "    </tr>\n",
              "    <tr>\n",
              "      <th>dns_rejected</th>\n",
              "      <td>-</td>\n",
              "      <td>-</td>\n",
              "      <td>-</td>\n",
              "      <td>-</td>\n",
              "      <td>-</td>\n",
              "    </tr>\n",
              "    <tr>\n",
              "      <th>ssl_version</th>\n",
              "      <td>-</td>\n",
              "      <td>-</td>\n",
              "      <td>-</td>\n",
              "      <td>-</td>\n",
              "      <td>-</td>\n",
              "    </tr>\n",
              "    <tr>\n",
              "      <th>ssl_cipher</th>\n",
              "      <td>-</td>\n",
              "      <td>-</td>\n",
              "      <td>-</td>\n",
              "      <td>-</td>\n",
              "      <td>-</td>\n",
              "    </tr>\n",
              "    <tr>\n",
              "      <th>ssl_resumed</th>\n",
              "      <td>-</td>\n",
              "      <td>-</td>\n",
              "      <td>-</td>\n",
              "      <td>-</td>\n",
              "      <td>-</td>\n",
              "    </tr>\n",
              "    <tr>\n",
              "      <th>ssl_established</th>\n",
              "      <td>-</td>\n",
              "      <td>-</td>\n",
              "      <td>-</td>\n",
              "      <td>-</td>\n",
              "      <td>-</td>\n",
              "    </tr>\n",
              "    <tr>\n",
              "      <th>ssl_subject</th>\n",
              "      <td>-</td>\n",
              "      <td>-</td>\n",
              "      <td>-</td>\n",
              "      <td>-</td>\n",
              "      <td>-</td>\n",
              "    </tr>\n",
              "    <tr>\n",
              "      <th>ssl_issuer</th>\n",
              "      <td>-</td>\n",
              "      <td>-</td>\n",
              "      <td>-</td>\n",
              "      <td>-</td>\n",
              "      <td>-</td>\n",
              "    </tr>\n",
              "    <tr>\n",
              "      <th>http_trans_depth</th>\n",
              "      <td>-</td>\n",
              "      <td>-</td>\n",
              "      <td>-</td>\n",
              "      <td>-</td>\n",
              "      <td>-</td>\n",
              "    </tr>\n",
              "    <tr>\n",
              "      <th>http_method</th>\n",
              "      <td>-</td>\n",
              "      <td>-</td>\n",
              "      <td>-</td>\n",
              "      <td>-</td>\n",
              "      <td>-</td>\n",
              "    </tr>\n",
              "    <tr>\n",
              "      <th>http_uri</th>\n",
              "      <td>-</td>\n",
              "      <td>-</td>\n",
              "      <td>-</td>\n",
              "      <td>-</td>\n",
              "      <td>-</td>\n",
              "    </tr>\n",
              "    <tr>\n",
              "      <th>http_version</th>\n",
              "      <td>-</td>\n",
              "      <td>-</td>\n",
              "      <td>-</td>\n",
              "      <td>-</td>\n",
              "      <td>-</td>\n",
              "    </tr>\n",
              "    <tr>\n",
              "      <th>http_request_body_len</th>\n",
              "      <td>0</td>\n",
              "      <td>0</td>\n",
              "      <td>0</td>\n",
              "      <td>0</td>\n",
              "      <td>0</td>\n",
              "    </tr>\n",
              "    <tr>\n",
              "      <th>http_response_body_len</th>\n",
              "      <td>0</td>\n",
              "      <td>0</td>\n",
              "      <td>0</td>\n",
              "      <td>0</td>\n",
              "      <td>0</td>\n",
              "    </tr>\n",
              "    <tr>\n",
              "      <th>http_status_code</th>\n",
              "      <td>0</td>\n",
              "      <td>0</td>\n",
              "      <td>0</td>\n",
              "      <td>0</td>\n",
              "      <td>0</td>\n",
              "    </tr>\n",
              "    <tr>\n",
              "      <th>http_user_agent</th>\n",
              "      <td>-</td>\n",
              "      <td>-</td>\n",
              "      <td>-</td>\n",
              "      <td>-</td>\n",
              "      <td>-</td>\n",
              "    </tr>\n",
              "    <tr>\n",
              "      <th>http_orig_mime_types</th>\n",
              "      <td>-</td>\n",
              "      <td>-</td>\n",
              "      <td>-</td>\n",
              "      <td>-</td>\n",
              "      <td>-</td>\n",
              "    </tr>\n",
              "    <tr>\n",
              "      <th>http_resp_mime_types</th>\n",
              "      <td>-</td>\n",
              "      <td>-</td>\n",
              "      <td>-</td>\n",
              "      <td>-</td>\n",
              "      <td>-</td>\n",
              "    </tr>\n",
              "    <tr>\n",
              "      <th>weird_name</th>\n",
              "      <td>bad_TCP_checksum</td>\n",
              "      <td>-</td>\n",
              "      <td>bad_TCP_checksum</td>\n",
              "      <td>-</td>\n",
              "      <td>bad_UDP_checksum</td>\n",
              "    </tr>\n",
              "    <tr>\n",
              "      <th>weird_addl</th>\n",
              "      <td>-</td>\n",
              "      <td>-</td>\n",
              "      <td>-</td>\n",
              "      <td>-</td>\n",
              "      <td>-</td>\n",
              "    </tr>\n",
              "    <tr>\n",
              "      <th>weird_notice</th>\n",
              "      <td>F</td>\n",
              "      <td>-</td>\n",
              "      <td>F</td>\n",
              "      <td>-</td>\n",
              "      <td>F</td>\n",
              "    </tr>\n",
              "    <tr>\n",
              "      <th>label</th>\n",
              "      <td>0</td>\n",
              "      <td>0</td>\n",
              "      <td>0</td>\n",
              "      <td>0</td>\n",
              "      <td>0</td>\n",
              "    </tr>\n",
              "    <tr>\n",
              "      <th>type</th>\n",
              "      <td>normal</td>\n",
              "      <td>normal</td>\n",
              "      <td>normal</td>\n",
              "      <td>normal</td>\n",
              "      <td>normal</td>\n",
              "    </tr>\n",
              "  </tbody>\n",
              "</table>\n",
              "</div>\n",
              "      <button class=\"colab-df-convert\" onclick=\"convertToInteractive('df-3bf30617-ec77-4a19-93de-9dc688c45af8')\"\n",
              "              title=\"Convert this dataframe to an interactive table.\"\n",
              "              style=\"display:none;\">\n",
              "        \n",
              "  <svg xmlns=\"http://www.w3.org/2000/svg\" height=\"24px\"viewBox=\"0 0 24 24\"\n",
              "       width=\"24px\">\n",
              "    <path d=\"M0 0h24v24H0V0z\" fill=\"none\"/>\n",
              "    <path d=\"M18.56 5.44l.94 2.06.94-2.06 2.06-.94-2.06-.94-.94-2.06-.94 2.06-2.06.94zm-11 1L8.5 8.5l.94-2.06 2.06-.94-2.06-.94L8.5 2.5l-.94 2.06-2.06.94zm10 10l.94 2.06.94-2.06 2.06-.94-2.06-.94-.94-2.06-.94 2.06-2.06.94z\"/><path d=\"M17.41 7.96l-1.37-1.37c-.4-.4-.92-.59-1.43-.59-.52 0-1.04.2-1.43.59L10.3 9.45l-7.72 7.72c-.78.78-.78 2.05 0 2.83L4 21.41c.39.39.9.59 1.41.59.51 0 1.02-.2 1.41-.59l7.78-7.78 2.81-2.81c.8-.78.8-2.07 0-2.86zM5.41 20L4 18.59l7.72-7.72 1.47 1.35L5.41 20z\"/>\n",
              "  </svg>\n",
              "      </button>\n",
              "      \n",
              "  <style>\n",
              "    .colab-df-container {\n",
              "      display:flex;\n",
              "      flex-wrap:wrap;\n",
              "      gap: 12px;\n",
              "    }\n",
              "\n",
              "    .colab-df-convert {\n",
              "      background-color: #E8F0FE;\n",
              "      border: none;\n",
              "      border-radius: 50%;\n",
              "      cursor: pointer;\n",
              "      display: none;\n",
              "      fill: #1967D2;\n",
              "      height: 32px;\n",
              "      padding: 0 0 0 0;\n",
              "      width: 32px;\n",
              "    }\n",
              "\n",
              "    .colab-df-convert:hover {\n",
              "      background-color: #E2EBFA;\n",
              "      box-shadow: 0px 1px 2px rgba(60, 64, 67, 0.3), 0px 1px 3px 1px rgba(60, 64, 67, 0.15);\n",
              "      fill: #174EA6;\n",
              "    }\n",
              "\n",
              "    [theme=dark] .colab-df-convert {\n",
              "      background-color: #3B4455;\n",
              "      fill: #D2E3FC;\n",
              "    }\n",
              "\n",
              "    [theme=dark] .colab-df-convert:hover {\n",
              "      background-color: #434B5C;\n",
              "      box-shadow: 0px 1px 3px 1px rgba(0, 0, 0, 0.15);\n",
              "      filter: drop-shadow(0px 1px 2px rgba(0, 0, 0, 0.3));\n",
              "      fill: #FFFFFF;\n",
              "    }\n",
              "  </style>\n",
              "\n",
              "      <script>\n",
              "        const buttonEl =\n",
              "          document.querySelector('#df-3bf30617-ec77-4a19-93de-9dc688c45af8 button.colab-df-convert');\n",
              "        buttonEl.style.display =\n",
              "          google.colab.kernel.accessAllowed ? 'block' : 'none';\n",
              "\n",
              "        async function convertToInteractive(key) {\n",
              "          const element = document.querySelector('#df-3bf30617-ec77-4a19-93de-9dc688c45af8');\n",
              "          const dataTable =\n",
              "            await google.colab.kernel.invokeFunction('convertToInteractive',\n",
              "                                                     [key], {});\n",
              "          if (!dataTable) return;\n",
              "\n",
              "          const docLinkHtml = 'Like what you see? Visit the ' +\n",
              "            '<a target=\"_blank\" href=https://colab.research.google.com/notebooks/data_table.ipynb>data table notebook</a>'\n",
              "            + ' to learn more about interactive tables.';\n",
              "          element.innerHTML = '';\n",
              "          dataTable['output_type'] = 'display_data';\n",
              "          await google.colab.output.renderOutput(dataTable, element);\n",
              "          const docLink = document.createElement('div');\n",
              "          docLink.innerHTML = docLinkHtml;\n",
              "          element.appendChild(docLink);\n",
              "        }\n",
              "      </script>\n",
              "    </div>\n",
              "  </div>\n",
              "  "
            ]
          },
          "metadata": {},
          "execution_count": 62
        }
      ]
    },
    {
      "cell_type": "markdown",
      "source": [
        "## 3.4 Feature Elimination by understanding the dataset"
      ],
      "metadata": {
        "id": "rd_87t0aCitv"
      }
    },
    {
      "cell_type": "markdown",
      "source": [
        "After understanding each feature in the dataset, we decide to drop following features:"
      ],
      "metadata": {
        "id": "Zoqvr2nbxvHK"
      }
    },
    {
      "cell_type": "code",
      "source": [
        "# Drop the columns (features) that has no relationship with the pattern we try to find\n",
        "# 'pkSeqID', 'stime', 'saddr', 'sport', 'daddr', 'dport', 'ltime', 'seq'\n",
        "\n",
        "df_fe1 = df.drop(['pkSeqID', 'stime', 'saddr', 'sport', 'daddr', 'dport', 'ltime', 'seq'], axis=1)"
      ],
      "metadata": {
        "id": "4wXGbc6fCdxA"
      },
      "execution_count": null,
      "outputs": []
    },
    {
      "cell_type": "code",
      "source": [
        "df_fe1.head()"
      ],
      "metadata": {
        "colab": {
          "base_uri": "https://localhost:8080/",
          "height": 300
        },
        "id": "YkJmO0MLC-2M",
        "outputId": "38a836bb-7994-4e5e-d37c-94b49814f30d"
      },
      "execution_count": null,
      "outputs": [
        {
          "output_type": "execute_result",
          "data": {
            "text/plain": [
              "  flgs  flgs_number proto  proto_number  pkts  bytes state  state_number  \\\n",
              "0    e            1   tcp             1     8   1980   RST             1   \n",
              "1    e            1   arp             2     2    120   CON             2   \n",
              "2    e            1   tcp             1     8   2126   RST             1   \n",
              "3    e            1   tcp             1     8   2024   RST             1   \n",
              "4    e            1   tcp             1     8   2319   RST             1   \n",
              "\n",
              "        dur      mean  ...  AR_P_Proto_P_DstIP  N_IN_Conn_P_DstIP  \\\n",
              "0  7.056393  0.068909  ...             1.12704               96.0   \n",
              "1  0.000131  0.000131  ...         15267.20000                1.0   \n",
              "2  7.047852  0.064494  ...             1.12704               96.0   \n",
              "3  7.047592  0.064189  ...             1.12704               96.0   \n",
              "4  7.046841  0.063887  ...             1.12704               96.0   \n",
              "\n",
              "   N_IN_Conn_P_SrcIP  AR_P_Proto_P_Sport  AR_P_Proto_P_Dport  \\\n",
              "0               75.0            1.133720            1.129970   \n",
              "1                2.0            0.005142            0.005142   \n",
              "2               75.0            1.135100            1.129970   \n",
              "3               75.0            1.135140            1.129970   \n",
              "4               75.0            1.135260            1.129970   \n",
              "\n",
              "   Pkts_P_State_P_Protocol_P_DestIP  Pkts_P_State_P_Protocol_P_SrcIP  attack  \\\n",
              "0                             770.0                            602.0     1.0   \n",
              "1                               2.0                              6.0     1.0   \n",
              "2                             770.0                            602.0     1.0   \n",
              "3                             770.0                            602.0     1.0   \n",
              "4                             770.0                            602.0     1.0   \n",
              "\n",
              "   category  subcategory  \n",
              "0       DoS         HTTP  \n",
              "1       DoS         HTTP  \n",
              "2       DoS         HTTP  \n",
              "3       DoS         HTTP  \n",
              "4       DoS         HTTP  \n",
              "\n",
              "[5 rows x 38 columns]"
            ],
            "text/html": [
              "\n",
              "  <div id=\"df-a04b3970-a790-4c27-afcd-f28a46c36fd6\">\n",
              "    <div class=\"colab-df-container\">\n",
              "      <div>\n",
              "<style scoped>\n",
              "    .dataframe tbody tr th:only-of-type {\n",
              "        vertical-align: middle;\n",
              "    }\n",
              "\n",
              "    .dataframe tbody tr th {\n",
              "        vertical-align: top;\n",
              "    }\n",
              "\n",
              "    .dataframe thead th {\n",
              "        text-align: right;\n",
              "    }\n",
              "</style>\n",
              "<table border=\"1\" class=\"dataframe\">\n",
              "  <thead>\n",
              "    <tr style=\"text-align: right;\">\n",
              "      <th></th>\n",
              "      <th>flgs</th>\n",
              "      <th>flgs_number</th>\n",
              "      <th>proto</th>\n",
              "      <th>proto_number</th>\n",
              "      <th>pkts</th>\n",
              "      <th>bytes</th>\n",
              "      <th>state</th>\n",
              "      <th>state_number</th>\n",
              "      <th>dur</th>\n",
              "      <th>mean</th>\n",
              "      <th>...</th>\n",
              "      <th>AR_P_Proto_P_DstIP</th>\n",
              "      <th>N_IN_Conn_P_DstIP</th>\n",
              "      <th>N_IN_Conn_P_SrcIP</th>\n",
              "      <th>AR_P_Proto_P_Sport</th>\n",
              "      <th>AR_P_Proto_P_Dport</th>\n",
              "      <th>Pkts_P_State_P_Protocol_P_DestIP</th>\n",
              "      <th>Pkts_P_State_P_Protocol_P_SrcIP</th>\n",
              "      <th>attack</th>\n",
              "      <th>category</th>\n",
              "      <th>subcategory</th>\n",
              "    </tr>\n",
              "  </thead>\n",
              "  <tbody>\n",
              "    <tr>\n",
              "      <th>0</th>\n",
              "      <td>e</td>\n",
              "      <td>1</td>\n",
              "      <td>tcp</td>\n",
              "      <td>1</td>\n",
              "      <td>8</td>\n",
              "      <td>1980</td>\n",
              "      <td>RST</td>\n",
              "      <td>1</td>\n",
              "      <td>7.056393</td>\n",
              "      <td>0.068909</td>\n",
              "      <td>...</td>\n",
              "      <td>1.12704</td>\n",
              "      <td>96.0</td>\n",
              "      <td>75.0</td>\n",
              "      <td>1.133720</td>\n",
              "      <td>1.129970</td>\n",
              "      <td>770.0</td>\n",
              "      <td>602.0</td>\n",
              "      <td>1.0</td>\n",
              "      <td>DoS</td>\n",
              "      <td>HTTP</td>\n",
              "    </tr>\n",
              "    <tr>\n",
              "      <th>1</th>\n",
              "      <td>e</td>\n",
              "      <td>1</td>\n",
              "      <td>arp</td>\n",
              "      <td>2</td>\n",
              "      <td>2</td>\n",
              "      <td>120</td>\n",
              "      <td>CON</td>\n",
              "      <td>2</td>\n",
              "      <td>0.000131</td>\n",
              "      <td>0.000131</td>\n",
              "      <td>...</td>\n",
              "      <td>15267.20000</td>\n",
              "      <td>1.0</td>\n",
              "      <td>2.0</td>\n",
              "      <td>0.005142</td>\n",
              "      <td>0.005142</td>\n",
              "      <td>2.0</td>\n",
              "      <td>6.0</td>\n",
              "      <td>1.0</td>\n",
              "      <td>DoS</td>\n",
              "      <td>HTTP</td>\n",
              "    </tr>\n",
              "    <tr>\n",
              "      <th>2</th>\n",
              "      <td>e</td>\n",
              "      <td>1</td>\n",
              "      <td>tcp</td>\n",
              "      <td>1</td>\n",
              "      <td>8</td>\n",
              "      <td>2126</td>\n",
              "      <td>RST</td>\n",
              "      <td>1</td>\n",
              "      <td>7.047852</td>\n",
              "      <td>0.064494</td>\n",
              "      <td>...</td>\n",
              "      <td>1.12704</td>\n",
              "      <td>96.0</td>\n",
              "      <td>75.0</td>\n",
              "      <td>1.135100</td>\n",
              "      <td>1.129970</td>\n",
              "      <td>770.0</td>\n",
              "      <td>602.0</td>\n",
              "      <td>1.0</td>\n",
              "      <td>DoS</td>\n",
              "      <td>HTTP</td>\n",
              "    </tr>\n",
              "    <tr>\n",
              "      <th>3</th>\n",
              "      <td>e</td>\n",
              "      <td>1</td>\n",
              "      <td>tcp</td>\n",
              "      <td>1</td>\n",
              "      <td>8</td>\n",
              "      <td>2024</td>\n",
              "      <td>RST</td>\n",
              "      <td>1</td>\n",
              "      <td>7.047592</td>\n",
              "      <td>0.064189</td>\n",
              "      <td>...</td>\n",
              "      <td>1.12704</td>\n",
              "      <td>96.0</td>\n",
              "      <td>75.0</td>\n",
              "      <td>1.135140</td>\n",
              "      <td>1.129970</td>\n",
              "      <td>770.0</td>\n",
              "      <td>602.0</td>\n",
              "      <td>1.0</td>\n",
              "      <td>DoS</td>\n",
              "      <td>HTTP</td>\n",
              "    </tr>\n",
              "    <tr>\n",
              "      <th>4</th>\n",
              "      <td>e</td>\n",
              "      <td>1</td>\n",
              "      <td>tcp</td>\n",
              "      <td>1</td>\n",
              "      <td>8</td>\n",
              "      <td>2319</td>\n",
              "      <td>RST</td>\n",
              "      <td>1</td>\n",
              "      <td>7.046841</td>\n",
              "      <td>0.063887</td>\n",
              "      <td>...</td>\n",
              "      <td>1.12704</td>\n",
              "      <td>96.0</td>\n",
              "      <td>75.0</td>\n",
              "      <td>1.135260</td>\n",
              "      <td>1.129970</td>\n",
              "      <td>770.0</td>\n",
              "      <td>602.0</td>\n",
              "      <td>1.0</td>\n",
              "      <td>DoS</td>\n",
              "      <td>HTTP</td>\n",
              "    </tr>\n",
              "  </tbody>\n",
              "</table>\n",
              "<p>5 rows × 38 columns</p>\n",
              "</div>\n",
              "      <button class=\"colab-df-convert\" onclick=\"convertToInteractive('df-a04b3970-a790-4c27-afcd-f28a46c36fd6')\"\n",
              "              title=\"Convert this dataframe to an interactive table.\"\n",
              "              style=\"display:none;\">\n",
              "        \n",
              "  <svg xmlns=\"http://www.w3.org/2000/svg\" height=\"24px\"viewBox=\"0 0 24 24\"\n",
              "       width=\"24px\">\n",
              "    <path d=\"M0 0h24v24H0V0z\" fill=\"none\"/>\n",
              "    <path d=\"M18.56 5.44l.94 2.06.94-2.06 2.06-.94-2.06-.94-.94-2.06-.94 2.06-2.06.94zm-11 1L8.5 8.5l.94-2.06 2.06-.94-2.06-.94L8.5 2.5l-.94 2.06-2.06.94zm10 10l.94 2.06.94-2.06 2.06-.94-2.06-.94-.94-2.06-.94 2.06-2.06.94z\"/><path d=\"M17.41 7.96l-1.37-1.37c-.4-.4-.92-.59-1.43-.59-.52 0-1.04.2-1.43.59L10.3 9.45l-7.72 7.72c-.78.78-.78 2.05 0 2.83L4 21.41c.39.39.9.59 1.41.59.51 0 1.02-.2 1.41-.59l7.78-7.78 2.81-2.81c.8-.78.8-2.07 0-2.86zM5.41 20L4 18.59l7.72-7.72 1.47 1.35L5.41 20z\"/>\n",
              "  </svg>\n",
              "      </button>\n",
              "      \n",
              "  <style>\n",
              "    .colab-df-container {\n",
              "      display:flex;\n",
              "      flex-wrap:wrap;\n",
              "      gap: 12px;\n",
              "    }\n",
              "\n",
              "    .colab-df-convert {\n",
              "      background-color: #E8F0FE;\n",
              "      border: none;\n",
              "      border-radius: 50%;\n",
              "      cursor: pointer;\n",
              "      display: none;\n",
              "      fill: #1967D2;\n",
              "      height: 32px;\n",
              "      padding: 0 0 0 0;\n",
              "      width: 32px;\n",
              "    }\n",
              "\n",
              "    .colab-df-convert:hover {\n",
              "      background-color: #E2EBFA;\n",
              "      box-shadow: 0px 1px 2px rgba(60, 64, 67, 0.3), 0px 1px 3px 1px rgba(60, 64, 67, 0.15);\n",
              "      fill: #174EA6;\n",
              "    }\n",
              "\n",
              "    [theme=dark] .colab-df-convert {\n",
              "      background-color: #3B4455;\n",
              "      fill: #D2E3FC;\n",
              "    }\n",
              "\n",
              "    [theme=dark] .colab-df-convert:hover {\n",
              "      background-color: #434B5C;\n",
              "      box-shadow: 0px 1px 3px 1px rgba(0, 0, 0, 0.15);\n",
              "      filter: drop-shadow(0px 1px 2px rgba(0, 0, 0, 0.3));\n",
              "      fill: #FFFFFF;\n",
              "    }\n",
              "  </style>\n",
              "\n",
              "      <script>\n",
              "        const buttonEl =\n",
              "          document.querySelector('#df-a04b3970-a790-4c27-afcd-f28a46c36fd6 button.colab-df-convert');\n",
              "        buttonEl.style.display =\n",
              "          google.colab.kernel.accessAllowed ? 'block' : 'none';\n",
              "\n",
              "        async function convertToInteractive(key) {\n",
              "          const element = document.querySelector('#df-a04b3970-a790-4c27-afcd-f28a46c36fd6');\n",
              "          const dataTable =\n",
              "            await google.colab.kernel.invokeFunction('convertToInteractive',\n",
              "                                                     [key], {});\n",
              "          if (!dataTable) return;\n",
              "\n",
              "          const docLinkHtml = 'Like what you see? Visit the ' +\n",
              "            '<a target=\"_blank\" href=https://colab.research.google.com/notebooks/data_table.ipynb>data table notebook</a>'\n",
              "            + ' to learn more about interactive tables.';\n",
              "          element.innerHTML = '';\n",
              "          dataTable['output_type'] = 'display_data';\n",
              "          await google.colab.output.renderOutput(dataTable, element);\n",
              "          const docLink = document.createElement('div');\n",
              "          docLink.innerHTML = docLinkHtml;\n",
              "          element.appendChild(docLink);\n",
              "        }\n",
              "      </script>\n",
              "    </div>\n",
              "  </div>\n",
              "  "
            ]
          },
          "metadata": {},
          "execution_count": 28
        }
      ]
    },
    {
      "cell_type": "code",
      "source": [
        "df_fe1.info()"
      ],
      "metadata": {
        "colab": {
          "base_uri": "https://localhost:8080/"
        },
        "id": "_z_ZBpX5DjZC",
        "outputId": "f28735fa-6f75-4747-f120-a5a4956e975f"
      },
      "execution_count": null,
      "outputs": [
        {
          "output_type": "stream",
          "name": "stdout",
          "text": [
            "<class 'pandas.core.frame.DataFrame'>\n",
            "Int64Index: 249056 entries, 0 to 249058\n",
            "Data columns (total 38 columns):\n",
            " #   Column                            Non-Null Count   Dtype  \n",
            "---  ------                            --------------   -----  \n",
            " 0   flgs                              249056 non-null  object \n",
            " 1   flgs_number                       249056 non-null  int64  \n",
            " 2   proto                             249056 non-null  object \n",
            " 3   proto_number                      249056 non-null  int64  \n",
            " 4   pkts                              249056 non-null  int64  \n",
            " 5   bytes                             249056 non-null  int64  \n",
            " 6   state                             249056 non-null  object \n",
            " 7   state_number                      249056 non-null  int64  \n",
            " 8   dur                               249056 non-null  float64\n",
            " 9   mean                              249056 non-null  float64\n",
            " 10  stddev                            249056 non-null  float64\n",
            " 11  sum                               249056 non-null  float64\n",
            " 12  min                               249056 non-null  float64\n",
            " 13  max                               249056 non-null  float64\n",
            " 14  spkts                             249056 non-null  float64\n",
            " 15  dpkts                             249056 non-null  float64\n",
            " 16  sbytes                            249056 non-null  float64\n",
            " 17  dbytes                            249056 non-null  float64\n",
            " 18  rate                              249056 non-null  float64\n",
            " 19  srate                             249056 non-null  float64\n",
            " 20  drate                             249056 non-null  float64\n",
            " 21  TnBPSrcIP                         249056 non-null  float64\n",
            " 22  TnBPDstIP                         249056 non-null  float64\n",
            " 23  TnP_PSrcIP                        249056 non-null  float64\n",
            " 24  TnP_PDstIP                        249056 non-null  float64\n",
            " 25  TnP_PerProto                      249056 non-null  float64\n",
            " 26  TnP_Per_Dport                     249056 non-null  float64\n",
            " 27  AR_P_Proto_P_SrcIP                249056 non-null  float64\n",
            " 28  AR_P_Proto_P_DstIP                249056 non-null  float64\n",
            " 29  N_IN_Conn_P_DstIP                 249056 non-null  float64\n",
            " 30  N_IN_Conn_P_SrcIP                 249056 non-null  float64\n",
            " 31  AR_P_Proto_P_Sport                249056 non-null  float64\n",
            " 32  AR_P_Proto_P_Dport                249056 non-null  float64\n",
            " 33  Pkts_P_State_P_Protocol_P_DestIP  249056 non-null  float64\n",
            " 34  Pkts_P_State_P_Protocol_P_SrcIP   249056 non-null  float64\n",
            " 35  attack                            249056 non-null  float64\n",
            " 36  category                          249056 non-null  object \n",
            " 37  subcategory                       249056 non-null  object \n",
            "dtypes: float64(28), int64(5), object(5)\n",
            "memory usage: 74.1+ MB\n"
          ]
        }
      ]
    },
    {
      "cell_type": "code",
      "source": [
        "# Since the attributes are the same for 'flgs' and 'flgs_number', 'proto' and 'proto_number', 'state' and 'state_number'\n",
        "# So we just need one of each pair.\n",
        "# Drop the columns (features) 'flgs_number', 'proto_number', 'state_number'.\n",
        "\n",
        "df_fe2 = df_fe1.drop(['flgs_number', 'proto_number', 'state_number'], axis=1)\n"
      ],
      "metadata": {
        "id": "b9SDCzEzuBOO"
      },
      "execution_count": null,
      "outputs": []
    },
    {
      "cell_type": "code",
      "source": [
        "df_fe2.info()"
      ],
      "metadata": {
        "colab": {
          "base_uri": "https://localhost:8080/"
        },
        "id": "DvSUKdAou_DV",
        "outputId": "c38bf75a-6392-4939-8d87-1f5c76060fae"
      },
      "execution_count": null,
      "outputs": [
        {
          "output_type": "stream",
          "name": "stdout",
          "text": [
            "<class 'pandas.core.frame.DataFrame'>\n",
            "Int64Index: 249056 entries, 0 to 249058\n",
            "Data columns (total 35 columns):\n",
            " #   Column                            Non-Null Count   Dtype  \n",
            "---  ------                            --------------   -----  \n",
            " 0   flgs                              249056 non-null  object \n",
            " 1   proto                             249056 non-null  object \n",
            " 2   pkts                              249056 non-null  int64  \n",
            " 3   bytes                             249056 non-null  int64  \n",
            " 4   state                             249056 non-null  object \n",
            " 5   dur                               249056 non-null  float64\n",
            " 6   mean                              249056 non-null  float64\n",
            " 7   stddev                            249056 non-null  float64\n",
            " 8   sum                               249056 non-null  float64\n",
            " 9   min                               249056 non-null  float64\n",
            " 10  max                               249056 non-null  float64\n",
            " 11  spkts                             249056 non-null  float64\n",
            " 12  dpkts                             249056 non-null  float64\n",
            " 13  sbytes                            249056 non-null  float64\n",
            " 14  dbytes                            249056 non-null  float64\n",
            " 15  rate                              249056 non-null  float64\n",
            " 16  srate                             249056 non-null  float64\n",
            " 17  drate                             249056 non-null  float64\n",
            " 18  TnBPSrcIP                         249056 non-null  float64\n",
            " 19  TnBPDstIP                         249056 non-null  float64\n",
            " 20  TnP_PSrcIP                        249056 non-null  float64\n",
            " 21  TnP_PDstIP                        249056 non-null  float64\n",
            " 22  TnP_PerProto                      249056 non-null  float64\n",
            " 23  TnP_Per_Dport                     249056 non-null  float64\n",
            " 24  AR_P_Proto_P_SrcIP                249056 non-null  float64\n",
            " 25  AR_P_Proto_P_DstIP                249056 non-null  float64\n",
            " 26  N_IN_Conn_P_DstIP                 249056 non-null  float64\n",
            " 27  N_IN_Conn_P_SrcIP                 249056 non-null  float64\n",
            " 28  AR_P_Proto_P_Sport                249056 non-null  float64\n",
            " 29  AR_P_Proto_P_Dport                249056 non-null  float64\n",
            " 30  Pkts_P_State_P_Protocol_P_DestIP  249056 non-null  float64\n",
            " 31  Pkts_P_State_P_Protocol_P_SrcIP   249056 non-null  float64\n",
            " 32  attack                            249056 non-null  float64\n",
            " 33  category                          249056 non-null  object \n",
            " 34  subcategory                       249056 non-null  object \n",
            "dtypes: float64(28), int64(2), object(5)\n",
            "memory usage: 68.4+ MB\n"
          ]
        }
      ]
    },
    {
      "cell_type": "markdown",
      "source": [
        "## 3.5 Handling Non-numerical Values"
      ],
      "metadata": {
        "id": "niVr9Gd0DV9h"
      }
    },
    {
      "cell_type": "code",
      "source": [
        "# let's encoding our categorical features using one-hot encoding\n",
        "\n",
        "df_fe2_he = pd.get_dummies(df_fe2, columns = ['flgs', 'proto', 'state'])"
      ],
      "metadata": {
        "id": "BuVyIDMcDM6b"
      },
      "execution_count": null,
      "outputs": []
    },
    {
      "cell_type": "code",
      "source": [
        "df_fe2_he.head().T"
      ],
      "metadata": {
        "colab": {
          "base_uri": "https://localhost:8080/",
          "height": 1000
        },
        "id": "iKZHlXu9D8xr",
        "outputId": "755dbd98-c36f-4f6a-b42f-ac4482571394"
      },
      "execution_count": null,
      "outputs": [
        {
          "output_type": "execute_result",
          "data": {
            "text/plain": [
              "                                          0            1          2  \\\n",
              "pkts                                      8            2          8   \n",
              "bytes                                  1980          120       2126   \n",
              "dur                                7.056393     0.000131   7.047852   \n",
              "mean                               0.068909     0.000131   0.064494   \n",
              "stddev                             0.068909          0.0   0.064494   \n",
              "sum                                0.137818     0.000131   0.128988   \n",
              "min                                     0.0     0.000131        0.0   \n",
              "max                                0.137818     0.000131   0.128988   \n",
              "spkts                                   5.0          1.0        5.0   \n",
              "dpkts                                   3.0          1.0        3.0   \n",
              "sbytes                                650.0         60.0      796.0   \n",
              "dbytes                               1330.0         60.0     1330.0   \n",
              "rate                               0.992008  7633.588379    0.99321   \n",
              "srate                              0.566862          0.0   0.567549   \n",
              "drate                             14.511893          0.0  15.505319   \n",
              "TnBPSrcIP                          157426.0        360.0   157426.0   \n",
              "TnBPDstIP                          201841.0        120.0   201841.0   \n",
              "TnP_PSrcIP                            602.0          6.0      602.0   \n",
              "TnP_PDstIP                            770.0          2.0      770.0   \n",
              "TnP_PerProto                          772.0          8.0      772.0   \n",
              "TnP_Per_Dport                         772.0          8.0      772.0   \n",
              "AR_P_Proto_P_SrcIP                  1.14297     0.003857    1.14297   \n",
              "AR_P_Proto_P_DstIP                  1.12704      15267.2    1.12704   \n",
              "N_IN_Conn_P_DstIP                      96.0          1.0       96.0   \n",
              "N_IN_Conn_P_SrcIP                      75.0          2.0       75.0   \n",
              "AR_P_Proto_P_Sport                  1.13372     0.005142     1.1351   \n",
              "AR_P_Proto_P_Dport                  1.12997     0.005142    1.12997   \n",
              "Pkts_P_State_P_Protocol_P_DestIP      770.0          2.0      770.0   \n",
              "Pkts_P_State_P_Protocol_P_SrcIP       602.0          6.0      602.0   \n",
              "attack                                  1.0          1.0        1.0   \n",
              "category                                DoS          DoS        DoS   \n",
              "subcategory                            HTTP         HTTP       HTTP   \n",
              "flgs_e                                    1            1          1   \n",
              "flgs_e *                                  0            0          0   \n",
              "flgs_e d                                  0            0          0   \n",
              "flgs_e g                                  0            0          0   \n",
              "flgs_e s                                  0            0          0   \n",
              "flgs_eU                                   0            0          0   \n",
              "proto_arp                                 0            1          0   \n",
              "proto_tcp                                 1            0          1   \n",
              "proto_udp                                 0            0          0   \n",
              "state_ACC                                 0            0          0   \n",
              "state_CON                                 0            1          0   \n",
              "state_INT                                 0            0          0   \n",
              "state_REQ                                 0            0          0   \n",
              "state_RST                                 1            0          1   \n",
              "\n",
              "                                          3          4  \n",
              "pkts                                      8          8  \n",
              "bytes                                  2024       2319  \n",
              "dur                                7.047592   7.046841  \n",
              "mean                               0.064189   0.063887  \n",
              "stddev                             0.064189   0.063887  \n",
              "sum                                0.128378   0.127774  \n",
              "min                                     0.0        0.0  \n",
              "max                                0.128378   0.127774  \n",
              "spkts                                   5.0        5.0  \n",
              "dpkts                                   3.0        3.0  \n",
              "sbytes                                694.0      989.0  \n",
              "dbytes                               1330.0     1330.0  \n",
              "rate                               0.993247   0.993353  \n",
              "srate                               0.56757    0.56763  \n",
              "drate                             15.578993  15.652637  \n",
              "TnBPSrcIP                          157426.0   157426.0  \n",
              "TnBPDstIP                          201841.0   201841.0  \n",
              "TnP_PSrcIP                            602.0      602.0  \n",
              "TnP_PDstIP                            770.0      770.0  \n",
              "TnP_PerProto                          772.0      772.0  \n",
              "TnP_Per_Dport                         772.0      772.0  \n",
              "AR_P_Proto_P_SrcIP                  1.14297    1.14297  \n",
              "AR_P_Proto_P_DstIP                  1.12704    1.12704  \n",
              "N_IN_Conn_P_DstIP                      96.0       96.0  \n",
              "N_IN_Conn_P_SrcIP                      75.0       75.0  \n",
              "AR_P_Proto_P_Sport                  1.13514    1.13526  \n",
              "AR_P_Proto_P_Dport                  1.12997    1.12997  \n",
              "Pkts_P_State_P_Protocol_P_DestIP      770.0      770.0  \n",
              "Pkts_P_State_P_Protocol_P_SrcIP       602.0      602.0  \n",
              "attack                                  1.0        1.0  \n",
              "category                                DoS        DoS  \n",
              "subcategory                            HTTP       HTTP  \n",
              "flgs_e                                    1          1  \n",
              "flgs_e *                                  0          0  \n",
              "flgs_e d                                  0          0  \n",
              "flgs_e g                                  0          0  \n",
              "flgs_e s                                  0          0  \n",
              "flgs_eU                                   0          0  \n",
              "proto_arp                                 0          0  \n",
              "proto_tcp                                 1          1  \n",
              "proto_udp                                 0          0  \n",
              "state_ACC                                 0          0  \n",
              "state_CON                                 0          0  \n",
              "state_INT                                 0          0  \n",
              "state_REQ                                 0          0  \n",
              "state_RST                                 1          1  "
            ],
            "text/html": [
              "\n",
              "  <div id=\"df-d0b10225-8a1c-4b52-8238-0f7000da62a9\">\n",
              "    <div class=\"colab-df-container\">\n",
              "      <div>\n",
              "<style scoped>\n",
              "    .dataframe tbody tr th:only-of-type {\n",
              "        vertical-align: middle;\n",
              "    }\n",
              "\n",
              "    .dataframe tbody tr th {\n",
              "        vertical-align: top;\n",
              "    }\n",
              "\n",
              "    .dataframe thead th {\n",
              "        text-align: right;\n",
              "    }\n",
              "</style>\n",
              "<table border=\"1\" class=\"dataframe\">\n",
              "  <thead>\n",
              "    <tr style=\"text-align: right;\">\n",
              "      <th></th>\n",
              "      <th>0</th>\n",
              "      <th>1</th>\n",
              "      <th>2</th>\n",
              "      <th>3</th>\n",
              "      <th>4</th>\n",
              "    </tr>\n",
              "  </thead>\n",
              "  <tbody>\n",
              "    <tr>\n",
              "      <th>pkts</th>\n",
              "      <td>8</td>\n",
              "      <td>2</td>\n",
              "      <td>8</td>\n",
              "      <td>8</td>\n",
              "      <td>8</td>\n",
              "    </tr>\n",
              "    <tr>\n",
              "      <th>bytes</th>\n",
              "      <td>1980</td>\n",
              "      <td>120</td>\n",
              "      <td>2126</td>\n",
              "      <td>2024</td>\n",
              "      <td>2319</td>\n",
              "    </tr>\n",
              "    <tr>\n",
              "      <th>dur</th>\n",
              "      <td>7.056393</td>\n",
              "      <td>0.000131</td>\n",
              "      <td>7.047852</td>\n",
              "      <td>7.047592</td>\n",
              "      <td>7.046841</td>\n",
              "    </tr>\n",
              "    <tr>\n",
              "      <th>mean</th>\n",
              "      <td>0.068909</td>\n",
              "      <td>0.000131</td>\n",
              "      <td>0.064494</td>\n",
              "      <td>0.064189</td>\n",
              "      <td>0.063887</td>\n",
              "    </tr>\n",
              "    <tr>\n",
              "      <th>stddev</th>\n",
              "      <td>0.068909</td>\n",
              "      <td>0.0</td>\n",
              "      <td>0.064494</td>\n",
              "      <td>0.064189</td>\n",
              "      <td>0.063887</td>\n",
              "    </tr>\n",
              "    <tr>\n",
              "      <th>sum</th>\n",
              "      <td>0.137818</td>\n",
              "      <td>0.000131</td>\n",
              "      <td>0.128988</td>\n",
              "      <td>0.128378</td>\n",
              "      <td>0.127774</td>\n",
              "    </tr>\n",
              "    <tr>\n",
              "      <th>min</th>\n",
              "      <td>0.0</td>\n",
              "      <td>0.000131</td>\n",
              "      <td>0.0</td>\n",
              "      <td>0.0</td>\n",
              "      <td>0.0</td>\n",
              "    </tr>\n",
              "    <tr>\n",
              "      <th>max</th>\n",
              "      <td>0.137818</td>\n",
              "      <td>0.000131</td>\n",
              "      <td>0.128988</td>\n",
              "      <td>0.128378</td>\n",
              "      <td>0.127774</td>\n",
              "    </tr>\n",
              "    <tr>\n",
              "      <th>spkts</th>\n",
              "      <td>5.0</td>\n",
              "      <td>1.0</td>\n",
              "      <td>5.0</td>\n",
              "      <td>5.0</td>\n",
              "      <td>5.0</td>\n",
              "    </tr>\n",
              "    <tr>\n",
              "      <th>dpkts</th>\n",
              "      <td>3.0</td>\n",
              "      <td>1.0</td>\n",
              "      <td>3.0</td>\n",
              "      <td>3.0</td>\n",
              "      <td>3.0</td>\n",
              "    </tr>\n",
              "    <tr>\n",
              "      <th>sbytes</th>\n",
              "      <td>650.0</td>\n",
              "      <td>60.0</td>\n",
              "      <td>796.0</td>\n",
              "      <td>694.0</td>\n",
              "      <td>989.0</td>\n",
              "    </tr>\n",
              "    <tr>\n",
              "      <th>dbytes</th>\n",
              "      <td>1330.0</td>\n",
              "      <td>60.0</td>\n",
              "      <td>1330.0</td>\n",
              "      <td>1330.0</td>\n",
              "      <td>1330.0</td>\n",
              "    </tr>\n",
              "    <tr>\n",
              "      <th>rate</th>\n",
              "      <td>0.992008</td>\n",
              "      <td>7633.588379</td>\n",
              "      <td>0.99321</td>\n",
              "      <td>0.993247</td>\n",
              "      <td>0.993353</td>\n",
              "    </tr>\n",
              "    <tr>\n",
              "      <th>srate</th>\n",
              "      <td>0.566862</td>\n",
              "      <td>0.0</td>\n",
              "      <td>0.567549</td>\n",
              "      <td>0.56757</td>\n",
              "      <td>0.56763</td>\n",
              "    </tr>\n",
              "    <tr>\n",
              "      <th>drate</th>\n",
              "      <td>14.511893</td>\n",
              "      <td>0.0</td>\n",
              "      <td>15.505319</td>\n",
              "      <td>15.578993</td>\n",
              "      <td>15.652637</td>\n",
              "    </tr>\n",
              "    <tr>\n",
              "      <th>TnBPSrcIP</th>\n",
              "      <td>157426.0</td>\n",
              "      <td>360.0</td>\n",
              "      <td>157426.0</td>\n",
              "      <td>157426.0</td>\n",
              "      <td>157426.0</td>\n",
              "    </tr>\n",
              "    <tr>\n",
              "      <th>TnBPDstIP</th>\n",
              "      <td>201841.0</td>\n",
              "      <td>120.0</td>\n",
              "      <td>201841.0</td>\n",
              "      <td>201841.0</td>\n",
              "      <td>201841.0</td>\n",
              "    </tr>\n",
              "    <tr>\n",
              "      <th>TnP_PSrcIP</th>\n",
              "      <td>602.0</td>\n",
              "      <td>6.0</td>\n",
              "      <td>602.0</td>\n",
              "      <td>602.0</td>\n",
              "      <td>602.0</td>\n",
              "    </tr>\n",
              "    <tr>\n",
              "      <th>TnP_PDstIP</th>\n",
              "      <td>770.0</td>\n",
              "      <td>2.0</td>\n",
              "      <td>770.0</td>\n",
              "      <td>770.0</td>\n",
              "      <td>770.0</td>\n",
              "    </tr>\n",
              "    <tr>\n",
              "      <th>TnP_PerProto</th>\n",
              "      <td>772.0</td>\n",
              "      <td>8.0</td>\n",
              "      <td>772.0</td>\n",
              "      <td>772.0</td>\n",
              "      <td>772.0</td>\n",
              "    </tr>\n",
              "    <tr>\n",
              "      <th>TnP_Per_Dport</th>\n",
              "      <td>772.0</td>\n",
              "      <td>8.0</td>\n",
              "      <td>772.0</td>\n",
              "      <td>772.0</td>\n",
              "      <td>772.0</td>\n",
              "    </tr>\n",
              "    <tr>\n",
              "      <th>AR_P_Proto_P_SrcIP</th>\n",
              "      <td>1.14297</td>\n",
              "      <td>0.003857</td>\n",
              "      <td>1.14297</td>\n",
              "      <td>1.14297</td>\n",
              "      <td>1.14297</td>\n",
              "    </tr>\n",
              "    <tr>\n",
              "      <th>AR_P_Proto_P_DstIP</th>\n",
              "      <td>1.12704</td>\n",
              "      <td>15267.2</td>\n",
              "      <td>1.12704</td>\n",
              "      <td>1.12704</td>\n",
              "      <td>1.12704</td>\n",
              "    </tr>\n",
              "    <tr>\n",
              "      <th>N_IN_Conn_P_DstIP</th>\n",
              "      <td>96.0</td>\n",
              "      <td>1.0</td>\n",
              "      <td>96.0</td>\n",
              "      <td>96.0</td>\n",
              "      <td>96.0</td>\n",
              "    </tr>\n",
              "    <tr>\n",
              "      <th>N_IN_Conn_P_SrcIP</th>\n",
              "      <td>75.0</td>\n",
              "      <td>2.0</td>\n",
              "      <td>75.0</td>\n",
              "      <td>75.0</td>\n",
              "      <td>75.0</td>\n",
              "    </tr>\n",
              "    <tr>\n",
              "      <th>AR_P_Proto_P_Sport</th>\n",
              "      <td>1.13372</td>\n",
              "      <td>0.005142</td>\n",
              "      <td>1.1351</td>\n",
              "      <td>1.13514</td>\n",
              "      <td>1.13526</td>\n",
              "    </tr>\n",
              "    <tr>\n",
              "      <th>AR_P_Proto_P_Dport</th>\n",
              "      <td>1.12997</td>\n",
              "      <td>0.005142</td>\n",
              "      <td>1.12997</td>\n",
              "      <td>1.12997</td>\n",
              "      <td>1.12997</td>\n",
              "    </tr>\n",
              "    <tr>\n",
              "      <th>Pkts_P_State_P_Protocol_P_DestIP</th>\n",
              "      <td>770.0</td>\n",
              "      <td>2.0</td>\n",
              "      <td>770.0</td>\n",
              "      <td>770.0</td>\n",
              "      <td>770.0</td>\n",
              "    </tr>\n",
              "    <tr>\n",
              "      <th>Pkts_P_State_P_Protocol_P_SrcIP</th>\n",
              "      <td>602.0</td>\n",
              "      <td>6.0</td>\n",
              "      <td>602.0</td>\n",
              "      <td>602.0</td>\n",
              "      <td>602.0</td>\n",
              "    </tr>\n",
              "    <tr>\n",
              "      <th>attack</th>\n",
              "      <td>1.0</td>\n",
              "      <td>1.0</td>\n",
              "      <td>1.0</td>\n",
              "      <td>1.0</td>\n",
              "      <td>1.0</td>\n",
              "    </tr>\n",
              "    <tr>\n",
              "      <th>category</th>\n",
              "      <td>DoS</td>\n",
              "      <td>DoS</td>\n",
              "      <td>DoS</td>\n",
              "      <td>DoS</td>\n",
              "      <td>DoS</td>\n",
              "    </tr>\n",
              "    <tr>\n",
              "      <th>subcategory</th>\n",
              "      <td>HTTP</td>\n",
              "      <td>HTTP</td>\n",
              "      <td>HTTP</td>\n",
              "      <td>HTTP</td>\n",
              "      <td>HTTP</td>\n",
              "    </tr>\n",
              "    <tr>\n",
              "      <th>flgs_e</th>\n",
              "      <td>1</td>\n",
              "      <td>1</td>\n",
              "      <td>1</td>\n",
              "      <td>1</td>\n",
              "      <td>1</td>\n",
              "    </tr>\n",
              "    <tr>\n",
              "      <th>flgs_e *</th>\n",
              "      <td>0</td>\n",
              "      <td>0</td>\n",
              "      <td>0</td>\n",
              "      <td>0</td>\n",
              "      <td>0</td>\n",
              "    </tr>\n",
              "    <tr>\n",
              "      <th>flgs_e d</th>\n",
              "      <td>0</td>\n",
              "      <td>0</td>\n",
              "      <td>0</td>\n",
              "      <td>0</td>\n",
              "      <td>0</td>\n",
              "    </tr>\n",
              "    <tr>\n",
              "      <th>flgs_e g</th>\n",
              "      <td>0</td>\n",
              "      <td>0</td>\n",
              "      <td>0</td>\n",
              "      <td>0</td>\n",
              "      <td>0</td>\n",
              "    </tr>\n",
              "    <tr>\n",
              "      <th>flgs_e s</th>\n",
              "      <td>0</td>\n",
              "      <td>0</td>\n",
              "      <td>0</td>\n",
              "      <td>0</td>\n",
              "      <td>0</td>\n",
              "    </tr>\n",
              "    <tr>\n",
              "      <th>flgs_eU</th>\n",
              "      <td>0</td>\n",
              "      <td>0</td>\n",
              "      <td>0</td>\n",
              "      <td>0</td>\n",
              "      <td>0</td>\n",
              "    </tr>\n",
              "    <tr>\n",
              "      <th>proto_arp</th>\n",
              "      <td>0</td>\n",
              "      <td>1</td>\n",
              "      <td>0</td>\n",
              "      <td>0</td>\n",
              "      <td>0</td>\n",
              "    </tr>\n",
              "    <tr>\n",
              "      <th>proto_tcp</th>\n",
              "      <td>1</td>\n",
              "      <td>0</td>\n",
              "      <td>1</td>\n",
              "      <td>1</td>\n",
              "      <td>1</td>\n",
              "    </tr>\n",
              "    <tr>\n",
              "      <th>proto_udp</th>\n",
              "      <td>0</td>\n",
              "      <td>0</td>\n",
              "      <td>0</td>\n",
              "      <td>0</td>\n",
              "      <td>0</td>\n",
              "    </tr>\n",
              "    <tr>\n",
              "      <th>state_ACC</th>\n",
              "      <td>0</td>\n",
              "      <td>0</td>\n",
              "      <td>0</td>\n",
              "      <td>0</td>\n",
              "      <td>0</td>\n",
              "    </tr>\n",
              "    <tr>\n",
              "      <th>state_CON</th>\n",
              "      <td>0</td>\n",
              "      <td>1</td>\n",
              "      <td>0</td>\n",
              "      <td>0</td>\n",
              "      <td>0</td>\n",
              "    </tr>\n",
              "    <tr>\n",
              "      <th>state_INT</th>\n",
              "      <td>0</td>\n",
              "      <td>0</td>\n",
              "      <td>0</td>\n",
              "      <td>0</td>\n",
              "      <td>0</td>\n",
              "    </tr>\n",
              "    <tr>\n",
              "      <th>state_REQ</th>\n",
              "      <td>0</td>\n",
              "      <td>0</td>\n",
              "      <td>0</td>\n",
              "      <td>0</td>\n",
              "      <td>0</td>\n",
              "    </tr>\n",
              "    <tr>\n",
              "      <th>state_RST</th>\n",
              "      <td>1</td>\n",
              "      <td>0</td>\n",
              "      <td>1</td>\n",
              "      <td>1</td>\n",
              "      <td>1</td>\n",
              "    </tr>\n",
              "  </tbody>\n",
              "</table>\n",
              "</div>\n",
              "      <button class=\"colab-df-convert\" onclick=\"convertToInteractive('df-d0b10225-8a1c-4b52-8238-0f7000da62a9')\"\n",
              "              title=\"Convert this dataframe to an interactive table.\"\n",
              "              style=\"display:none;\">\n",
              "        \n",
              "  <svg xmlns=\"http://www.w3.org/2000/svg\" height=\"24px\"viewBox=\"0 0 24 24\"\n",
              "       width=\"24px\">\n",
              "    <path d=\"M0 0h24v24H0V0z\" fill=\"none\"/>\n",
              "    <path d=\"M18.56 5.44l.94 2.06.94-2.06 2.06-.94-2.06-.94-.94-2.06-.94 2.06-2.06.94zm-11 1L8.5 8.5l.94-2.06 2.06-.94-2.06-.94L8.5 2.5l-.94 2.06-2.06.94zm10 10l.94 2.06.94-2.06 2.06-.94-2.06-.94-.94-2.06-.94 2.06-2.06.94z\"/><path d=\"M17.41 7.96l-1.37-1.37c-.4-.4-.92-.59-1.43-.59-.52 0-1.04.2-1.43.59L10.3 9.45l-7.72 7.72c-.78.78-.78 2.05 0 2.83L4 21.41c.39.39.9.59 1.41.59.51 0 1.02-.2 1.41-.59l7.78-7.78 2.81-2.81c.8-.78.8-2.07 0-2.86zM5.41 20L4 18.59l7.72-7.72 1.47 1.35L5.41 20z\"/>\n",
              "  </svg>\n",
              "      </button>\n",
              "      \n",
              "  <style>\n",
              "    .colab-df-container {\n",
              "      display:flex;\n",
              "      flex-wrap:wrap;\n",
              "      gap: 12px;\n",
              "    }\n",
              "\n",
              "    .colab-df-convert {\n",
              "      background-color: #E8F0FE;\n",
              "      border: none;\n",
              "      border-radius: 50%;\n",
              "      cursor: pointer;\n",
              "      display: none;\n",
              "      fill: #1967D2;\n",
              "      height: 32px;\n",
              "      padding: 0 0 0 0;\n",
              "      width: 32px;\n",
              "    }\n",
              "\n",
              "    .colab-df-convert:hover {\n",
              "      background-color: #E2EBFA;\n",
              "      box-shadow: 0px 1px 2px rgba(60, 64, 67, 0.3), 0px 1px 3px 1px rgba(60, 64, 67, 0.15);\n",
              "      fill: #174EA6;\n",
              "    }\n",
              "\n",
              "    [theme=dark] .colab-df-convert {\n",
              "      background-color: #3B4455;\n",
              "      fill: #D2E3FC;\n",
              "    }\n",
              "\n",
              "    [theme=dark] .colab-df-convert:hover {\n",
              "      background-color: #434B5C;\n",
              "      box-shadow: 0px 1px 3px 1px rgba(0, 0, 0, 0.15);\n",
              "      filter: drop-shadow(0px 1px 2px rgba(0, 0, 0, 0.3));\n",
              "      fill: #FFFFFF;\n",
              "    }\n",
              "  </style>\n",
              "\n",
              "      <script>\n",
              "        const buttonEl =\n",
              "          document.querySelector('#df-d0b10225-8a1c-4b52-8238-0f7000da62a9 button.colab-df-convert');\n",
              "        buttonEl.style.display =\n",
              "          google.colab.kernel.accessAllowed ? 'block' : 'none';\n",
              "\n",
              "        async function convertToInteractive(key) {\n",
              "          const element = document.querySelector('#df-d0b10225-8a1c-4b52-8238-0f7000da62a9');\n",
              "          const dataTable =\n",
              "            await google.colab.kernel.invokeFunction('convertToInteractive',\n",
              "                                                     [key], {});\n",
              "          if (!dataTable) return;\n",
              "\n",
              "          const docLinkHtml = 'Like what you see? Visit the ' +\n",
              "            '<a target=\"_blank\" href=https://colab.research.google.com/notebooks/data_table.ipynb>data table notebook</a>'\n",
              "            + ' to learn more about interactive tables.';\n",
              "          element.innerHTML = '';\n",
              "          dataTable['output_type'] = 'display_data';\n",
              "          await google.colab.output.renderOutput(dataTable, element);\n",
              "          const docLink = document.createElement('div');\n",
              "          docLink.innerHTML = docLinkHtml;\n",
              "          element.appendChild(docLink);\n",
              "        }\n",
              "      </script>\n",
              "    </div>\n",
              "  </div>\n",
              "  "
            ]
          },
          "metadata": {},
          "execution_count": 33
        }
      ]
    },
    {
      "cell_type": "code",
      "source": [
        "df_fe2_he.info()"
      ],
      "metadata": {
        "colab": {
          "base_uri": "https://localhost:8080/"
        },
        "id": "QCWkxUPtwftE",
        "outputId": "0de02696-7cc3-42bb-dec8-f18561a50050"
      },
      "execution_count": null,
      "outputs": [
        {
          "output_type": "stream",
          "name": "stdout",
          "text": [
            "<class 'pandas.core.frame.DataFrame'>\n",
            "Int64Index: 249056 entries, 0 to 249058\n",
            "Data columns (total 46 columns):\n",
            " #   Column                            Non-Null Count   Dtype  \n",
            "---  ------                            --------------   -----  \n",
            " 0   pkts                              249056 non-null  int64  \n",
            " 1   bytes                             249056 non-null  int64  \n",
            " 2   dur                               249056 non-null  float64\n",
            " 3   mean                              249056 non-null  float64\n",
            " 4   stddev                            249056 non-null  float64\n",
            " 5   sum                               249056 non-null  float64\n",
            " 6   min                               249056 non-null  float64\n",
            " 7   max                               249056 non-null  float64\n",
            " 8   spkts                             249056 non-null  float64\n",
            " 9   dpkts                             249056 non-null  float64\n",
            " 10  sbytes                            249056 non-null  float64\n",
            " 11  dbytes                            249056 non-null  float64\n",
            " 12  rate                              249056 non-null  float64\n",
            " 13  srate                             249056 non-null  float64\n",
            " 14  drate                             249056 non-null  float64\n",
            " 15  TnBPSrcIP                         249056 non-null  float64\n",
            " 16  TnBPDstIP                         249056 non-null  float64\n",
            " 17  TnP_PSrcIP                        249056 non-null  float64\n",
            " 18  TnP_PDstIP                        249056 non-null  float64\n",
            " 19  TnP_PerProto                      249056 non-null  float64\n",
            " 20  TnP_Per_Dport                     249056 non-null  float64\n",
            " 21  AR_P_Proto_P_SrcIP                249056 non-null  float64\n",
            " 22  AR_P_Proto_P_DstIP                249056 non-null  float64\n",
            " 23  N_IN_Conn_P_DstIP                 249056 non-null  float64\n",
            " 24  N_IN_Conn_P_SrcIP                 249056 non-null  float64\n",
            " 25  AR_P_Proto_P_Sport                249056 non-null  float64\n",
            " 26  AR_P_Proto_P_Dport                249056 non-null  float64\n",
            " 27  Pkts_P_State_P_Protocol_P_DestIP  249056 non-null  float64\n",
            " 28  Pkts_P_State_P_Protocol_P_SrcIP   249056 non-null  float64\n",
            " 29  attack                            249056 non-null  float64\n",
            " 30  category                          249056 non-null  object \n",
            " 31  subcategory                       249056 non-null  object \n",
            " 32  flgs_e                            249056 non-null  uint8  \n",
            " 33  flgs_e *                          249056 non-null  uint8  \n",
            " 34  flgs_e d                          249056 non-null  uint8  \n",
            " 35  flgs_e g                          249056 non-null  uint8  \n",
            " 36  flgs_e s                          249056 non-null  uint8  \n",
            " 37  flgs_eU                           249056 non-null  uint8  \n",
            " 38  proto_arp                         249056 non-null  uint8  \n",
            " 39  proto_tcp                         249056 non-null  uint8  \n",
            " 40  proto_udp                         249056 non-null  uint8  \n",
            " 41  state_ACC                         249056 non-null  uint8  \n",
            " 42  state_CON                         249056 non-null  uint8  \n",
            " 43  state_INT                         249056 non-null  uint8  \n",
            " 44  state_REQ                         249056 non-null  uint8  \n",
            " 45  state_RST                         249056 non-null  uint8  \n",
            "dtypes: float64(28), int64(2), object(2), uint8(14)\n",
            "memory usage: 66.0+ MB\n"
          ]
        }
      ]
    },
    {
      "cell_type": "code",
      "source": [
        "# change the order of the columns that added by hot encoding\n",
        "\n",
        "df_fe2_he1 = df_fe2_he[['flgs_e', 'flgs_e *', 'flgs_e d', 'flgs_e g', 'flgs_e s', 'flgs_eU', 'proto_arp', 'proto_tcp', \\\n",
        "           'proto_udp', 'state_ACC', 'state_CON', 'state_INT', 'state_REQ', 'state_RST', \\\n",
        "           'pkts', 'bytes', 'dur', 'mean', 'stddev', 'sum', 'min', \\\n",
        "           'max', 'spkts', 'dpkts', 'sbytes', 'dbytes', 'rate', 'srate', 'drate', \\\n",
        "           'TnBPSrcIP', 'TnBPDstIP', 'TnP_PSrcIP', 'TnP_PDstIP', 'TnP_PerProto', \\\n",
        "           'TnP_Per_Dport', 'AR_P_Proto_P_SrcIP', 'AR_P_Proto_P_DstIP', \\\n",
        "           'N_IN_Conn_P_DstIP', 'N_IN_Conn_P_SrcIP', 'AR_P_Proto_P_Sport', \\\n",
        "           'AR_P_Proto_P_Dport', 'Pkts_P_State_P_Protocol_P_DestIP', \\\n",
        "           'Pkts_P_State_P_Protocol_P_SrcIP', 'attack', 'category', 'subcategory' ]]\n"
      ],
      "metadata": {
        "id": "8nTwMxqvxVay"
      },
      "execution_count": null,
      "outputs": []
    },
    {
      "cell_type": "code",
      "source": [
        "df_fe2_he1.info()"
      ],
      "metadata": {
        "colab": {
          "base_uri": "https://localhost:8080/"
        },
        "id": "WSJcAtO9zzfe",
        "outputId": "14e4f78e-6207-47df-c762-879a376b0822"
      },
      "execution_count": null,
      "outputs": [
        {
          "output_type": "stream",
          "name": "stdout",
          "text": [
            "<class 'pandas.core.frame.DataFrame'>\n",
            "Int64Index: 249056 entries, 0 to 249058\n",
            "Data columns (total 46 columns):\n",
            " #   Column                            Non-Null Count   Dtype  \n",
            "---  ------                            --------------   -----  \n",
            " 0   flgs_e                            249056 non-null  uint8  \n",
            " 1   flgs_e *                          249056 non-null  uint8  \n",
            " 2   flgs_e d                          249056 non-null  uint8  \n",
            " 3   flgs_e g                          249056 non-null  uint8  \n",
            " 4   flgs_e s                          249056 non-null  uint8  \n",
            " 5   flgs_eU                           249056 non-null  uint8  \n",
            " 6   proto_arp                         249056 non-null  uint8  \n",
            " 7   proto_tcp                         249056 non-null  uint8  \n",
            " 8   proto_udp                         249056 non-null  uint8  \n",
            " 9   state_ACC                         249056 non-null  uint8  \n",
            " 10  state_CON                         249056 non-null  uint8  \n",
            " 11  state_INT                         249056 non-null  uint8  \n",
            " 12  state_REQ                         249056 non-null  uint8  \n",
            " 13  state_RST                         249056 non-null  uint8  \n",
            " 14  pkts                              249056 non-null  int64  \n",
            " 15  bytes                             249056 non-null  int64  \n",
            " 16  dur                               249056 non-null  float64\n",
            " 17  mean                              249056 non-null  float64\n",
            " 18  stddev                            249056 non-null  float64\n",
            " 19  sum                               249056 non-null  float64\n",
            " 20  min                               249056 non-null  float64\n",
            " 21  max                               249056 non-null  float64\n",
            " 22  spkts                             249056 non-null  float64\n",
            " 23  dpkts                             249056 non-null  float64\n",
            " 24  sbytes                            249056 non-null  float64\n",
            " 25  dbytes                            249056 non-null  float64\n",
            " 26  rate                              249056 non-null  float64\n",
            " 27  srate                             249056 non-null  float64\n",
            " 28  drate                             249056 non-null  float64\n",
            " 29  TnBPSrcIP                         249056 non-null  float64\n",
            " 30  TnBPDstIP                         249056 non-null  float64\n",
            " 31  TnP_PSrcIP                        249056 non-null  float64\n",
            " 32  TnP_PDstIP                        249056 non-null  float64\n",
            " 33  TnP_PerProto                      249056 non-null  float64\n",
            " 34  TnP_Per_Dport                     249056 non-null  float64\n",
            " 35  AR_P_Proto_P_SrcIP                249056 non-null  float64\n",
            " 36  AR_P_Proto_P_DstIP                249056 non-null  float64\n",
            " 37  N_IN_Conn_P_DstIP                 249056 non-null  float64\n",
            " 38  N_IN_Conn_P_SrcIP                 249056 non-null  float64\n",
            " 39  AR_P_Proto_P_Sport                249056 non-null  float64\n",
            " 40  AR_P_Proto_P_Dport                249056 non-null  float64\n",
            " 41  Pkts_P_State_P_Protocol_P_DestIP  249056 non-null  float64\n",
            " 42  Pkts_P_State_P_Protocol_P_SrcIP   249056 non-null  float64\n",
            " 43  attack                            249056 non-null  float64\n",
            " 44  category                          249056 non-null  object \n",
            " 45  subcategory                       249056 non-null  object \n",
            "dtypes: float64(28), int64(2), object(2), uint8(14)\n",
            "memory usage: 66.0+ MB\n"
          ]
        }
      ]
    },
    {
      "cell_type": "markdown",
      "source": [
        "## 3.6 Data normalization (feature scaling)"
      ],
      "metadata": {
        "id": "31J1r24EE09R"
      }
    },
    {
      "cell_type": "code",
      "source": [
        "# Feature Scaling using Min-Max Scaling\n",
        "from sklearn.preprocessing import MinMaxScaler\n",
        "\n",
        "# instantiate the MinMaxScaler\n",
        "scaler = MinMaxScaler()\n",
        "\n",
        "# Set predictor and target variables\n",
        "X = df_fe2_he1.drop(['attack', 'category', 'subcategory'], axis =1)\n",
        "y1 = df_fe2_he1['attack']\n",
        "y2 = df_fe2_he1['category']\n",
        "y3 = df_fe2_he1['subcategory']\n",
        "\n",
        "# fit the scaler to the data\n",
        "scaler.fit(X)\n",
        "\n",
        "# transform the data using the fitted scaler\n",
        "X_fsmm = scaler.transform(X)\n",
        "\n",
        "# Put the tranformed X into dataframe\n",
        "df_fe2_he1_fsmm = pd.DataFrame(X_fsmm, index = X.index, columns = X.columns)"
      ],
      "metadata": {
        "id": "MduDBpMwE4Y0"
      },
      "execution_count": null,
      "outputs": []
    },
    {
      "cell_type": "code",
      "source": [
        "df_fe2_he1_fsmm.head()"
      ],
      "metadata": {
        "colab": {
          "base_uri": "https://localhost:8080/",
          "height": 317
        },
        "id": "3EBlYEn12PN2",
        "outputId": "ebcf0c5c-e535-4d88-869b-cf8e27e467fc"
      },
      "execution_count": null,
      "outputs": [
        {
          "output_type": "execute_result",
          "data": {
            "text/plain": [
              "   flgs_e  flgs_e *  flgs_e d  flgs_e g  flgs_e s  flgs_eU  proto_arp  \\\n",
              "0     1.0       0.0       0.0       0.0       0.0      0.0        0.0   \n",
              "1     1.0       0.0       0.0       0.0       0.0      0.0        1.0   \n",
              "2     1.0       0.0       0.0       0.0       0.0      0.0        0.0   \n",
              "3     1.0       0.0       0.0       0.0       0.0      0.0        0.0   \n",
              "4     1.0       0.0       0.0       0.0       0.0      0.0        0.0   \n",
              "\n",
              "   proto_tcp  proto_udp  state_ACC  ...  TnP_PerProto  TnP_Per_Dport  \\\n",
              "0        1.0        0.0        0.0  ...      0.514019       0.514019   \n",
              "1        0.0        0.0        0.0  ...      0.004005       0.004005   \n",
              "2        1.0        0.0        0.0  ...      0.514019       0.514019   \n",
              "3        1.0        0.0        0.0  ...      0.514019       0.514019   \n",
              "4        1.0        0.0        0.0  ...      0.514019       0.514019   \n",
              "\n",
              "   AR_P_Proto_P_SrcIP  AR_P_Proto_P_DstIP  N_IN_Conn_P_DstIP  \\\n",
              "0            0.000072            0.000074           0.959596   \n",
              "1            0.000000            1.000000           0.000000   \n",
              "2            0.000072            0.000074           0.959596   \n",
              "3            0.000072            0.000074           0.959596   \n",
              "4            0.000072            0.000074           0.959596   \n",
              "\n",
              "   N_IN_Conn_P_SrcIP  AR_P_Proto_P_Sport  AR_P_Proto_P_Dport  \\\n",
              "0           0.747475            0.000085            0.000085   \n",
              "1           0.010101            0.000000            0.000000   \n",
              "2           0.747475            0.000085            0.000085   \n",
              "3           0.747475            0.000085            0.000085   \n",
              "4           0.747475            0.000085            0.000085   \n",
              "\n",
              "   Pkts_P_State_P_Protocol_P_DestIP  Pkts_P_State_P_Protocol_P_SrcIP  \n",
              "0                          0.512684                         0.400534  \n",
              "1                          0.000000                         0.002670  \n",
              "2                          0.512684                         0.400534  \n",
              "3                          0.512684                         0.400534  \n",
              "4                          0.512684                         0.400534  \n",
              "\n",
              "[5 rows x 43 columns]"
            ],
            "text/html": [
              "\n",
              "  <div id=\"df-628f7ad1-22ed-46f0-b81d-f16eea59fead\">\n",
              "    <div class=\"colab-df-container\">\n",
              "      <div>\n",
              "<style scoped>\n",
              "    .dataframe tbody tr th:only-of-type {\n",
              "        vertical-align: middle;\n",
              "    }\n",
              "\n",
              "    .dataframe tbody tr th {\n",
              "        vertical-align: top;\n",
              "    }\n",
              "\n",
              "    .dataframe thead th {\n",
              "        text-align: right;\n",
              "    }\n",
              "</style>\n",
              "<table border=\"1\" class=\"dataframe\">\n",
              "  <thead>\n",
              "    <tr style=\"text-align: right;\">\n",
              "      <th></th>\n",
              "      <th>flgs_e</th>\n",
              "      <th>flgs_e *</th>\n",
              "      <th>flgs_e d</th>\n",
              "      <th>flgs_e g</th>\n",
              "      <th>flgs_e s</th>\n",
              "      <th>flgs_eU</th>\n",
              "      <th>proto_arp</th>\n",
              "      <th>proto_tcp</th>\n",
              "      <th>proto_udp</th>\n",
              "      <th>state_ACC</th>\n",
              "      <th>...</th>\n",
              "      <th>TnP_PerProto</th>\n",
              "      <th>TnP_Per_Dport</th>\n",
              "      <th>AR_P_Proto_P_SrcIP</th>\n",
              "      <th>AR_P_Proto_P_DstIP</th>\n",
              "      <th>N_IN_Conn_P_DstIP</th>\n",
              "      <th>N_IN_Conn_P_SrcIP</th>\n",
              "      <th>AR_P_Proto_P_Sport</th>\n",
              "      <th>AR_P_Proto_P_Dport</th>\n",
              "      <th>Pkts_P_State_P_Protocol_P_DestIP</th>\n",
              "      <th>Pkts_P_State_P_Protocol_P_SrcIP</th>\n",
              "    </tr>\n",
              "  </thead>\n",
              "  <tbody>\n",
              "    <tr>\n",
              "      <th>0</th>\n",
              "      <td>1.0</td>\n",
              "      <td>0.0</td>\n",
              "      <td>0.0</td>\n",
              "      <td>0.0</td>\n",
              "      <td>0.0</td>\n",
              "      <td>0.0</td>\n",
              "      <td>0.0</td>\n",
              "      <td>1.0</td>\n",
              "      <td>0.0</td>\n",
              "      <td>0.0</td>\n",
              "      <td>...</td>\n",
              "      <td>0.514019</td>\n",
              "      <td>0.514019</td>\n",
              "      <td>0.000072</td>\n",
              "      <td>0.000074</td>\n",
              "      <td>0.959596</td>\n",
              "      <td>0.747475</td>\n",
              "      <td>0.000085</td>\n",
              "      <td>0.000085</td>\n",
              "      <td>0.512684</td>\n",
              "      <td>0.400534</td>\n",
              "    </tr>\n",
              "    <tr>\n",
              "      <th>1</th>\n",
              "      <td>1.0</td>\n",
              "      <td>0.0</td>\n",
              "      <td>0.0</td>\n",
              "      <td>0.0</td>\n",
              "      <td>0.0</td>\n",
              "      <td>0.0</td>\n",
              "      <td>1.0</td>\n",
              "      <td>0.0</td>\n",
              "      <td>0.0</td>\n",
              "      <td>0.0</td>\n",
              "      <td>...</td>\n",
              "      <td>0.004005</td>\n",
              "      <td>0.004005</td>\n",
              "      <td>0.000000</td>\n",
              "      <td>1.000000</td>\n",
              "      <td>0.000000</td>\n",
              "      <td>0.010101</td>\n",
              "      <td>0.000000</td>\n",
              "      <td>0.000000</td>\n",
              "      <td>0.000000</td>\n",
              "      <td>0.002670</td>\n",
              "    </tr>\n",
              "    <tr>\n",
              "      <th>2</th>\n",
              "      <td>1.0</td>\n",
              "      <td>0.0</td>\n",
              "      <td>0.0</td>\n",
              "      <td>0.0</td>\n",
              "      <td>0.0</td>\n",
              "      <td>0.0</td>\n",
              "      <td>0.0</td>\n",
              "      <td>1.0</td>\n",
              "      <td>0.0</td>\n",
              "      <td>0.0</td>\n",
              "      <td>...</td>\n",
              "      <td>0.514019</td>\n",
              "      <td>0.514019</td>\n",
              "      <td>0.000072</td>\n",
              "      <td>0.000074</td>\n",
              "      <td>0.959596</td>\n",
              "      <td>0.747475</td>\n",
              "      <td>0.000085</td>\n",
              "      <td>0.000085</td>\n",
              "      <td>0.512684</td>\n",
              "      <td>0.400534</td>\n",
              "    </tr>\n",
              "    <tr>\n",
              "      <th>3</th>\n",
              "      <td>1.0</td>\n",
              "      <td>0.0</td>\n",
              "      <td>0.0</td>\n",
              "      <td>0.0</td>\n",
              "      <td>0.0</td>\n",
              "      <td>0.0</td>\n",
              "      <td>0.0</td>\n",
              "      <td>1.0</td>\n",
              "      <td>0.0</td>\n",
              "      <td>0.0</td>\n",
              "      <td>...</td>\n",
              "      <td>0.514019</td>\n",
              "      <td>0.514019</td>\n",
              "      <td>0.000072</td>\n",
              "      <td>0.000074</td>\n",
              "      <td>0.959596</td>\n",
              "      <td>0.747475</td>\n",
              "      <td>0.000085</td>\n",
              "      <td>0.000085</td>\n",
              "      <td>0.512684</td>\n",
              "      <td>0.400534</td>\n",
              "    </tr>\n",
              "    <tr>\n",
              "      <th>4</th>\n",
              "      <td>1.0</td>\n",
              "      <td>0.0</td>\n",
              "      <td>0.0</td>\n",
              "      <td>0.0</td>\n",
              "      <td>0.0</td>\n",
              "      <td>0.0</td>\n",
              "      <td>0.0</td>\n",
              "      <td>1.0</td>\n",
              "      <td>0.0</td>\n",
              "      <td>0.0</td>\n",
              "      <td>...</td>\n",
              "      <td>0.514019</td>\n",
              "      <td>0.514019</td>\n",
              "      <td>0.000072</td>\n",
              "      <td>0.000074</td>\n",
              "      <td>0.959596</td>\n",
              "      <td>0.747475</td>\n",
              "      <td>0.000085</td>\n",
              "      <td>0.000085</td>\n",
              "      <td>0.512684</td>\n",
              "      <td>0.400534</td>\n",
              "    </tr>\n",
              "  </tbody>\n",
              "</table>\n",
              "<p>5 rows × 43 columns</p>\n",
              "</div>\n",
              "      <button class=\"colab-df-convert\" onclick=\"convertToInteractive('df-628f7ad1-22ed-46f0-b81d-f16eea59fead')\"\n",
              "              title=\"Convert this dataframe to an interactive table.\"\n",
              "              style=\"display:none;\">\n",
              "        \n",
              "  <svg xmlns=\"http://www.w3.org/2000/svg\" height=\"24px\"viewBox=\"0 0 24 24\"\n",
              "       width=\"24px\">\n",
              "    <path d=\"M0 0h24v24H0V0z\" fill=\"none\"/>\n",
              "    <path d=\"M18.56 5.44l.94 2.06.94-2.06 2.06-.94-2.06-.94-.94-2.06-.94 2.06-2.06.94zm-11 1L8.5 8.5l.94-2.06 2.06-.94-2.06-.94L8.5 2.5l-.94 2.06-2.06.94zm10 10l.94 2.06.94-2.06 2.06-.94-2.06-.94-.94-2.06-.94 2.06-2.06.94z\"/><path d=\"M17.41 7.96l-1.37-1.37c-.4-.4-.92-.59-1.43-.59-.52 0-1.04.2-1.43.59L10.3 9.45l-7.72 7.72c-.78.78-.78 2.05 0 2.83L4 21.41c.39.39.9.59 1.41.59.51 0 1.02-.2 1.41-.59l7.78-7.78 2.81-2.81c.8-.78.8-2.07 0-2.86zM5.41 20L4 18.59l7.72-7.72 1.47 1.35L5.41 20z\"/>\n",
              "  </svg>\n",
              "      </button>\n",
              "      \n",
              "  <style>\n",
              "    .colab-df-container {\n",
              "      display:flex;\n",
              "      flex-wrap:wrap;\n",
              "      gap: 12px;\n",
              "    }\n",
              "\n",
              "    .colab-df-convert {\n",
              "      background-color: #E8F0FE;\n",
              "      border: none;\n",
              "      border-radius: 50%;\n",
              "      cursor: pointer;\n",
              "      display: none;\n",
              "      fill: #1967D2;\n",
              "      height: 32px;\n",
              "      padding: 0 0 0 0;\n",
              "      width: 32px;\n",
              "    }\n",
              "\n",
              "    .colab-df-convert:hover {\n",
              "      background-color: #E2EBFA;\n",
              "      box-shadow: 0px 1px 2px rgba(60, 64, 67, 0.3), 0px 1px 3px 1px rgba(60, 64, 67, 0.15);\n",
              "      fill: #174EA6;\n",
              "    }\n",
              "\n",
              "    [theme=dark] .colab-df-convert {\n",
              "      background-color: #3B4455;\n",
              "      fill: #D2E3FC;\n",
              "    }\n",
              "\n",
              "    [theme=dark] .colab-df-convert:hover {\n",
              "      background-color: #434B5C;\n",
              "      box-shadow: 0px 1px 3px 1px rgba(0, 0, 0, 0.15);\n",
              "      filter: drop-shadow(0px 1px 2px rgba(0, 0, 0, 0.3));\n",
              "      fill: #FFFFFF;\n",
              "    }\n",
              "  </style>\n",
              "\n",
              "      <script>\n",
              "        const buttonEl =\n",
              "          document.querySelector('#df-628f7ad1-22ed-46f0-b81d-f16eea59fead button.colab-df-convert');\n",
              "        buttonEl.style.display =\n",
              "          google.colab.kernel.accessAllowed ? 'block' : 'none';\n",
              "\n",
              "        async function convertToInteractive(key) {\n",
              "          const element = document.querySelector('#df-628f7ad1-22ed-46f0-b81d-f16eea59fead');\n",
              "          const dataTable =\n",
              "            await google.colab.kernel.invokeFunction('convertToInteractive',\n",
              "                                                     [key], {});\n",
              "          if (!dataTable) return;\n",
              "\n",
              "          const docLinkHtml = 'Like what you see? Visit the ' +\n",
              "            '<a target=\"_blank\" href=https://colab.research.google.com/notebooks/data_table.ipynb>data table notebook</a>'\n",
              "            + ' to learn more about interactive tables.';\n",
              "          element.innerHTML = '';\n",
              "          dataTable['output_type'] = 'display_data';\n",
              "          await google.colab.output.renderOutput(dataTable, element);\n",
              "          const docLink = document.createElement('div');\n",
              "          docLink.innerHTML = docLinkHtml;\n",
              "          element.appendChild(docLink);\n",
              "        }\n",
              "      </script>\n",
              "    </div>\n",
              "  </div>\n",
              "  "
            ]
          },
          "metadata": {},
          "execution_count": 47
        }
      ]
    },
    {
      "cell_type": "code",
      "source": [
        "# We need generate the data with normalised X combined with target y.\n",
        "\n",
        "normalized_data = pd.concat([df_fe2_he1_fsmm, y1, y2, y3], axis=1)"
      ],
      "metadata": {
        "id": "BEf7BFDQ3bHv"
      },
      "execution_count": null,
      "outputs": []
    },
    {
      "cell_type": "code",
      "source": [
        "# check the normalized data\n",
        "\n",
        "normalized_data.head().T"
      ],
      "metadata": {
        "colab": {
          "base_uri": "https://localhost:8080/",
          "height": 1000
        },
        "id": "529CZGR330Jx",
        "outputId": "ef82cc9b-bc2e-4fb5-b1f2-5886c25f6d43"
      },
      "execution_count": null,
      "outputs": [
        {
          "output_type": "execute_result",
          "data": {
            "text/plain": [
              "                                         0         1         2         3  \\\n",
              "flgs_e                                 1.0       1.0       1.0       1.0   \n",
              "flgs_e *                               0.0       0.0       0.0       0.0   \n",
              "flgs_e d                               0.0       0.0       0.0       0.0   \n",
              "flgs_e g                               0.0       0.0       0.0       0.0   \n",
              "flgs_e s                               0.0       0.0       0.0       0.0   \n",
              "flgs_eU                                0.0       0.0       0.0       0.0   \n",
              "proto_arp                              0.0       1.0       0.0       0.0   \n",
              "proto_tcp                              1.0       0.0       1.0       1.0   \n",
              "proto_udp                              0.0       0.0       0.0       0.0   \n",
              "state_ACC                              0.0       0.0       0.0       0.0   \n",
              "state_CON                              0.0       1.0       0.0       0.0   \n",
              "state_INT                              0.0       0.0       0.0       0.0   \n",
              "state_REQ                              0.0       0.0       0.0       0.0   \n",
              "state_RST                              1.0       0.0       1.0       1.0   \n",
              "pkts                              0.111111       0.0  0.111111  0.111111   \n",
              "bytes                             0.270388       0.0  0.291612  0.276784   \n",
              "dur                               0.004536       0.0   0.00453   0.00453   \n",
              "mean                              0.014031  0.000027  0.013132   0.01307   \n",
              "stddev                            0.028178       0.0  0.026372  0.026247   \n",
              "sum                                0.00564  0.000005  0.005279  0.005254   \n",
              "min                                    0.0  0.000027       0.0       0.0   \n",
              "max                               0.027817  0.000026  0.026035  0.025912   \n",
              "spkts                             0.148148       0.0  0.148148  0.148148   \n",
              "dpkts                             0.107143  0.035714  0.107143  0.107143   \n",
              "sbytes                            0.101514       0.0  0.126635  0.109085   \n",
              "dbytes                            0.791667  0.035714  0.791667  0.791667   \n",
              "rate                              0.000126  0.969466  0.000126  0.000126   \n",
              "srate                             0.226081       0.0  0.226355  0.226363   \n",
              "drate                             0.882091       0.0  0.942475  0.946953   \n",
              "TnBPSrcIP                         0.760432   0.00116  0.760432  0.760432   \n",
              "TnBPDstIP                         0.975138       0.0  0.975138  0.975138   \n",
              "TnP_PSrcIP                        0.400534   0.00267  0.400534  0.400534   \n",
              "TnP_PDstIP                        0.512684       0.0  0.512684  0.512684   \n",
              "TnP_PerProto                      0.514019  0.004005  0.514019  0.514019   \n",
              "TnP_Per_Dport                     0.514019  0.004005  0.514019  0.514019   \n",
              "AR_P_Proto_P_SrcIP                0.000072       0.0  0.000072  0.000072   \n",
              "AR_P_Proto_P_DstIP                0.000074       1.0  0.000074  0.000074   \n",
              "N_IN_Conn_P_DstIP                 0.959596       0.0  0.959596  0.959596   \n",
              "N_IN_Conn_P_SrcIP                 0.747475  0.010101  0.747475  0.747475   \n",
              "AR_P_Proto_P_Sport                0.000085       0.0  0.000085  0.000085   \n",
              "AR_P_Proto_P_Dport                0.000085       0.0  0.000085  0.000085   \n",
              "Pkts_P_State_P_Protocol_P_DestIP  0.512684       0.0  0.512684  0.512684   \n",
              "Pkts_P_State_P_Protocol_P_SrcIP   0.400534   0.00267  0.400534  0.400534   \n",
              "attack                                 1.0       1.0       1.0       1.0   \n",
              "category                               DoS       DoS       DoS       DoS   \n",
              "subcategory                           HTTP      HTTP      HTTP      HTTP   \n",
              "\n",
              "                                         4  \n",
              "flgs_e                                 1.0  \n",
              "flgs_e *                               0.0  \n",
              "flgs_e d                               0.0  \n",
              "flgs_e g                               0.0  \n",
              "flgs_e s                               0.0  \n",
              "flgs_eU                                0.0  \n",
              "proto_arp                              0.0  \n",
              "proto_tcp                              1.0  \n",
              "proto_udp                              0.0  \n",
              "state_ACC                              0.0  \n",
              "state_CON                              0.0  \n",
              "state_INT                              0.0  \n",
              "state_REQ                              0.0  \n",
              "state_RST                              1.0  \n",
              "pkts                              0.111111  \n",
              "bytes                             0.319669  \n",
              "dur                                0.00453  \n",
              "mean                              0.013009  \n",
              "stddev                            0.026124  \n",
              "sum                               0.005229  \n",
              "min                                    0.0  \n",
              "max                                0.02579  \n",
              "spkts                             0.148148  \n",
              "dpkts                             0.107143  \n",
              "sbytes                            0.159842  \n",
              "dbytes                            0.791667  \n",
              "rate                              0.000126  \n",
              "srate                             0.226387  \n",
              "drate                              0.95143  \n",
              "TnBPSrcIP                         0.760432  \n",
              "TnBPDstIP                         0.975138  \n",
              "TnP_PSrcIP                        0.400534  \n",
              "TnP_PDstIP                        0.512684  \n",
              "TnP_PerProto                      0.514019  \n",
              "TnP_Per_Dport                     0.514019  \n",
              "AR_P_Proto_P_SrcIP                0.000072  \n",
              "AR_P_Proto_P_DstIP                0.000074  \n",
              "N_IN_Conn_P_DstIP                 0.959596  \n",
              "N_IN_Conn_P_SrcIP                 0.747475  \n",
              "AR_P_Proto_P_Sport                0.000085  \n",
              "AR_P_Proto_P_Dport                0.000085  \n",
              "Pkts_P_State_P_Protocol_P_DestIP  0.512684  \n",
              "Pkts_P_State_P_Protocol_P_SrcIP   0.400534  \n",
              "attack                                 1.0  \n",
              "category                               DoS  \n",
              "subcategory                           HTTP  "
            ],
            "text/html": [
              "\n",
              "  <div id=\"df-f354e228-2d65-4e4b-8f80-0c9ca5f69915\">\n",
              "    <div class=\"colab-df-container\">\n",
              "      <div>\n",
              "<style scoped>\n",
              "    .dataframe tbody tr th:only-of-type {\n",
              "        vertical-align: middle;\n",
              "    }\n",
              "\n",
              "    .dataframe tbody tr th {\n",
              "        vertical-align: top;\n",
              "    }\n",
              "\n",
              "    .dataframe thead th {\n",
              "        text-align: right;\n",
              "    }\n",
              "</style>\n",
              "<table border=\"1\" class=\"dataframe\">\n",
              "  <thead>\n",
              "    <tr style=\"text-align: right;\">\n",
              "      <th></th>\n",
              "      <th>0</th>\n",
              "      <th>1</th>\n",
              "      <th>2</th>\n",
              "      <th>3</th>\n",
              "      <th>4</th>\n",
              "    </tr>\n",
              "  </thead>\n",
              "  <tbody>\n",
              "    <tr>\n",
              "      <th>flgs_e</th>\n",
              "      <td>1.0</td>\n",
              "      <td>1.0</td>\n",
              "      <td>1.0</td>\n",
              "      <td>1.0</td>\n",
              "      <td>1.0</td>\n",
              "    </tr>\n",
              "    <tr>\n",
              "      <th>flgs_e *</th>\n",
              "      <td>0.0</td>\n",
              "      <td>0.0</td>\n",
              "      <td>0.0</td>\n",
              "      <td>0.0</td>\n",
              "      <td>0.0</td>\n",
              "    </tr>\n",
              "    <tr>\n",
              "      <th>flgs_e d</th>\n",
              "      <td>0.0</td>\n",
              "      <td>0.0</td>\n",
              "      <td>0.0</td>\n",
              "      <td>0.0</td>\n",
              "      <td>0.0</td>\n",
              "    </tr>\n",
              "    <tr>\n",
              "      <th>flgs_e g</th>\n",
              "      <td>0.0</td>\n",
              "      <td>0.0</td>\n",
              "      <td>0.0</td>\n",
              "      <td>0.0</td>\n",
              "      <td>0.0</td>\n",
              "    </tr>\n",
              "    <tr>\n",
              "      <th>flgs_e s</th>\n",
              "      <td>0.0</td>\n",
              "      <td>0.0</td>\n",
              "      <td>0.0</td>\n",
              "      <td>0.0</td>\n",
              "      <td>0.0</td>\n",
              "    </tr>\n",
              "    <tr>\n",
              "      <th>flgs_eU</th>\n",
              "      <td>0.0</td>\n",
              "      <td>0.0</td>\n",
              "      <td>0.0</td>\n",
              "      <td>0.0</td>\n",
              "      <td>0.0</td>\n",
              "    </tr>\n",
              "    <tr>\n",
              "      <th>proto_arp</th>\n",
              "      <td>0.0</td>\n",
              "      <td>1.0</td>\n",
              "      <td>0.0</td>\n",
              "      <td>0.0</td>\n",
              "      <td>0.0</td>\n",
              "    </tr>\n",
              "    <tr>\n",
              "      <th>proto_tcp</th>\n",
              "      <td>1.0</td>\n",
              "      <td>0.0</td>\n",
              "      <td>1.0</td>\n",
              "      <td>1.0</td>\n",
              "      <td>1.0</td>\n",
              "    </tr>\n",
              "    <tr>\n",
              "      <th>proto_udp</th>\n",
              "      <td>0.0</td>\n",
              "      <td>0.0</td>\n",
              "      <td>0.0</td>\n",
              "      <td>0.0</td>\n",
              "      <td>0.0</td>\n",
              "    </tr>\n",
              "    <tr>\n",
              "      <th>state_ACC</th>\n",
              "      <td>0.0</td>\n",
              "      <td>0.0</td>\n",
              "      <td>0.0</td>\n",
              "      <td>0.0</td>\n",
              "      <td>0.0</td>\n",
              "    </tr>\n",
              "    <tr>\n",
              "      <th>state_CON</th>\n",
              "      <td>0.0</td>\n",
              "      <td>1.0</td>\n",
              "      <td>0.0</td>\n",
              "      <td>0.0</td>\n",
              "      <td>0.0</td>\n",
              "    </tr>\n",
              "    <tr>\n",
              "      <th>state_INT</th>\n",
              "      <td>0.0</td>\n",
              "      <td>0.0</td>\n",
              "      <td>0.0</td>\n",
              "      <td>0.0</td>\n",
              "      <td>0.0</td>\n",
              "    </tr>\n",
              "    <tr>\n",
              "      <th>state_REQ</th>\n",
              "      <td>0.0</td>\n",
              "      <td>0.0</td>\n",
              "      <td>0.0</td>\n",
              "      <td>0.0</td>\n",
              "      <td>0.0</td>\n",
              "    </tr>\n",
              "    <tr>\n",
              "      <th>state_RST</th>\n",
              "      <td>1.0</td>\n",
              "      <td>0.0</td>\n",
              "      <td>1.0</td>\n",
              "      <td>1.0</td>\n",
              "      <td>1.0</td>\n",
              "    </tr>\n",
              "    <tr>\n",
              "      <th>pkts</th>\n",
              "      <td>0.111111</td>\n",
              "      <td>0.0</td>\n",
              "      <td>0.111111</td>\n",
              "      <td>0.111111</td>\n",
              "      <td>0.111111</td>\n",
              "    </tr>\n",
              "    <tr>\n",
              "      <th>bytes</th>\n",
              "      <td>0.270388</td>\n",
              "      <td>0.0</td>\n",
              "      <td>0.291612</td>\n",
              "      <td>0.276784</td>\n",
              "      <td>0.319669</td>\n",
              "    </tr>\n",
              "    <tr>\n",
              "      <th>dur</th>\n",
              "      <td>0.004536</td>\n",
              "      <td>0.0</td>\n",
              "      <td>0.00453</td>\n",
              "      <td>0.00453</td>\n",
              "      <td>0.00453</td>\n",
              "    </tr>\n",
              "    <tr>\n",
              "      <th>mean</th>\n",
              "      <td>0.014031</td>\n",
              "      <td>0.000027</td>\n",
              "      <td>0.013132</td>\n",
              "      <td>0.01307</td>\n",
              "      <td>0.013009</td>\n",
              "    </tr>\n",
              "    <tr>\n",
              "      <th>stddev</th>\n",
              "      <td>0.028178</td>\n",
              "      <td>0.0</td>\n",
              "      <td>0.026372</td>\n",
              "      <td>0.026247</td>\n",
              "      <td>0.026124</td>\n",
              "    </tr>\n",
              "    <tr>\n",
              "      <th>sum</th>\n",
              "      <td>0.00564</td>\n",
              "      <td>0.000005</td>\n",
              "      <td>0.005279</td>\n",
              "      <td>0.005254</td>\n",
              "      <td>0.005229</td>\n",
              "    </tr>\n",
              "    <tr>\n",
              "      <th>min</th>\n",
              "      <td>0.0</td>\n",
              "      <td>0.000027</td>\n",
              "      <td>0.0</td>\n",
              "      <td>0.0</td>\n",
              "      <td>0.0</td>\n",
              "    </tr>\n",
              "    <tr>\n",
              "      <th>max</th>\n",
              "      <td>0.027817</td>\n",
              "      <td>0.000026</td>\n",
              "      <td>0.026035</td>\n",
              "      <td>0.025912</td>\n",
              "      <td>0.02579</td>\n",
              "    </tr>\n",
              "    <tr>\n",
              "      <th>spkts</th>\n",
              "      <td>0.148148</td>\n",
              "      <td>0.0</td>\n",
              "      <td>0.148148</td>\n",
              "      <td>0.148148</td>\n",
              "      <td>0.148148</td>\n",
              "    </tr>\n",
              "    <tr>\n",
              "      <th>dpkts</th>\n",
              "      <td>0.107143</td>\n",
              "      <td>0.035714</td>\n",
              "      <td>0.107143</td>\n",
              "      <td>0.107143</td>\n",
              "      <td>0.107143</td>\n",
              "    </tr>\n",
              "    <tr>\n",
              "      <th>sbytes</th>\n",
              "      <td>0.101514</td>\n",
              "      <td>0.0</td>\n",
              "      <td>0.126635</td>\n",
              "      <td>0.109085</td>\n",
              "      <td>0.159842</td>\n",
              "    </tr>\n",
              "    <tr>\n",
              "      <th>dbytes</th>\n",
              "      <td>0.791667</td>\n",
              "      <td>0.035714</td>\n",
              "      <td>0.791667</td>\n",
              "      <td>0.791667</td>\n",
              "      <td>0.791667</td>\n",
              "    </tr>\n",
              "    <tr>\n",
              "      <th>rate</th>\n",
              "      <td>0.000126</td>\n",
              "      <td>0.969466</td>\n",
              "      <td>0.000126</td>\n",
              "      <td>0.000126</td>\n",
              "      <td>0.000126</td>\n",
              "    </tr>\n",
              "    <tr>\n",
              "      <th>srate</th>\n",
              "      <td>0.226081</td>\n",
              "      <td>0.0</td>\n",
              "      <td>0.226355</td>\n",
              "      <td>0.226363</td>\n",
              "      <td>0.226387</td>\n",
              "    </tr>\n",
              "    <tr>\n",
              "      <th>drate</th>\n",
              "      <td>0.882091</td>\n",
              "      <td>0.0</td>\n",
              "      <td>0.942475</td>\n",
              "      <td>0.946953</td>\n",
              "      <td>0.95143</td>\n",
              "    </tr>\n",
              "    <tr>\n",
              "      <th>TnBPSrcIP</th>\n",
              "      <td>0.760432</td>\n",
              "      <td>0.00116</td>\n",
              "      <td>0.760432</td>\n",
              "      <td>0.760432</td>\n",
              "      <td>0.760432</td>\n",
              "    </tr>\n",
              "    <tr>\n",
              "      <th>TnBPDstIP</th>\n",
              "      <td>0.975138</td>\n",
              "      <td>0.0</td>\n",
              "      <td>0.975138</td>\n",
              "      <td>0.975138</td>\n",
              "      <td>0.975138</td>\n",
              "    </tr>\n",
              "    <tr>\n",
              "      <th>TnP_PSrcIP</th>\n",
              "      <td>0.400534</td>\n",
              "      <td>0.00267</td>\n",
              "      <td>0.400534</td>\n",
              "      <td>0.400534</td>\n",
              "      <td>0.400534</td>\n",
              "    </tr>\n",
              "    <tr>\n",
              "      <th>TnP_PDstIP</th>\n",
              "      <td>0.512684</td>\n",
              "      <td>0.0</td>\n",
              "      <td>0.512684</td>\n",
              "      <td>0.512684</td>\n",
              "      <td>0.512684</td>\n",
              "    </tr>\n",
              "    <tr>\n",
              "      <th>TnP_PerProto</th>\n",
              "      <td>0.514019</td>\n",
              "      <td>0.004005</td>\n",
              "      <td>0.514019</td>\n",
              "      <td>0.514019</td>\n",
              "      <td>0.514019</td>\n",
              "    </tr>\n",
              "    <tr>\n",
              "      <th>TnP_Per_Dport</th>\n",
              "      <td>0.514019</td>\n",
              "      <td>0.004005</td>\n",
              "      <td>0.514019</td>\n",
              "      <td>0.514019</td>\n",
              "      <td>0.514019</td>\n",
              "    </tr>\n",
              "    <tr>\n",
              "      <th>AR_P_Proto_P_SrcIP</th>\n",
              "      <td>0.000072</td>\n",
              "      <td>0.0</td>\n",
              "      <td>0.000072</td>\n",
              "      <td>0.000072</td>\n",
              "      <td>0.000072</td>\n",
              "    </tr>\n",
              "    <tr>\n",
              "      <th>AR_P_Proto_P_DstIP</th>\n",
              "      <td>0.000074</td>\n",
              "      <td>1.0</td>\n",
              "      <td>0.000074</td>\n",
              "      <td>0.000074</td>\n",
              "      <td>0.000074</td>\n",
              "    </tr>\n",
              "    <tr>\n",
              "      <th>N_IN_Conn_P_DstIP</th>\n",
              "      <td>0.959596</td>\n",
              "      <td>0.0</td>\n",
              "      <td>0.959596</td>\n",
              "      <td>0.959596</td>\n",
              "      <td>0.959596</td>\n",
              "    </tr>\n",
              "    <tr>\n",
              "      <th>N_IN_Conn_P_SrcIP</th>\n",
              "      <td>0.747475</td>\n",
              "      <td>0.010101</td>\n",
              "      <td>0.747475</td>\n",
              "      <td>0.747475</td>\n",
              "      <td>0.747475</td>\n",
              "    </tr>\n",
              "    <tr>\n",
              "      <th>AR_P_Proto_P_Sport</th>\n",
              "      <td>0.000085</td>\n",
              "      <td>0.0</td>\n",
              "      <td>0.000085</td>\n",
              "      <td>0.000085</td>\n",
              "      <td>0.000085</td>\n",
              "    </tr>\n",
              "    <tr>\n",
              "      <th>AR_P_Proto_P_Dport</th>\n",
              "      <td>0.000085</td>\n",
              "      <td>0.0</td>\n",
              "      <td>0.000085</td>\n",
              "      <td>0.000085</td>\n",
              "      <td>0.000085</td>\n",
              "    </tr>\n",
              "    <tr>\n",
              "      <th>Pkts_P_State_P_Protocol_P_DestIP</th>\n",
              "      <td>0.512684</td>\n",
              "      <td>0.0</td>\n",
              "      <td>0.512684</td>\n",
              "      <td>0.512684</td>\n",
              "      <td>0.512684</td>\n",
              "    </tr>\n",
              "    <tr>\n",
              "      <th>Pkts_P_State_P_Protocol_P_SrcIP</th>\n",
              "      <td>0.400534</td>\n",
              "      <td>0.00267</td>\n",
              "      <td>0.400534</td>\n",
              "      <td>0.400534</td>\n",
              "      <td>0.400534</td>\n",
              "    </tr>\n",
              "    <tr>\n",
              "      <th>attack</th>\n",
              "      <td>1.0</td>\n",
              "      <td>1.0</td>\n",
              "      <td>1.0</td>\n",
              "      <td>1.0</td>\n",
              "      <td>1.0</td>\n",
              "    </tr>\n",
              "    <tr>\n",
              "      <th>category</th>\n",
              "      <td>DoS</td>\n",
              "      <td>DoS</td>\n",
              "      <td>DoS</td>\n",
              "      <td>DoS</td>\n",
              "      <td>DoS</td>\n",
              "    </tr>\n",
              "    <tr>\n",
              "      <th>subcategory</th>\n",
              "      <td>HTTP</td>\n",
              "      <td>HTTP</td>\n",
              "      <td>HTTP</td>\n",
              "      <td>HTTP</td>\n",
              "      <td>HTTP</td>\n",
              "    </tr>\n",
              "  </tbody>\n",
              "</table>\n",
              "</div>\n",
              "      <button class=\"colab-df-convert\" onclick=\"convertToInteractive('df-f354e228-2d65-4e4b-8f80-0c9ca5f69915')\"\n",
              "              title=\"Convert this dataframe to an interactive table.\"\n",
              "              style=\"display:none;\">\n",
              "        \n",
              "  <svg xmlns=\"http://www.w3.org/2000/svg\" height=\"24px\"viewBox=\"0 0 24 24\"\n",
              "       width=\"24px\">\n",
              "    <path d=\"M0 0h24v24H0V0z\" fill=\"none\"/>\n",
              "    <path d=\"M18.56 5.44l.94 2.06.94-2.06 2.06-.94-2.06-.94-.94-2.06-.94 2.06-2.06.94zm-11 1L8.5 8.5l.94-2.06 2.06-.94-2.06-.94L8.5 2.5l-.94 2.06-2.06.94zm10 10l.94 2.06.94-2.06 2.06-.94-2.06-.94-.94-2.06-.94 2.06-2.06.94z\"/><path d=\"M17.41 7.96l-1.37-1.37c-.4-.4-.92-.59-1.43-.59-.52 0-1.04.2-1.43.59L10.3 9.45l-7.72 7.72c-.78.78-.78 2.05 0 2.83L4 21.41c.39.39.9.59 1.41.59.51 0 1.02-.2 1.41-.59l7.78-7.78 2.81-2.81c.8-.78.8-2.07 0-2.86zM5.41 20L4 18.59l7.72-7.72 1.47 1.35L5.41 20z\"/>\n",
              "  </svg>\n",
              "      </button>\n",
              "      \n",
              "  <style>\n",
              "    .colab-df-container {\n",
              "      display:flex;\n",
              "      flex-wrap:wrap;\n",
              "      gap: 12px;\n",
              "    }\n",
              "\n",
              "    .colab-df-convert {\n",
              "      background-color: #E8F0FE;\n",
              "      border: none;\n",
              "      border-radius: 50%;\n",
              "      cursor: pointer;\n",
              "      display: none;\n",
              "      fill: #1967D2;\n",
              "      height: 32px;\n",
              "      padding: 0 0 0 0;\n",
              "      width: 32px;\n",
              "    }\n",
              "\n",
              "    .colab-df-convert:hover {\n",
              "      background-color: #E2EBFA;\n",
              "      box-shadow: 0px 1px 2px rgba(60, 64, 67, 0.3), 0px 1px 3px 1px rgba(60, 64, 67, 0.15);\n",
              "      fill: #174EA6;\n",
              "    }\n",
              "\n",
              "    [theme=dark] .colab-df-convert {\n",
              "      background-color: #3B4455;\n",
              "      fill: #D2E3FC;\n",
              "    }\n",
              "\n",
              "    [theme=dark] .colab-df-convert:hover {\n",
              "      background-color: #434B5C;\n",
              "      box-shadow: 0px 1px 3px 1px rgba(0, 0, 0, 0.15);\n",
              "      filter: drop-shadow(0px 1px 2px rgba(0, 0, 0, 0.3));\n",
              "      fill: #FFFFFF;\n",
              "    }\n",
              "  </style>\n",
              "\n",
              "      <script>\n",
              "        const buttonEl =\n",
              "          document.querySelector('#df-f354e228-2d65-4e4b-8f80-0c9ca5f69915 button.colab-df-convert');\n",
              "        buttonEl.style.display =\n",
              "          google.colab.kernel.accessAllowed ? 'block' : 'none';\n",
              "\n",
              "        async function convertToInteractive(key) {\n",
              "          const element = document.querySelector('#df-f354e228-2d65-4e4b-8f80-0c9ca5f69915');\n",
              "          const dataTable =\n",
              "            await google.colab.kernel.invokeFunction('convertToInteractive',\n",
              "                                                     [key], {});\n",
              "          if (!dataTable) return;\n",
              "\n",
              "          const docLinkHtml = 'Like what you see? Visit the ' +\n",
              "            '<a target=\"_blank\" href=https://colab.research.google.com/notebooks/data_table.ipynb>data table notebook</a>'\n",
              "            + ' to learn more about interactive tables.';\n",
              "          element.innerHTML = '';\n",
              "          dataTable['output_type'] = 'display_data';\n",
              "          await google.colab.output.renderOutput(dataTable, element);\n",
              "          const docLink = document.createElement('div');\n",
              "          docLink.innerHTML = docLinkHtml;\n",
              "          element.appendChild(docLink);\n",
              "        }\n",
              "      </script>\n",
              "    </div>\n",
              "  </div>\n",
              "  "
            ]
          },
          "metadata": {},
          "execution_count": 51
        }
      ]
    },
    {
      "cell_type": "code",
      "source": [
        "# save the transformed data to csv file\n",
        "\n",
        "normalized_data.to_csv('BoT-IoT_normalized.csv', index=False)"
      ],
      "metadata": {
        "id": "dQ75z6Vr4w2i"
      },
      "execution_count": null,
      "outputs": []
    },
    {
      "cell_type": "markdown",
      "source": [
        "**Till now, basic data-preprocessing involving, handing missing value, duplicate instance, non-numerical value, invalid feature elimination by understanding the data, and normalization by min-max scaling.**"
      ],
      "metadata": {
        "id": "lsMxRPO44J_S"
      }
    },
    {
      "cell_type": "markdown",
      "source": [
        "# 4. Data Processing"
      ],
      "metadata": {
        "id": "9sBh3vNZ_xDr"
      }
    },
    {
      "cell_type": "markdown",
      "source": [
        "## 4.1 Feature ranking"
      ],
      "metadata": {
        "id": "zQQSY31G9_rT"
      }
    },
    {
      "cell_type": "code",
      "source": [
        "from sklearn.feature_selection import SelectKBest\n",
        "from sklearn.feature_selection import chi2\n",
        "\n",
        "data = normalized_data\n",
        "\n",
        "# Set predictor and target variables\n",
        "X = data.drop(['attack', 'category', 'subcategory'], axis =1)\n",
        "y1 = data['attack']\n",
        "y2 = data['category']\n",
        "y3 = data['subcategory']\n",
        "\n",
        "#apply SelectKBest class to extract top 10 best features\n",
        "bestfeatures = SelectKBest(score_func=chi2, k=10)\n",
        "fit = bestfeatures.fit(X,y2)\n",
        "dfscores = pd.DataFrame(fit.scores_)\n",
        "dfcolumns = pd.DataFrame(X.columns)\n",
        "\n",
        "#concat two dataframes for better visualization \n",
        "featureScores = pd.concat([dfcolumns,dfscores],axis=1)\n",
        "featureScores.columns = ['Specs','Score']  #naming the dataframe columns\n",
        "print(featureScores.nlargest(10,'Score'))  #print 10 best features"
      ],
      "metadata": {
        "colab": {
          "base_uri": "https://localhost:8080/",
          "height": 244
        },
        "id": "t4ZnQpgQ_0Sz",
        "outputId": "e7ab8207-2273-427b-86d6-8fd4d225be9a"
      },
      "execution_count": null,
      "outputs": [
        {
          "output_type": "error",
          "ename": "NameError",
          "evalue": "ignored",
          "traceback": [
            "\u001b[0;31m---------------------------------------------------------------------------\u001b[0m",
            "\u001b[0;31mNameError\u001b[0m                                 Traceback (most recent call last)",
            "\u001b[0;32m<ipython-input-1-e99d77bf33ce>\u001b[0m in \u001b[0;36m<module>\u001b[0;34m\u001b[0m\n\u001b[1;32m      2\u001b[0m \u001b[0;32mfrom\u001b[0m \u001b[0msklearn\u001b[0m\u001b[0;34m.\u001b[0m\u001b[0mfeature_selection\u001b[0m \u001b[0;32mimport\u001b[0m \u001b[0mchi2\u001b[0m\u001b[0;34m\u001b[0m\u001b[0;34m\u001b[0m\u001b[0m\n\u001b[1;32m      3\u001b[0m \u001b[0;34m\u001b[0m\u001b[0m\n\u001b[0;32m----> 4\u001b[0;31m \u001b[0mdata\u001b[0m \u001b[0;34m=\u001b[0m \u001b[0mnormalized_data\u001b[0m\u001b[0;34m\u001b[0m\u001b[0;34m\u001b[0m\u001b[0m\n\u001b[0m\u001b[1;32m      5\u001b[0m \u001b[0;34m\u001b[0m\u001b[0m\n\u001b[1;32m      6\u001b[0m \u001b[0;31m# Set predictor and target variables\u001b[0m\u001b[0;34m\u001b[0m\u001b[0;34m\u001b[0m\u001b[0;34m\u001b[0m\u001b[0m\n",
            "\u001b[0;31mNameError\u001b[0m: name 'normalized_data' is not defined"
          ]
        }
      ]
    },
    {
      "cell_type": "code",
      "source": [],
      "metadata": {
        "id": "jHvTVxrv3yGu"
      },
      "execution_count": null,
      "outputs": []
    }
  ]
}